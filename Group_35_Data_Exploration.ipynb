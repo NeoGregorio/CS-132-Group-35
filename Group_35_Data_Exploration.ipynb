{
  "cells": [
    {
      "cell_type": "markdown",
      "metadata": {
        "colab_type": "text",
        "id": "view-in-github"
      },
      "source": [
        "<a href=\"https://colab.research.google.com/github/NeoGregorio/CS-132-Group-35/blob/main/Group_35_Data_Exploration.ipynb\" target=\"_parent\"><img src=\"https://colab.research.google.com/assets/colab-badge.svg\" alt=\"Open In Colab\"/></a>"
      ]
    },
    {
      "cell_type": "markdown",
      "metadata": {
        "id": "ySQo7GQqEJSv"
      },
      "source": [
        "# Preprocessing"
      ]
    },
    {
      "cell_type": "code",
      "execution_count": null,
      "metadata": {
        "colab": {
          "base_uri": "https://localhost:8080/",
          "height": 1000
        },
        "id": "uYYDodTaLUWR",
        "outputId": "af49f879-93b7-43af-e8b4-fdfd2f6fc7ea"
      },
      "outputs": [
        {
          "data": {
            "text/html": [
              "\n",
              "  <div id=\"df-8c69bc17-e6ef-4f44-8a2e-1253dcaf50d0\">\n",
              "    <div class=\"colab-df-container\">\n",
              "      <div>\n",
              "<style scoped>\n",
              "    .dataframe tbody tr th:only-of-type {\n",
              "        vertical-align: middle;\n",
              "    }\n",
              "\n",
              "    .dataframe tbody tr th {\n",
              "        vertical-align: top;\n",
              "    }\n",
              "\n",
              "    .dataframe thead th {\n",
              "        text-align: right;\n",
              "    }\n",
              "</style>\n",
              "<table border=\"1\" class=\"dataframe\">\n",
              "  <thead>\n",
              "    <tr style=\"text-align: right;\">\n",
              "      <th></th>\n",
              "      <th>ID</th>\n",
              "      <th>Timestamp</th>\n",
              "      <th>Tweet URL</th>\n",
              "      <th>Group</th>\n",
              "      <th>Collector</th>\n",
              "      <th>Category</th>\n",
              "      <th>Topic</th>\n",
              "      <th>Keywords</th>\n",
              "      <th>Account handle</th>\n",
              "      <th>Account name</th>\n",
              "      <th>...</th>\n",
              "      <th>Quote Tweets</th>\n",
              "      <th>Views</th>\n",
              "      <th>Rating</th>\n",
              "      <th>Reasoning</th>\n",
              "      <th>Remarks</th>\n",
              "      <th>Add columns here</th>\n",
              "      <th>Add columns here.1</th>\n",
              "      <th>Add columns here.2</th>\n",
              "      <th>Reviewer</th>\n",
              "      <th>Review</th>\n",
              "    </tr>\n",
              "  </thead>\n",
              "  <tbody>\n",
              "    <tr>\n",
              "      <th>0</th>\n",
              "      <td>35-1</td>\n",
              "      <td>12/03/23 16:01:45</td>\n",
              "      <td>https://twitter.com/up_kyla/status/15250434466...</td>\n",
              "      <td>35</td>\n",
              "      <td>Herminio L. Gregorio IV</td>\n",
              "      <td>AQNO</td>\n",
              "      <td>False claims about the validity and presidency...</td>\n",
              "      <td>Marcos, 1986 Snap Election</td>\n",
              "      <td>@up_kyla</td>\n",
              "      <td>AlphaOneRene</td>\n",
              "      <td>...</td>\n",
              "      <td>0</td>\n",
              "      <td>NaN</td>\n",
              "      <td>FALSE</td>\n",
              "      <td>Marcos was persuaded to leave the country by a...</td>\n",
              "      <td>NaN</td>\n",
              "      <td>NaN</td>\n",
              "      <td>NaN</td>\n",
              "      <td>NaN</td>\n",
              "      <td>NaN</td>\n",
              "      <td>NaN</td>\n",
              "    </tr>\n",
              "    <tr>\n",
              "      <th>1</th>\n",
              "      <td>35-2</td>\n",
              "      <td>20/03/23 16:16:00</td>\n",
              "      <td>https://twitter.com/mlleahrb/status/1459139793...</td>\n",
              "      <td>35</td>\n",
              "      <td>James Daniel P. Ducay</td>\n",
              "      <td>AQNO</td>\n",
              "      <td>False claims about the validity and presidency...</td>\n",
              "      <td>EDSA Revolution fake news</td>\n",
              "      <td>@mlleahrb</td>\n",
              "      <td>𝓪𝓻𝓲𝓪𝓷𝓷𝓮 ♊❤️💚</td>\n",
              "      <td>...</td>\n",
              "      <td>0</td>\n",
              "      <td>NaN</td>\n",
              "      <td>MISLEADING</td>\n",
              "      <td>The EDSA revolution was led by the people to r...</td>\n",
              "      <td>This tweet quotes the tweet: https://twitter.c...</td>\n",
              "      <td>NaN</td>\n",
              "      <td>NaN</td>\n",
              "      <td>NaN</td>\n",
              "      <td>NaN</td>\n",
              "      <td>NaN</td>\n",
              "    </tr>\n",
              "    <tr>\n",
              "      <th>2</th>\n",
              "      <td>35-3</td>\n",
              "      <td>20/03/23 17:09:11</td>\n",
              "      <td>https://twitter.com/CLoveadore/status/15360689...</td>\n",
              "      <td>35</td>\n",
              "      <td>James Daniel P. Ducay</td>\n",
              "      <td>AQNO</td>\n",
              "      <td>False claims about the validity and presidency...</td>\n",
              "      <td>EDSA Revolution fake news</td>\n",
              "      <td>@CLoveadore</td>\n",
              "      <td>malditang lola</td>\n",
              "      <td>...</td>\n",
              "      <td>0</td>\n",
              "      <td>NaN</td>\n",
              "      <td>UNPROVEN</td>\n",
              "      <td>Although USA has a role during the EDSA revolu...</td>\n",
              "      <td>NaN</td>\n",
              "      <td>NaN</td>\n",
              "      <td>NaN</td>\n",
              "      <td>NaN</td>\n",
              "      <td>NaN</td>\n",
              "      <td>NaN</td>\n",
              "    </tr>\n",
              "    <tr>\n",
              "      <th>3</th>\n",
              "      <td>35-4</td>\n",
              "      <td>20/03/23 18:32:09</td>\n",
              "      <td>https://twitter.com/AntiPPropaganda/status/153...</td>\n",
              "      <td>35</td>\n",
              "      <td>James Daniel P. Ducay</td>\n",
              "      <td>AQNO</td>\n",
              "      <td>False claims about the validity and presidency...</td>\n",
              "      <td>EDSA Revolution fake news</td>\n",
              "      <td>@AntiPPropaganda</td>\n",
              "      <td>Anti Pink Propaganda</td>\n",
              "      <td>...</td>\n",
              "      <td>0</td>\n",
              "      <td>NaN</td>\n",
              "      <td>UNPROVEN</td>\n",
              "      <td>Although USA has a role during the EDSA revolu...</td>\n",
              "      <td>NaN</td>\n",
              "      <td>NaN</td>\n",
              "      <td>NaN</td>\n",
              "      <td>NaN</td>\n",
              "      <td>NaN</td>\n",
              "      <td>NaN</td>\n",
              "    </tr>\n",
              "    <tr>\n",
              "      <th>4</th>\n",
              "      <td>35-5</td>\n",
              "      <td>20/03/23 20:00:05</td>\n",
              "      <td>https://twitter.com/ThePaladin33/status/150937...</td>\n",
              "      <td>35</td>\n",
              "      <td>James Daniel P. Ducay</td>\n",
              "      <td>AQNO</td>\n",
              "      <td>False claims about the validity and presidency...</td>\n",
              "      <td>Cory Communist</td>\n",
              "      <td>@ThePaladin33</td>\n",
              "      <td>Sagittarius33</td>\n",
              "      <td>...</td>\n",
              "      <td>0</td>\n",
              "      <td>NaN</td>\n",
              "      <td>UNPROVEN</td>\n",
              "      <td>There were no proof that Cory convined with co...</td>\n",
              "      <td>NaN</td>\n",
              "      <td>NaN</td>\n",
              "      <td>NaN</td>\n",
              "      <td>NaN</td>\n",
              "      <td>NaN</td>\n",
              "      <td>NaN</td>\n",
              "    </tr>\n",
              "    <tr>\n",
              "      <th>...</th>\n",
              "      <td>...</td>\n",
              "      <td>...</td>\n",
              "      <td>...</td>\n",
              "      <td>...</td>\n",
              "      <td>...</td>\n",
              "      <td>...</td>\n",
              "      <td>...</td>\n",
              "      <td>...</td>\n",
              "      <td>...</td>\n",
              "      <td>...</td>\n",
              "      <td>...</td>\n",
              "      <td>...</td>\n",
              "      <td>...</td>\n",
              "      <td>...</td>\n",
              "      <td>...</td>\n",
              "      <td>...</td>\n",
              "      <td>...</td>\n",
              "      <td>...</td>\n",
              "      <td>...</td>\n",
              "      <td>...</td>\n",
              "      <td>...</td>\n",
              "    </tr>\n",
              "    <tr>\n",
              "      <th>145</th>\n",
              "      <td>35-146</td>\n",
              "      <td>18/04/23 20:43:26</td>\n",
              "      <td>https://twitter.com/yap_dimaala/status/1451669...</td>\n",
              "      <td>35</td>\n",
              "      <td>Glenn Walter V. Lim</td>\n",
              "      <td>AQNO</td>\n",
              "      <td>False claims about the validity and presidency...</td>\n",
              "      <td>cory aquino trillion debt</td>\n",
              "      <td>@yap_dimaala</td>\n",
              "      <td>Maryam</td>\n",
              "      <td>...</td>\n",
              "      <td>0</td>\n",
              "      <td>NaN</td>\n",
              "      <td>FALSE</td>\n",
              "      <td>FALSE: National debt during Cory Aquino’s term...</td>\n",
              "      <td>This tweet is a reply to: https://twitter.com/...</td>\n",
              "      <td>NaN</td>\n",
              "      <td>NaN</td>\n",
              "      <td>NaN</td>\n",
              "      <td>NaN</td>\n",
              "      <td>NaN</td>\n",
              "    </tr>\n",
              "    <tr>\n",
              "      <th>146</th>\n",
              "      <td>35-147</td>\n",
              "      <td>18/04/23 20:57:20</td>\n",
              "      <td>https://twitter.com/grecoroman777/status/15021...</td>\n",
              "      <td>35</td>\n",
              "      <td>Glenn Walter V. Lim</td>\n",
              "      <td>AQNO</td>\n",
              "      <td>False claims about the validity and presidency...</td>\n",
              "      <td>cory aquino 1 trillion, budget</td>\n",
              "      <td>@grecoroman777</td>\n",
              "      <td>Spartan</td>\n",
              "      <td>...</td>\n",
              "      <td>0</td>\n",
              "      <td>NaN</td>\n",
              "      <td>FALSE</td>\n",
              "      <td>FALSE: ‘NSO’ figures comparing spending budget...</td>\n",
              "      <td>NaN</td>\n",
              "      <td>NaN</td>\n",
              "      <td>NaN</td>\n",
              "      <td>NaN</td>\n",
              "      <td>NaN</td>\n",
              "      <td>NaN</td>\n",
              "    </tr>\n",
              "    <tr>\n",
              "      <th>147</th>\n",
              "      <td>35-148</td>\n",
              "      <td>18/04/23 21:00:02</td>\n",
              "      <td>https://twitter.com/AnyaRedlily/status/1524267...</td>\n",
              "      <td>35</td>\n",
              "      <td>Glenn Walter V. Lim</td>\n",
              "      <td>AQNO</td>\n",
              "      <td>False claims about the validity and presidency...</td>\n",
              "      <td>cory aquino 1 trillion, budget</td>\n",
              "      <td>@AnyaRedlily</td>\n",
              "      <td>Anya</td>\n",
              "      <td>...</td>\n",
              "      <td>0</td>\n",
              "      <td>NaN</td>\n",
              "      <td>FALSE</td>\n",
              "      <td>FALSE: ‘NSO’ figures comparing spending budget...</td>\n",
              "      <td>This tweet is a reply to: https://twitter.com/...</td>\n",
              "      <td>NaN</td>\n",
              "      <td>NaN</td>\n",
              "      <td>NaN</td>\n",
              "      <td>NaN</td>\n",
              "      <td>NaN</td>\n",
              "    </tr>\n",
              "    <tr>\n",
              "      <th>148</th>\n",
              "      <td>35-149</td>\n",
              "      <td>18/04/23 21:03:47</td>\n",
              "      <td>https://twitter.com/smllslktnspt/status/149239...</td>\n",
              "      <td>35</td>\n",
              "      <td>Glenn Walter V. Lim</td>\n",
              "      <td>AQNO</td>\n",
              "      <td>False claims about the validity and presidency...</td>\n",
              "      <td>cory aquino 1 trillion, budget</td>\n",
              "      <td>@smllslktnspt</td>\n",
              "      <td>Nvna</td>\n",
              "      <td>...</td>\n",
              "      <td>0</td>\n",
              "      <td>NaN</td>\n",
              "      <td>FALSE</td>\n",
              "      <td>FALSE: ‘NSO’ figures comparing spending budget...</td>\n",
              "      <td>This tweet is a reply to: https://twitter.com/...</td>\n",
              "      <td>NaN</td>\n",
              "      <td>NaN</td>\n",
              "      <td>NaN</td>\n",
              "      <td>NaN</td>\n",
              "      <td>NaN</td>\n",
              "    </tr>\n",
              "    <tr>\n",
              "      <th>149</th>\n",
              "      <td>35-150</td>\n",
              "      <td>18/04/23 21:06:07</td>\n",
              "      <td>https://twitter.com/Maris53441812/status/14401...</td>\n",
              "      <td>35</td>\n",
              "      <td>Glenn Walter V. Lim</td>\n",
              "      <td>AQNO</td>\n",
              "      <td>False claims about the validity and presidency...</td>\n",
              "      <td>cory aquino 1 trillion, budget</td>\n",
              "      <td>@Maris53441812</td>\n",
              "      <td>Maris</td>\n",
              "      <td>...</td>\n",
              "      <td>0</td>\n",
              "      <td>NaN</td>\n",
              "      <td>FALSE</td>\n",
              "      <td>FALSE: ‘NSO’ figures comparing spending budget...</td>\n",
              "      <td>This tweet is a reply to: https://twitter.com/...</td>\n",
              "      <td>NaN</td>\n",
              "      <td>NaN</td>\n",
              "      <td>NaN</td>\n",
              "      <td>NaN</td>\n",
              "      <td>NaN</td>\n",
              "    </tr>\n",
              "  </tbody>\n",
              "</table>\n",
              "<p>150 rows × 35 columns</p>\n",
              "</div>\n",
              "      <button class=\"colab-df-convert\" onclick=\"convertToInteractive('df-8c69bc17-e6ef-4f44-8a2e-1253dcaf50d0')\"\n",
              "              title=\"Convert this dataframe to an interactive table.\"\n",
              "              style=\"display:none;\">\n",
              "        \n",
              "  <svg xmlns=\"http://www.w3.org/2000/svg\" height=\"24px\"viewBox=\"0 0 24 24\"\n",
              "       width=\"24px\">\n",
              "    <path d=\"M0 0h24v24H0V0z\" fill=\"none\"/>\n",
              "    <path d=\"M18.56 5.44l.94 2.06.94-2.06 2.06-.94-2.06-.94-.94-2.06-.94 2.06-2.06.94zm-11 1L8.5 8.5l.94-2.06 2.06-.94-2.06-.94L8.5 2.5l-.94 2.06-2.06.94zm10 10l.94 2.06.94-2.06 2.06-.94-2.06-.94-.94-2.06-.94 2.06-2.06.94z\"/><path d=\"M17.41 7.96l-1.37-1.37c-.4-.4-.92-.59-1.43-.59-.52 0-1.04.2-1.43.59L10.3 9.45l-7.72 7.72c-.78.78-.78 2.05 0 2.83L4 21.41c.39.39.9.59 1.41.59.51 0 1.02-.2 1.41-.59l7.78-7.78 2.81-2.81c.8-.78.8-2.07 0-2.86zM5.41 20L4 18.59l7.72-7.72 1.47 1.35L5.41 20z\"/>\n",
              "  </svg>\n",
              "      </button>\n",
              "      \n",
              "  <style>\n",
              "    .colab-df-container {\n",
              "      display:flex;\n",
              "      flex-wrap:wrap;\n",
              "      gap: 12px;\n",
              "    }\n",
              "\n",
              "    .colab-df-convert {\n",
              "      background-color: #E8F0FE;\n",
              "      border: none;\n",
              "      border-radius: 50%;\n",
              "      cursor: pointer;\n",
              "      display: none;\n",
              "      fill: #1967D2;\n",
              "      height: 32px;\n",
              "      padding: 0 0 0 0;\n",
              "      width: 32px;\n",
              "    }\n",
              "\n",
              "    .colab-df-convert:hover {\n",
              "      background-color: #E2EBFA;\n",
              "      box-shadow: 0px 1px 2px rgba(60, 64, 67, 0.3), 0px 1px 3px 1px rgba(60, 64, 67, 0.15);\n",
              "      fill: #174EA6;\n",
              "    }\n",
              "\n",
              "    [theme=dark] .colab-df-convert {\n",
              "      background-color: #3B4455;\n",
              "      fill: #D2E3FC;\n",
              "    }\n",
              "\n",
              "    [theme=dark] .colab-df-convert:hover {\n",
              "      background-color: #434B5C;\n",
              "      box-shadow: 0px 1px 3px 1px rgba(0, 0, 0, 0.15);\n",
              "      filter: drop-shadow(0px 1px 2px rgba(0, 0, 0, 0.3));\n",
              "      fill: #FFFFFF;\n",
              "    }\n",
              "  </style>\n",
              "\n",
              "      <script>\n",
              "        const buttonEl =\n",
              "          document.querySelector('#df-8c69bc17-e6ef-4f44-8a2e-1253dcaf50d0 button.colab-df-convert');\n",
              "        buttonEl.style.display =\n",
              "          google.colab.kernel.accessAllowed ? 'block' : 'none';\n",
              "\n",
              "        async function convertToInteractive(key) {\n",
              "          const element = document.querySelector('#df-8c69bc17-e6ef-4f44-8a2e-1253dcaf50d0');\n",
              "          const dataTable =\n",
              "            await google.colab.kernel.invokeFunction('convertToInteractive',\n",
              "                                                     [key], {});\n",
              "          if (!dataTable) return;\n",
              "\n",
              "          const docLinkHtml = 'Like what you see? Visit the ' +\n",
              "            '<a target=\"_blank\" href=https://colab.research.google.com/notebooks/data_table.ipynb>data table notebook</a>'\n",
              "            + ' to learn more about interactive tables.';\n",
              "          element.innerHTML = '';\n",
              "          dataTable['output_type'] = 'display_data';\n",
              "          await google.colab.output.renderOutput(dataTable, element);\n",
              "          const docLink = document.createElement('div');\n",
              "          docLink.innerHTML = docLinkHtml;\n",
              "          element.appendChild(docLink);\n",
              "        }\n",
              "      </script>\n",
              "    </div>\n",
              "  </div>\n",
              "  "
            ],
            "text/plain": [
              "         ID          Timestamp  \\\n",
              "0      35-1  12/03/23 16:01:45   \n",
              "1      35-2  20/03/23 16:16:00   \n",
              "2      35-3  20/03/23 17:09:11   \n",
              "3      35-4  20/03/23 18:32:09   \n",
              "4      35-5  20/03/23 20:00:05   \n",
              "..      ...                ...   \n",
              "145  35-146  18/04/23 20:43:26   \n",
              "146  35-147  18/04/23 20:57:20   \n",
              "147  35-148  18/04/23 21:00:02   \n",
              "148  35-149  18/04/23 21:03:47   \n",
              "149  35-150  18/04/23 21:06:07   \n",
              "\n",
              "                                             Tweet URL  Group  \\\n",
              "0    https://twitter.com/up_kyla/status/15250434466...     35   \n",
              "1    https://twitter.com/mlleahrb/status/1459139793...     35   \n",
              "2    https://twitter.com/CLoveadore/status/15360689...     35   \n",
              "3    https://twitter.com/AntiPPropaganda/status/153...     35   \n",
              "4    https://twitter.com/ThePaladin33/status/150937...     35   \n",
              "..                                                 ...    ...   \n",
              "145  https://twitter.com/yap_dimaala/status/1451669...     35   \n",
              "146  https://twitter.com/grecoroman777/status/15021...     35   \n",
              "147  https://twitter.com/AnyaRedlily/status/1524267...     35   \n",
              "148  https://twitter.com/smllslktnspt/status/149239...     35   \n",
              "149  https://twitter.com/Maris53441812/status/14401...     35   \n",
              "\n",
              "                   Collector Category  \\\n",
              "0    Herminio L. Gregorio IV     AQNO   \n",
              "1      James Daniel P. Ducay     AQNO   \n",
              "2      James Daniel P. Ducay     AQNO   \n",
              "3      James Daniel P. Ducay     AQNO   \n",
              "4      James Daniel P. Ducay     AQNO   \n",
              "..                       ...      ...   \n",
              "145      Glenn Walter V. Lim     AQNO   \n",
              "146      Glenn Walter V. Lim     AQNO   \n",
              "147      Glenn Walter V. Lim     AQNO   \n",
              "148      Glenn Walter V. Lim     AQNO   \n",
              "149      Glenn Walter V. Lim     AQNO   \n",
              "\n",
              "                                                 Topic  \\\n",
              "0    False claims about the validity and presidency...   \n",
              "1    False claims about the validity and presidency...   \n",
              "2    False claims about the validity and presidency...   \n",
              "3    False claims about the validity and presidency...   \n",
              "4    False claims about the validity and presidency...   \n",
              "..                                                 ...   \n",
              "145  False claims about the validity and presidency...   \n",
              "146  False claims about the validity and presidency...   \n",
              "147  False claims about the validity and presidency...   \n",
              "148  False claims about the validity and presidency...   \n",
              "149  False claims about the validity and presidency...   \n",
              "\n",
              "                           Keywords    Account handle          Account name  \\\n",
              "0        Marcos, 1986 Snap Election          @up_kyla          AlphaOneRene   \n",
              "1         EDSA Revolution fake news         @mlleahrb          𝓪𝓻𝓲𝓪𝓷𝓷𝓮 ♊❤️💚   \n",
              "2         EDSA Revolution fake news       @CLoveadore        malditang lola   \n",
              "3         EDSA Revolution fake news  @AntiPPropaganda  Anti Pink Propaganda   \n",
              "4                    Cory Communist     @ThePaladin33         Sagittarius33   \n",
              "..                              ...               ...                   ...   \n",
              "145       cory aquino trillion debt      @yap_dimaala                Maryam   \n",
              "146  cory aquino 1 trillion, budget    @grecoroman777               Spartan   \n",
              "147  cory aquino 1 trillion, budget      @AnyaRedlily                  Anya   \n",
              "148  cory aquino 1 trillion, budget     @smllslktnspt                  Nvna   \n",
              "149  cory aquino 1 trillion, budget    @Maris53441812                 Maris   \n",
              "\n",
              "     ... Quote Tweets Views      Rating  \\\n",
              "0    ...            0   NaN       FALSE   \n",
              "1    ...            0   NaN  MISLEADING   \n",
              "2    ...            0   NaN    UNPROVEN   \n",
              "3    ...            0   NaN    UNPROVEN   \n",
              "4    ...            0   NaN    UNPROVEN   \n",
              "..   ...          ...   ...         ...   \n",
              "145  ...            0   NaN       FALSE   \n",
              "146  ...            0   NaN       FALSE   \n",
              "147  ...            0   NaN       FALSE   \n",
              "148  ...            0   NaN       FALSE   \n",
              "149  ...            0   NaN       FALSE   \n",
              "\n",
              "                                             Reasoning  \\\n",
              "0    Marcos was persuaded to leave the country by a...   \n",
              "1    The EDSA revolution was led by the people to r...   \n",
              "2    Although USA has a role during the EDSA revolu...   \n",
              "3    Although USA has a role during the EDSA revolu...   \n",
              "4    There were no proof that Cory convined with co...   \n",
              "..                                                 ...   \n",
              "145  FALSE: National debt during Cory Aquino’s term...   \n",
              "146  FALSE: ‘NSO’ figures comparing spending budget...   \n",
              "147  FALSE: ‘NSO’ figures comparing spending budget...   \n",
              "148  FALSE: ‘NSO’ figures comparing spending budget...   \n",
              "149  FALSE: ‘NSO’ figures comparing spending budget...   \n",
              "\n",
              "                                               Remarks Add columns here  \\\n",
              "0                                                  NaN              NaN   \n",
              "1    This tweet quotes the tweet: https://twitter.c...              NaN   \n",
              "2                                                  NaN              NaN   \n",
              "3                                                  NaN              NaN   \n",
              "4                                                  NaN              NaN   \n",
              "..                                                 ...              ...   \n",
              "145  This tweet is a reply to: https://twitter.com/...              NaN   \n",
              "146                                                NaN              NaN   \n",
              "147  This tweet is a reply to: https://twitter.com/...              NaN   \n",
              "148  This tweet is a reply to: https://twitter.com/...              NaN   \n",
              "149  This tweet is a reply to: https://twitter.com/...              NaN   \n",
              "\n",
              "    Add columns here.1  Add columns here.2 Reviewer Review  \n",
              "0                  NaN                 NaN      NaN    NaN  \n",
              "1                  NaN                 NaN      NaN    NaN  \n",
              "2                  NaN                 NaN      NaN    NaN  \n",
              "3                  NaN                 NaN      NaN    NaN  \n",
              "4                  NaN                 NaN      NaN    NaN  \n",
              "..                 ...                 ...      ...    ...  \n",
              "145                NaN                 NaN      NaN    NaN  \n",
              "146                NaN                 NaN      NaN    NaN  \n",
              "147                NaN                 NaN      NaN    NaN  \n",
              "148                NaN                 NaN      NaN    NaN  \n",
              "149                NaN                 NaN      NaN    NaN  \n",
              "\n",
              "[150 rows x 35 columns]"
            ]
          },
          "execution_count": 35,
          "metadata": {},
          "output_type": "execute_result"
        }
      ],
      "source": [
        "# Load Data\n",
        "import pandas as pd\n",
        "import csv\n",
        "import matplotlib.pyplot as plt\n",
        "import matplotlib.dates as mdates\n",
        "import seaborn as sns\n",
        "import nltk\n",
        "import urllib\n",
        "import datetime as dt\n",
        "import scipy.stats as stats\n",
        "\n",
        "dataset_url = \"https://drive.google.com/file/d/1Bb3G5goi4CRAHZAJey7wGlgf_15Dx6iU/view?usp=sharing\"\n",
        "dataset_url = 'https://drive.google.com/uc?id=' + dataset_url.split('/')[-2]\n",
        "df = pd.read_csv(dataset_url, header=0)\n",
        "df"
      ]
    },
    {
      "cell_type": "code",
      "execution_count": null,
      "metadata": {
        "colab": {
          "base_uri": "https://localhost:8080/"
        },
        "id": "m0CtClOxM3JY",
        "outputId": "6f832f06-6f94-478f-e19b-1e8adbdffb50"
      },
      "outputs": [
        {
          "data": {
            "text/plain": [
              "array(['Timestamp', 'Tweet URL', 'Keywords', 'Account handle',\n",
              "       'Account name', 'Account bio', 'Account type', 'Joined',\n",
              "       'Following', 'Followers', 'Location', 'Tweet', 'Tweet Type',\n",
              "       'Date posted', 'Screenshot', 'Content type', 'Likes', 'Replies',\n",
              "       'Retweets', 'Quote Tweets', 'Rating', 'Reasoning'], dtype=object)"
            ]
          },
          "execution_count": 36,
          "metadata": {},
          "output_type": "execute_result"
        }
      ],
      "source": [
        "# Preprocessing\n",
        "# Remove useless and NaN columns\n",
        "df_preprocessed = df.copy(deep=True).iloc[:, 0:29].drop([\"Views\",\"Group\",\"Collector\",\"Topic\",\"Tweet Translated\",\"Category\",\"ID\"],axis=1)\n",
        "df_preprocessed.columns.values"
      ]
    },
    {
      "cell_type": "code",
      "execution_count": null,
      "metadata": {
        "colab": {
          "base_uri": "https://localhost:8080/",
          "height": 611
        },
        "id": "nLFK3vmrp1Fn",
        "outputId": "7c7e1313-f75a-4ffd-ed16-1f25df8de759"
      },
      "outputs": [
        {
          "name": "stdout",
          "output_type": "stream",
          "text": [
            "Mean Date Posted is 2021-04-14 02:09:15.200000 \n",
            "\n",
            "Outliers in Terms of Date Posted: \n",
            "\n",
            "2016-04-21 04:53:44.911470\n",
            "2016-02-09 13:02:12.089745\n",
            "2016-04-18 17:04:45.914481\n",
            "2016-04-18 17:05:46.115487\n"
          ]
        },
        {
          "data": {
            "image/png": "[encoded data removed]",
            "text/plain": [
              "<Figure size 640x480 with 1 Axes>"
            ]
          },
          "metadata": {},
          "output_type": "display_data"
        }
      ],
      "source": [
        "# Date Posted Mean and Z-scores\n",
        "\n",
        "mean_date = df_preprocessed[\"Date posted\"].mean()\n",
        "delta = dt.timedelta(mean_date)\n",
        "reference_date = dt.datetime(1970, 1, 1)\n",
        "result_date = reference_date + delta\n",
        "print(\"Mean Date Posted is\", result_date, \"\\n\")\n",
        "\n",
        "date_posted_zscores = stats.zscore(df_preprocessed[\"Date posted\"] )\n",
        "\n",
        "plt.bar(range(0,150), date_posted_zscores)\n",
        "plt.xlabel(\"Data Sample\")\n",
        "plt.ylabel(\"Z-Scores\")\n",
        "plt.title(\"Date Posted Z-Scores\")\n",
        "plt.plot((0, 150), (1, 1), 'g-')        # 1 sd\n",
        "plt.plot((0, 150), (0, 0), 'r-')        # mean\n",
        "plt.plot((0, 150), (-1, -1), 'y-')      # -1 sd\n",
        "plt.plot((0, 150), (-2, -2), 'y-')      # -1 sd\n",
        "plt.plot((0, 150), (-3, -3), 'y-')      # -3 sd\n",
        "\n",
        "# Handling Outliers: Handling using Boolean Marking to specify outliers\n",
        "# In terms of the date posted, there are 4 outliers in the data set\n",
        "date_posted_zscores = stats.zscore(df_preprocessed[\"Date posted\"] )\n",
        "std = (df_preprocessed[\"Date posted\"]).std()\n",
        "\n",
        "reference_date = dt.datetime(1970, 1, 1)\n",
        "print(\"Outliers in Terms of Date Posted: \\n\")\n",
        "for date in date_posted_zscores:\n",
        "    if date <= -3 or date >= 3:\n",
        "        back = (date * std) + mean_date\n",
        "        delta = dt.timedelta(back)\n",
        "        result_date = reference_date + delta\n",
        "        print(result_date)\n",
        "        "
      ]
    },
    {
      "cell_type": "code",
      "execution_count": null,
      "metadata": {
        "colab": {
          "base_uri": "https://localhost:8080/"
        },
        "id": "BxGxui4d-Dju",
        "outputId": "e2b36922-244d-4d1e-9e57-edfbe77fd949"
      },
      "outputs": [
        {
          "data": {
            "text/plain": [
              "19493.2792077936"
            ]
          },
          "execution_count": 15,
          "metadata": {},
          "output_type": "execute_result"
        }
      ],
      "source": [
        "mdates.date2num(dt.datetime.now())"
      ]
    },
    {
      "cell_type": "code",
      "execution_count": null,
      "metadata": {
        "colab": {
          "base_uri": "https://localhost:8080/"
        },
        "id": "OBR9RGcy-GMq",
        "outputId": "126f0b18-70dc-44e0-bd5a-5ba6ce8eb5f5"
      },
      "outputs": [
        {
          "data": {
            "text/plain": [
              "array([19410., 19436., 19527., 19499., 19406., 19558., 19674., 19380.,\n",
              "       19615., 19681., 19465., 19583., 19558., 19520., 19436., 19644.,\n",
              "       19706., 19524., 19487., 19706., 19403., 19583., 19559., 19527.,\n",
              "       19487., 19369., 19486., 19427., 19495., 19556., 19435., 19410.,\n",
              "       19433., 19651., 19683., 19407., 19487., 19400., 19438., 19436.,\n",
              "       19458., 19708., 19708., 19708., 19493., 19487., 19547., 19497.,\n",
              "       19407., 19530., 19706., 19468., 19612., 19461., 19558., 19426.,\n",
              "       19558., 19456., 19707., 19408., 19651., 19410., 19682., 19649.,\n",
              "       19462., 19585., 19436., 19620., 19469., 19671., 19618., 19583.,\n",
              "       19520., 19675., 19646., 19673., 19467., 19580., 19609., 19671.,\n",
              "       19404., 19433., 19376., 19647., 19428., 19712., 19406., 19368.,\n",
              "       19677., 19438., 19645., 19589., 19710., 19409., 19651., 19434.,\n",
              "       19433., 19435., 19409., 19470., 19590., 19370., 19620., 19377.,\n",
              "       19621., 19651., 19619., 19679., 19712., 19678., 19619., 19678.,\n",
              "       19609., 19609., 19621., 19463., 19469., 19409., 19651., 19651.,\n",
              "       19682., 19619., 19529., 19438., 19679., 19711., 19497., 19684.,\n",
              "       19398., 19524., 19681., 19621., 19615., 19407., 19586., 19579.,\n",
              "       19433., 19458., 19554., 19530., 19683., 19469., 19615., 19615.,\n",
              "       19375., 19651., 19621., 19587., 19528., 19621.])"
            ]
          },
          "execution_count": 16,
          "metadata": {},
          "output_type": "execute_result"
        }
      ],
      "source": [
        "mdates.datestr2num(df_preprocessed[\"Joined\"])"
      ]
    },
    {
      "cell_type": "code",
      "execution_count": null,
      "metadata": {
        "colab": {
          "base_uri": "https://localhost:8080/",
          "height": 380
        },
        "id": "eIT0bIBu4-qA",
        "outputId": "6a123e99-2bc7-422e-d006-ee72f29f9b6e"
      },
      "outputs": [
        {
          "ename": "TypeError",
          "evalue": "ignored",
          "output_type": "error",
          "traceback": [
            "\u001b[0;31m---------------------------------------------------------------------------\u001b[0m",
            "\u001b[0;31mTypeError\u001b[0m                                 Traceback (most recent call last)",
            "\u001b[0;32m<ipython-input-67-5bff34f9e0d5>\u001b[0m in \u001b[0;36m<cell line: 2>\u001b[0;34m()\u001b[0m\n\u001b[1;32m      1\u001b[0m \u001b[0;31m# Change dates to timestamps\u001b[0m\u001b[0;34m\u001b[0m\u001b[0;34m\u001b[0m\u001b[0m\n\u001b[0;32m----> 2\u001b[0;31m \u001b[0mdf_preprocessed\u001b[0m\u001b[0;34m[\u001b[0m\u001b[0;34m\"Date posted\"\u001b[0m\u001b[0;34m]\u001b[0m \u001b[0;34m=\u001b[0m \u001b[0mmdates\u001b[0m\u001b[0;34m.\u001b[0m\u001b[0mdatestr2num\u001b[0m\u001b[0;34m(\u001b[0m\u001b[0mdf_preprocessed\u001b[0m\u001b[0;34m[\u001b[0m\u001b[0;34m\"Date posted\"\u001b[0m\u001b[0;34m]\u001b[0m\u001b[0;34m)\u001b[0m\u001b[0;34m\u001b[0m\u001b[0;34m\u001b[0m\u001b[0m\n\u001b[0m\u001b[1;32m      3\u001b[0m \u001b[0;34m\u001b[0m\u001b[0m\n\u001b[1;32m      4\u001b[0m \u001b[0;31m# Remove Whitespace from Joined\u001b[0m\u001b[0;34m\u001b[0m\u001b[0;34m\u001b[0m\u001b[0m\n\u001b[1;32m      5\u001b[0m \u001b[0mdf_preprocessed\u001b[0m\u001b[0;34m[\u001b[0m\u001b[0;34m\"Joined\"\u001b[0m\u001b[0;34m]\u001b[0m \u001b[0;34m=\u001b[0m \u001b[0;34m[\u001b[0m\u001b[0mdatestr\u001b[0m\u001b[0;34m.\u001b[0m\u001b[0mreplace\u001b[0m\u001b[0;34m(\u001b[0m\u001b[0;34m\" \"\u001b[0m\u001b[0;34m,\u001b[0m \u001b[0;34m\"\"\u001b[0m\u001b[0;34m)\u001b[0m \u001b[0;32mfor\u001b[0m \u001b[0mdatestr\u001b[0m \u001b[0;32min\u001b[0m \u001b[0mdf_preprocessed\u001b[0m\u001b[0;34m[\u001b[0m\u001b[0;34m\"Joined\"\u001b[0m\u001b[0;34m]\u001b[0m\u001b[0;34m]\u001b[0m\u001b[0;34m\u001b[0m\u001b[0;34m\u001b[0m\u001b[0m\n",
            "\u001b[0;32m/usr/local/lib/python3.10/dist-packages/matplotlib/dates.py\u001b[0m in \u001b[0;36mdatestr2num\u001b[0;34m(d, default)\u001b[0m\n\u001b[1;32m    413\u001b[0m         \u001b[0;32mif\u001b[0m \u001b[0;32mnot\u001b[0m \u001b[0md\u001b[0m\u001b[0;34m.\u001b[0m\u001b[0msize\u001b[0m\u001b[0;34m:\u001b[0m\u001b[0;34m\u001b[0m\u001b[0;34m\u001b[0m\u001b[0m\n\u001b[1;32m    414\u001b[0m             \u001b[0;32mreturn\u001b[0m \u001b[0md\u001b[0m\u001b[0;34m\u001b[0m\u001b[0;34m\u001b[0m\u001b[0m\n\u001b[0;32m--> 415\u001b[0;31m         \u001b[0;32mreturn\u001b[0m \u001b[0mdate2num\u001b[0m\u001b[0;34m(\u001b[0m\u001b[0m_dateutil_parser_parse_np_vectorized\u001b[0m\u001b[0;34m(\u001b[0m\u001b[0md\u001b[0m\u001b[0;34m)\u001b[0m\u001b[0;34m)\u001b[0m\u001b[0;34m\u001b[0m\u001b[0;34m\u001b[0m\u001b[0m\n\u001b[0m\u001b[1;32m    416\u001b[0m \u001b[0;34m\u001b[0m\u001b[0m\n\u001b[1;32m    417\u001b[0m \u001b[0;34m\u001b[0m\u001b[0m\n",
            "\u001b[0;32m/usr/local/lib/python3.10/dist-packages/numpy/lib/function_base.py\u001b[0m in \u001b[0;36m__call__\u001b[0;34m(self, *args, **kwargs)\u001b[0m\n\u001b[1;32m   2302\u001b[0m             \u001b[0mvargs\u001b[0m\u001b[0;34m.\u001b[0m\u001b[0mextend\u001b[0m\u001b[0;34m(\u001b[0m\u001b[0;34m[\u001b[0m\u001b[0mkwargs\u001b[0m\u001b[0;34m[\u001b[0m\u001b[0m_n\u001b[0m\u001b[0;34m]\u001b[0m \u001b[0;32mfor\u001b[0m \u001b[0m_n\u001b[0m \u001b[0;32min\u001b[0m \u001b[0mnames\u001b[0m\u001b[0;34m]\u001b[0m\u001b[0;34m)\u001b[0m\u001b[0;34m\u001b[0m\u001b[0;34m\u001b[0m\u001b[0m\n\u001b[1;32m   2303\u001b[0m \u001b[0;34m\u001b[0m\u001b[0m\n\u001b[0;32m-> 2304\u001b[0;31m         \u001b[0;32mreturn\u001b[0m \u001b[0mself\u001b[0m\u001b[0;34m.\u001b[0m\u001b[0m_vectorize_call\u001b[0m\u001b[0;34m(\u001b[0m\u001b[0mfunc\u001b[0m\u001b[0;34m=\u001b[0m\u001b[0mfunc\u001b[0m\u001b[0;34m,\u001b[0m \u001b[0margs\u001b[0m\u001b[0;34m=\u001b[0m\u001b[0mvargs\u001b[0m\u001b[0;34m)\u001b[0m\u001b[0;34m\u001b[0m\u001b[0;34m\u001b[0m\u001b[0m\n\u001b[0m\u001b[1;32m   2305\u001b[0m \u001b[0;34m\u001b[0m\u001b[0m\n\u001b[1;32m   2306\u001b[0m     \u001b[0;32mdef\u001b[0m \u001b[0m_get_ufunc_and_otypes\u001b[0m\u001b[0;34m(\u001b[0m\u001b[0mself\u001b[0m\u001b[0;34m,\u001b[0m \u001b[0mfunc\u001b[0m\u001b[0;34m,\u001b[0m \u001b[0margs\u001b[0m\u001b[0;34m)\u001b[0m\u001b[0;34m:\u001b[0m\u001b[0;34m\u001b[0m\u001b[0;34m\u001b[0m\u001b[0m\n",
            "\u001b[0;32m/usr/local/lib/python3.10/dist-packages/numpy/lib/function_base.py\u001b[0m in \u001b[0;36m_vectorize_call\u001b[0;34m(self, func, args)\u001b[0m\n\u001b[1;32m   2380\u001b[0m             \u001b[0mres\u001b[0m \u001b[0;34m=\u001b[0m \u001b[0mfunc\u001b[0m\u001b[0;34m(\u001b[0m\u001b[0;34m)\u001b[0m\u001b[0;34m\u001b[0m\u001b[0;34m\u001b[0m\u001b[0m\n\u001b[1;32m   2381\u001b[0m         \u001b[0;32melse\u001b[0m\u001b[0;34m:\u001b[0m\u001b[0;34m\u001b[0m\u001b[0;34m\u001b[0m\u001b[0m\n\u001b[0;32m-> 2382\u001b[0;31m             \u001b[0mufunc\u001b[0m\u001b[0;34m,\u001b[0m \u001b[0motypes\u001b[0m \u001b[0;34m=\u001b[0m \u001b[0mself\u001b[0m\u001b[0;34m.\u001b[0m\u001b[0m_get_ufunc_and_otypes\u001b[0m\u001b[0;34m(\u001b[0m\u001b[0mfunc\u001b[0m\u001b[0;34m=\u001b[0m\u001b[0mfunc\u001b[0m\u001b[0;34m,\u001b[0m \u001b[0margs\u001b[0m\u001b[0;34m=\u001b[0m\u001b[0margs\u001b[0m\u001b[0;34m)\u001b[0m\u001b[0;34m\u001b[0m\u001b[0;34m\u001b[0m\u001b[0m\n\u001b[0m\u001b[1;32m   2383\u001b[0m \u001b[0;34m\u001b[0m\u001b[0m\n\u001b[1;32m   2384\u001b[0m             \u001b[0;31m# Convert args to object arrays first\u001b[0m\u001b[0;34m\u001b[0m\u001b[0;34m\u001b[0m\u001b[0m\n",
            "\u001b[0;32m/usr/local/lib/python3.10/dist-packages/numpy/lib/function_base.py\u001b[0m in \u001b[0;36m_get_ufunc_and_otypes\u001b[0;34m(self, func, args)\u001b[0m\n\u001b[1;32m   2340\u001b[0m \u001b[0;34m\u001b[0m\u001b[0m\n\u001b[1;32m   2341\u001b[0m             \u001b[0minputs\u001b[0m \u001b[0;34m=\u001b[0m \u001b[0;34m[\u001b[0m\u001b[0marg\u001b[0m\u001b[0;34m.\u001b[0m\u001b[0mflat\u001b[0m\u001b[0;34m[\u001b[0m\u001b[0;36m0\u001b[0m\u001b[0;34m]\u001b[0m \u001b[0;32mfor\u001b[0m \u001b[0marg\u001b[0m \u001b[0;32min\u001b[0m \u001b[0margs\u001b[0m\u001b[0;34m]\u001b[0m\u001b[0;34m\u001b[0m\u001b[0;34m\u001b[0m\u001b[0m\n\u001b[0;32m-> 2342\u001b[0;31m             \u001b[0moutputs\u001b[0m \u001b[0;34m=\u001b[0m \u001b[0mfunc\u001b[0m\u001b[0;34m(\u001b[0m\u001b[0;34m*\u001b[0m\u001b[0minputs\u001b[0m\u001b[0;34m)\u001b[0m\u001b[0;34m\u001b[0m\u001b[0;34m\u001b[0m\u001b[0m\n\u001b[0m\u001b[1;32m   2343\u001b[0m \u001b[0;34m\u001b[0m\u001b[0m\n\u001b[1;32m   2344\u001b[0m             \u001b[0;31m# Performance note: profiling indicates that -- for simple\u001b[0m\u001b[0;34m\u001b[0m\u001b[0;34m\u001b[0m\u001b[0m\n",
            "\u001b[0;32m/usr/local/lib/python3.10/dist-packages/dateutil/parser/_parser.py\u001b[0m in \u001b[0;36mparse\u001b[0;34m(timestr, parserinfo, **kwargs)\u001b[0m\n\u001b[1;32m   1366\u001b[0m         \u001b[0;32mreturn\u001b[0m \u001b[0mparser\u001b[0m\u001b[0;34m(\u001b[0m\u001b[0mparserinfo\u001b[0m\u001b[0;34m)\u001b[0m\u001b[0;34m.\u001b[0m\u001b[0mparse\u001b[0m\u001b[0;34m(\u001b[0m\u001b[0mtimestr\u001b[0m\u001b[0;34m,\u001b[0m \u001b[0;34m**\u001b[0m\u001b[0mkwargs\u001b[0m\u001b[0;34m)\u001b[0m\u001b[0;34m\u001b[0m\u001b[0;34m\u001b[0m\u001b[0m\n\u001b[1;32m   1367\u001b[0m     \u001b[0;32melse\u001b[0m\u001b[0;34m:\u001b[0m\u001b[0;34m\u001b[0m\u001b[0;34m\u001b[0m\u001b[0m\n\u001b[0;32m-> 1368\u001b[0;31m         \u001b[0;32mreturn\u001b[0m \u001b[0mDEFAULTPARSER\u001b[0m\u001b[0;34m.\u001b[0m\u001b[0mparse\u001b[0m\u001b[0;34m(\u001b[0m\u001b[0mtimestr\u001b[0m\u001b[0;34m,\u001b[0m \u001b[0;34m**\u001b[0m\u001b[0mkwargs\u001b[0m\u001b[0;34m)\u001b[0m\u001b[0;34m\u001b[0m\u001b[0;34m\u001b[0m\u001b[0m\n\u001b[0m\u001b[1;32m   1369\u001b[0m \u001b[0;34m\u001b[0m\u001b[0m\n\u001b[1;32m   1370\u001b[0m \u001b[0;34m\u001b[0m\u001b[0m\n",
            "\u001b[0;32m/usr/local/lib/python3.10/dist-packages/dateutil/parser/_parser.py\u001b[0m in \u001b[0;36mparse\u001b[0;34m(self, timestr, default, ignoretz, tzinfos, **kwargs)\u001b[0m\n\u001b[1;32m    638\u001b[0m                                                       second=0, microsecond=0)\n\u001b[1;32m    639\u001b[0m \u001b[0;34m\u001b[0m\u001b[0m\n\u001b[0;32m--> 640\u001b[0;31m         \u001b[0mres\u001b[0m\u001b[0;34m,\u001b[0m \u001b[0mskipped_tokens\u001b[0m \u001b[0;34m=\u001b[0m \u001b[0mself\u001b[0m\u001b[0;34m.\u001b[0m\u001b[0m_parse\u001b[0m\u001b[0;34m(\u001b[0m\u001b[0mtimestr\u001b[0m\u001b[0;34m,\u001b[0m \u001b[0;34m**\u001b[0m\u001b[0mkwargs\u001b[0m\u001b[0;34m)\u001b[0m\u001b[0;34m\u001b[0m\u001b[0;34m\u001b[0m\u001b[0m\n\u001b[0m\u001b[1;32m    641\u001b[0m \u001b[0;34m\u001b[0m\u001b[0m\n\u001b[1;32m    642\u001b[0m         \u001b[0;32mif\u001b[0m \u001b[0mres\u001b[0m \u001b[0;32mis\u001b[0m \u001b[0;32mNone\u001b[0m\u001b[0;34m:\u001b[0m\u001b[0;34m\u001b[0m\u001b[0;34m\u001b[0m\u001b[0m\n",
            "\u001b[0;32m/usr/local/lib/python3.10/dist-packages/dateutil/parser/_parser.py\u001b[0m in \u001b[0;36m_parse\u001b[0;34m(self, timestr, dayfirst, yearfirst, fuzzy, fuzzy_with_tokens)\u001b[0m\n\u001b[1;32m    717\u001b[0m \u001b[0;34m\u001b[0m\u001b[0m\n\u001b[1;32m    718\u001b[0m         \u001b[0mres\u001b[0m \u001b[0;34m=\u001b[0m \u001b[0mself\u001b[0m\u001b[0;34m.\u001b[0m\u001b[0m_result\u001b[0m\u001b[0;34m(\u001b[0m\u001b[0;34m)\u001b[0m\u001b[0;34m\u001b[0m\u001b[0;34m\u001b[0m\u001b[0m\n\u001b[0;32m--> 719\u001b[0;31m         \u001b[0ml\u001b[0m \u001b[0;34m=\u001b[0m \u001b[0m_timelex\u001b[0m\u001b[0;34m.\u001b[0m\u001b[0msplit\u001b[0m\u001b[0;34m(\u001b[0m\u001b[0mtimestr\u001b[0m\u001b[0;34m)\u001b[0m         \u001b[0;31m# Splits the timestr into tokens\u001b[0m\u001b[0;34m\u001b[0m\u001b[0;34m\u001b[0m\u001b[0m\n\u001b[0m\u001b[1;32m    720\u001b[0m \u001b[0;34m\u001b[0m\u001b[0m\n\u001b[1;32m    721\u001b[0m         \u001b[0mskipped_idxs\u001b[0m \u001b[0;34m=\u001b[0m \u001b[0;34m[\u001b[0m\u001b[0;34m]\u001b[0m\u001b[0;34m\u001b[0m\u001b[0;34m\u001b[0m\u001b[0m\n",
            "\u001b[0;32m/usr/local/lib/python3.10/dist-packages/dateutil/parser/_parser.py\u001b[0m in \u001b[0;36msplit\u001b[0;34m(cls, s)\u001b[0m\n\u001b[1;32m    199\u001b[0m     \u001b[0;34m@\u001b[0m\u001b[0mclassmethod\u001b[0m\u001b[0;34m\u001b[0m\u001b[0;34m\u001b[0m\u001b[0m\n\u001b[1;32m    200\u001b[0m     \u001b[0;32mdef\u001b[0m \u001b[0msplit\u001b[0m\u001b[0;34m(\u001b[0m\u001b[0mcls\u001b[0m\u001b[0;34m,\u001b[0m \u001b[0ms\u001b[0m\u001b[0;34m)\u001b[0m\u001b[0;34m:\u001b[0m\u001b[0;34m\u001b[0m\u001b[0;34m\u001b[0m\u001b[0m\n\u001b[0;32m--> 201\u001b[0;31m         \u001b[0;32mreturn\u001b[0m \u001b[0mlist\u001b[0m\u001b[0;34m(\u001b[0m\u001b[0mcls\u001b[0m\u001b[0;34m(\u001b[0m\u001b[0ms\u001b[0m\u001b[0;34m)\u001b[0m\u001b[0;34m)\u001b[0m\u001b[0;34m\u001b[0m\u001b[0;34m\u001b[0m\u001b[0m\n\u001b[0m\u001b[1;32m    202\u001b[0m \u001b[0;34m\u001b[0m\u001b[0m\n\u001b[1;32m    203\u001b[0m     \u001b[0;34m@\u001b[0m\u001b[0mclassmethod\u001b[0m\u001b[0;34m\u001b[0m\u001b[0;34m\u001b[0m\u001b[0m\n",
            "\u001b[0;32m/usr/local/lib/python3.10/dist-packages/dateutil/parser/_parser.py\u001b[0m in \u001b[0;36m__init__\u001b[0;34m(self, instream)\u001b[0m\n\u001b[1;32m     67\u001b[0m             \u001b[0minstream\u001b[0m \u001b[0;34m=\u001b[0m \u001b[0mStringIO\u001b[0m\u001b[0;34m(\u001b[0m\u001b[0minstream\u001b[0m\u001b[0;34m)\u001b[0m\u001b[0;34m\u001b[0m\u001b[0;34m\u001b[0m\u001b[0m\n\u001b[1;32m     68\u001b[0m         \u001b[0;32melif\u001b[0m \u001b[0mgetattr\u001b[0m\u001b[0;34m(\u001b[0m\u001b[0minstream\u001b[0m\u001b[0;34m,\u001b[0m \u001b[0;34m'read'\u001b[0m\u001b[0;34m,\u001b[0m \u001b[0;32mNone\u001b[0m\u001b[0;34m)\u001b[0m \u001b[0;32mis\u001b[0m \u001b[0;32mNone\u001b[0m\u001b[0;34m:\u001b[0m\u001b[0;34m\u001b[0m\u001b[0;34m\u001b[0m\u001b[0m\n\u001b[0;32m---> 69\u001b[0;31m             raise TypeError('Parser must be a string or character stream, not '\n\u001b[0m\u001b[1;32m     70\u001b[0m                             '{itype}'.format(itype=instream.__class__.__name__))\n\u001b[1;32m     71\u001b[0m \u001b[0;34m\u001b[0m\u001b[0m\n",
            "\u001b[0;31mTypeError\u001b[0m: Parser must be a string or character stream, not float64"
          ]
        }
      ],
      "source": [
        "# Change dates to timestamps\n",
        "df_preprocessed[\"Date posted\"] = mdates.datestr2num(df_preprocessed[\"Date posted\"])\n",
        "\n",
        "# Remove Whitespace from Joined\n",
        "df_preprocessed[\"Joined\"] = [datestr.replace(\" \", \"\") for datestr in df_preprocessed[\"Joined\"]]\n",
        "\n",
        "# Convert Tweet type column strings to all caps for uniform formatting\n",
        "df_preprocessed[\"Tweet Type\"] = df_preprocessed[\"Tweet Type\"].str.upper()\n",
        "\n",
        "# Lambda function that converts joined date to datetime and gets its difference from time now and converts it to days\n",
        "x = lambda joined: (dt.datetime.now() - dt.datetime.strptime(joined, \"%m/%y\")).days\n",
        "df_preprocessed[\"Joined\"] = df_preprocessed[\"Joined\"].apply(x)\n",
        "df_preprocessed[\"Joined\"]\n",
        "\n",
        "# Ensuring formatting consistency\n",
        "\n",
        "content_type = [\"Rational\", \"Emotional\", \"Transactional\"]\n",
        "content_type_values = df_preprocessed[\"Content type\"].tolist()\n",
        "is_content_type_consistent = all(value in content_type for value in content_type_values)\n",
        "print(is_content_type_consistent)\n",
        "\n",
        "account_type = [\"Identified\", \"Anonymous\", \"Media\"]\n",
        "account_type_values = df_preprocessed[\"Account type\"].tolist()\n",
        "is_account_type_consistent = all(value in account_type for value in account_type_values)\n",
        "print(is_account_type_consistent)\n",
        "\n",
        "rating = [\"FALSE\", \"MISLEADING\", \"NEED CONTEXT\", \"UNPROVEN\"]\n",
        "rating_values = df_preprocessed[\"Rating\"].tolist()\n",
        "is_rating_consistent = all(value in rating for value in rating_values)\n",
        "print(is_rating_consistent)\n",
        "\n",
        "tweet_types = [\"TEXT\", \"REPLY\", \"IMAGE\", \"VIDEO\", \"QUOTE TWEET\", \"URL\"]\n",
        "tweet_type = df_preprocessed[\"Tweet Type\"].str.split(\", \")\n",
        "for value in tweet_type:\n",
        "    for text in value:\n",
        "        if text not in tweet_types:\n",
        "            is_tweet_type_consistent = False\n",
        "    is_tweet_type_consistent = True\n",
        "print(is_tweet_type_consistent)\n",
        "\n",
        "# Checking for duplicates\n",
        "\n",
        "duplicates = df_preprocessed.duplicated()\n",
        "if any(duplicates):\n",
        "  result = True\n",
        "else:\n",
        "  result = False\n",
        "print(result)\n",
        "\n",
        "# Checking for duplicates\n",
        "\n",
        "duplicates = df_preprocessed.duplicated()\n",
        "if any(duplicates):\n",
        "  with_duplicates = True\n",
        "else:\n",
        "  result = False\n",
        "print(with_duplicates)"
      ]
    },
    {
      "cell_type": "markdown",
      "metadata": {
        "id": "DY5n_Qp_Tx65"
      },
      "source": [
        "To ensure formatting consistency of the columns Content type, Account type, and Rating, each of their respective coloumns are converted to a list via .tolist() function with each of its element compared to the values that are supposed to be in the specified coloumn. This is executed via the all() function which returns a boolean value. If the output is true, then there are no values in the column with an incorrect format, thus ensuring the consistency of the format.\n",
        "On the other hand, nested for loops are used to check the consistency of the formatting of the Tweet Type column as each element contains multiple tweet types. \n",
        "\n",
        "The .duplicated function is also utilized to check if there are duplicates in the dataset.\n"
      ]
    },
    {
      "cell_type": "code",
      "execution_count": null,
      "metadata": {
        "colab": {
          "base_uri": "https://localhost:8080/",
          "height": 1000
        },
        "id": "B8AcYvKVgpvv",
        "outputId": "a77bbd79-1dd3-425c-cb9c-6def1d96a7af"
      },
      "outputs": [
        {
          "data": {
            "text/html": [
              "\n",
              "  <div id=\"df-7ea49d87-eb71-48fc-abc8-2aa44d26b28f\">\n",
              "    <div class=\"colab-df-container\">\n",
              "      <div>\n",
              "<style scoped>\n",
              "    .dataframe tbody tr th:only-of-type {\n",
              "        vertical-align: middle;\n",
              "    }\n",
              "\n",
              "    .dataframe tbody tr th {\n",
              "        vertical-align: top;\n",
              "    }\n",
              "\n",
              "    .dataframe thead th {\n",
              "        text-align: right;\n",
              "    }\n",
              "</style>\n",
              "<table border=\"1\" class=\"dataframe\">\n",
              "  <thead>\n",
              "    <tr style=\"text-align: right;\">\n",
              "      <th></th>\n",
              "      <th>Timestamp</th>\n",
              "      <th>Tweet URL</th>\n",
              "      <th>Keywords</th>\n",
              "      <th>Account handle</th>\n",
              "      <th>Account name</th>\n",
              "      <th>Account bio</th>\n",
              "      <th>Joined</th>\n",
              "      <th>Following</th>\n",
              "      <th>Followers</th>\n",
              "      <th>Location</th>\n",
              "      <th>...</th>\n",
              "      <th>Reasoning</th>\n",
              "      <th>Account type_Anonymous</th>\n",
              "      <th>Account type_Identified</th>\n",
              "      <th>Content type_Emotional</th>\n",
              "      <th>Content type_Rational</th>\n",
              "      <th>Content type_Transactional</th>\n",
              "      <th>Rating_FALSE</th>\n",
              "      <th>Rating_MISLEADING</th>\n",
              "      <th>Rating_NEED CONTEXT</th>\n",
              "      <th>Rating_UNPROVEN</th>\n",
              "    </tr>\n",
              "  </thead>\n",
              "  <tbody>\n",
              "    <tr>\n",
              "      <th>0</th>\n",
              "      <td>12/03/23 16:01:45</td>\n",
              "      <td>https://twitter.com/up_kyla/status/15250434466...</td>\n",
              "      <td>Marcos, 1986 Snap Election</td>\n",
              "      <td>@up_kyla</td>\n",
              "      <td>AlphaOneRene</td>\n",
              "      <td>fun loving</td>\n",
              "      <td>469</td>\n",
              "      <td>4887</td>\n",
              "      <td>3492</td>\n",
              "      <td>NaN</td>\n",
              "      <td>...</td>\n",
              "      <td>Marcos was persuaded to leave the country by a...</td>\n",
              "      <td>1</td>\n",
              "      <td>0</td>\n",
              "      <td>1</td>\n",
              "      <td>0</td>\n",
              "      <td>0</td>\n",
              "      <td>1</td>\n",
              "      <td>0</td>\n",
              "      <td>0</td>\n",
              "      <td>0</td>\n",
              "    </tr>\n",
              "    <tr>\n",
              "      <th>1</th>\n",
              "      <td>20/03/23 16:16:00</td>\n",
              "      <td>https://twitter.com/mlleahrb/status/1459139793...</td>\n",
              "      <td>EDSA Revolution fake news</td>\n",
              "      <td>@mlleahrb</td>\n",
              "      <td>𝓪𝓻𝓲𝓪𝓷𝓷𝓮 ♊❤️💚</td>\n",
              "      <td>Pro-Philippines 🇵🇭\\n✨ 𝑺𝒊𝒎𝒑𝒍𝒚 𝒂 𝑩𝒂𝒅𝒂𝒔𝒔 𝑪𝒚𝒏𝒐𝒑𝒉𝒊𝒍...</td>\n",
              "      <td>1171</td>\n",
              "      <td>507</td>\n",
              "      <td>368</td>\n",
              "      <td>Manila, Philippines</td>\n",
              "      <td>...</td>\n",
              "      <td>The EDSA revolution was led by the people to r...</td>\n",
              "      <td>1</td>\n",
              "      <td>0</td>\n",
              "      <td>1</td>\n",
              "      <td>0</td>\n",
              "      <td>0</td>\n",
              "      <td>0</td>\n",
              "      <td>1</td>\n",
              "      <td>0</td>\n",
              "      <td>0</td>\n",
              "    </tr>\n",
              "    <tr>\n",
              "      <th>2</th>\n",
              "      <td>20/03/23 17:09:11</td>\n",
              "      <td>https://twitter.com/CLoveadore/status/15360689...</td>\n",
              "      <td>EDSA Revolution fake news</td>\n",
              "      <td>@CLoveadore</td>\n",
              "      <td>malditang lola</td>\n",
              "      <td>Karma is a bitch when it hits you back. Defend...</td>\n",
              "      <td>1445</td>\n",
              "      <td>1131</td>\n",
              "      <td>701</td>\n",
              "      <td>NaN</td>\n",
              "      <td>...</td>\n",
              "      <td>Although USA has a role during the EDSA revolu...</td>\n",
              "      <td>1</td>\n",
              "      <td>0</td>\n",
              "      <td>0</td>\n",
              "      <td>1</td>\n",
              "      <td>0</td>\n",
              "      <td>0</td>\n",
              "      <td>0</td>\n",
              "      <td>0</td>\n",
              "      <td>1</td>\n",
              "    </tr>\n",
              "    <tr>\n",
              "      <th>3</th>\n",
              "      <td>20/03/23 18:32:09</td>\n",
              "      <td>https://twitter.com/AntiPPropaganda/status/153...</td>\n",
              "      <td>EDSA Revolution fake news</td>\n",
              "      <td>@AntiPPropaganda</td>\n",
              "      <td>Anti Pink Propaganda</td>\n",
              "      <td>Para sa Bayan 🇵🇭  I am against the monopoly of...</td>\n",
              "      <td>380</td>\n",
              "      <td>512</td>\n",
              "      <td>417</td>\n",
              "      <td>NaN</td>\n",
              "      <td>...</td>\n",
              "      <td>Although USA has a role during the EDSA revolu...</td>\n",
              "      <td>1</td>\n",
              "      <td>0</td>\n",
              "      <td>0</td>\n",
              "      <td>1</td>\n",
              "      <td>0</td>\n",
              "      <td>0</td>\n",
              "      <td>0</td>\n",
              "      <td>0</td>\n",
              "      <td>1</td>\n",
              "    </tr>\n",
              "    <tr>\n",
              "      <th>4</th>\n",
              "      <td>20/03/23 20:00:05</td>\n",
              "      <td>https://twitter.com/ThePaladin33/status/150937...</td>\n",
              "      <td>Cory Communist</td>\n",
              "      <td>@ThePaladin33</td>\n",
              "      <td>Sagittarius33</td>\n",
              "      <td>Cat lover</td>\n",
              "      <td>1930</td>\n",
              "      <td>1848</td>\n",
              "      <td>1748</td>\n",
              "      <td>NaN</td>\n",
              "      <td>...</td>\n",
              "      <td>There were no proof that Cory convined with co...</td>\n",
              "      <td>1</td>\n",
              "      <td>0</td>\n",
              "      <td>1</td>\n",
              "      <td>0</td>\n",
              "      <td>0</td>\n",
              "      <td>0</td>\n",
              "      <td>0</td>\n",
              "      <td>0</td>\n",
              "      <td>1</td>\n",
              "    </tr>\n",
              "    <tr>\n",
              "      <th>...</th>\n",
              "      <td>...</td>\n",
              "      <td>...</td>\n",
              "      <td>...</td>\n",
              "      <td>...</td>\n",
              "      <td>...</td>\n",
              "      <td>...</td>\n",
              "      <td>...</td>\n",
              "      <td>...</td>\n",
              "      <td>...</td>\n",
              "      <td>...</td>\n",
              "      <td>...</td>\n",
              "      <td>...</td>\n",
              "      <td>...</td>\n",
              "      <td>...</td>\n",
              "      <td>...</td>\n",
              "      <td>...</td>\n",
              "      <td>...</td>\n",
              "      <td>...</td>\n",
              "      <td>...</td>\n",
              "      <td>...</td>\n",
              "      <td>...</td>\n",
              "    </tr>\n",
              "    <tr>\n",
              "      <th>145</th>\n",
              "      <td>18/04/23 20:43:26</td>\n",
              "      <td>https://twitter.com/yap_dimaala/status/1451669...</td>\n",
              "      <td>cory aquino trillion debt</td>\n",
              "      <td>@yap_dimaala</td>\n",
              "      <td>Maryam</td>\n",
              "      <td>Padayon\\nfuture🩺⚕️\\nDI AKO TROLLS YAWA KA.</td>\n",
              "      <td>592</td>\n",
              "      <td>16</td>\n",
              "      <td>1</td>\n",
              "      <td>NaN</td>\n",
              "      <td>...</td>\n",
              "      <td>FALSE: National debt during Cory Aquino’s term...</td>\n",
              "      <td>1</td>\n",
              "      <td>0</td>\n",
              "      <td>0</td>\n",
              "      <td>1</td>\n",
              "      <td>0</td>\n",
              "      <td>1</td>\n",
              "      <td>0</td>\n",
              "      <td>0</td>\n",
              "      <td>0</td>\n",
              "    </tr>\n",
              "    <tr>\n",
              "      <th>146</th>\n",
              "      <td>18/04/23 20:57:20</td>\n",
              "      <td>https://twitter.com/grecoroman777/status/15021...</td>\n",
              "      <td>cory aquino 1 trillion, budget</td>\n",
              "      <td>@grecoroman777</td>\n",
              "      <td>Spartan</td>\n",
              "      <td>♎♏♐♋♒\\nCatholic Heterosexual. Car buff, MMA pr...</td>\n",
              "      <td>622</td>\n",
              "      <td>109</td>\n",
              "      <td>406</td>\n",
              "      <td>Republic of the Philippines</td>\n",
              "      <td>...</td>\n",
              "      <td>FALSE: ‘NSO’ figures comparing spending budget...</td>\n",
              "      <td>1</td>\n",
              "      <td>0</td>\n",
              "      <td>0</td>\n",
              "      <td>1</td>\n",
              "      <td>0</td>\n",
              "      <td>1</td>\n",
              "      <td>0</td>\n",
              "      <td>0</td>\n",
              "      <td>0</td>\n",
              "    </tr>\n",
              "    <tr>\n",
              "      <th>147</th>\n",
              "      <td>18/04/23 21:00:02</td>\n",
              "      <td>https://twitter.com/AnyaRedlily/status/1524267...</td>\n",
              "      <td>cory aquino 1 trillion, budget</td>\n",
              "      <td>@AnyaRedlily</td>\n",
              "      <td>Anya</td>\n",
              "      <td>𝒞𝒶𝓇ℴ</td>\n",
              "      <td>1749</td>\n",
              "      <td>1126</td>\n",
              "      <td>8</td>\n",
              "      <td>Northern Sky</td>\n",
              "      <td>...</td>\n",
              "      <td>FALSE: ‘NSO’ figures comparing spending budget...</td>\n",
              "      <td>1</td>\n",
              "      <td>0</td>\n",
              "      <td>0</td>\n",
              "      <td>1</td>\n",
              "      <td>0</td>\n",
              "      <td>1</td>\n",
              "      <td>0</td>\n",
              "      <td>0</td>\n",
              "      <td>0</td>\n",
              "    </tr>\n",
              "    <tr>\n",
              "      <th>148</th>\n",
              "      <td>18/04/23 21:03:47</td>\n",
              "      <td>https://twitter.com/smllslktnspt/status/149239...</td>\n",
              "      <td>cory aquino 1 trillion, budget</td>\n",
              "      <td>@smllslktnspt</td>\n",
              "      <td>Nvna</td>\n",
              "      <td>NaN</td>\n",
              "      <td>1079</td>\n",
              "      <td>184</td>\n",
              "      <td>12</td>\n",
              "      <td>NaN</td>\n",
              "      <td>...</td>\n",
              "      <td>FALSE: ‘NSO’ figures comparing spending budget...</td>\n",
              "      <td>1</td>\n",
              "      <td>0</td>\n",
              "      <td>0</td>\n",
              "      <td>1</td>\n",
              "      <td>0</td>\n",
              "      <td>1</td>\n",
              "      <td>0</td>\n",
              "      <td>0</td>\n",
              "      <td>0</td>\n",
              "    </tr>\n",
              "    <tr>\n",
              "      <th>149</th>\n",
              "      <td>18/04/23 21:06:07</td>\n",
              "      <td>https://twitter.com/Maris53441812/status/14401...</td>\n",
              "      <td>cory aquino 1 trillion, budget</td>\n",
              "      <td>@Maris53441812</td>\n",
              "      <td>Maris</td>\n",
              "      <td>I am a child of God</td>\n",
              "      <td>622</td>\n",
              "      <td>22</td>\n",
              "      <td>5</td>\n",
              "      <td>NaN</td>\n",
              "      <td>...</td>\n",
              "      <td>FALSE: ‘NSO’ figures comparing spending budget...</td>\n",
              "      <td>1</td>\n",
              "      <td>0</td>\n",
              "      <td>0</td>\n",
              "      <td>1</td>\n",
              "      <td>0</td>\n",
              "      <td>1</td>\n",
              "      <td>0</td>\n",
              "      <td>0</td>\n",
              "      <td>0</td>\n",
              "    </tr>\n",
              "  </tbody>\n",
              "</table>\n",
              "<p>150 rows × 28 columns</p>\n",
              "</div>\n",
              "      <button class=\"colab-df-convert\" onclick=\"convertToInteractive('df-7ea49d87-eb71-48fc-abc8-2aa44d26b28f')\"\n",
              "              title=\"Convert this dataframe to an interactive table.\"\n",
              "              style=\"display:none;\">\n",
              "        \n",
              "  <svg xmlns=\"http://www.w3.org/2000/svg\" height=\"24px\"viewBox=\"0 0 24 24\"\n",
              "       width=\"24px\">\n",
              "    <path d=\"M0 0h24v24H0V0z\" fill=\"none\"/>\n",
              "    <path d=\"M18.56 5.44l.94 2.06.94-2.06 2.06-.94-2.06-.94-.94-2.06-.94 2.06-2.06.94zm-11 1L8.5 8.5l.94-2.06 2.06-.94-2.06-.94L8.5 2.5l-.94 2.06-2.06.94zm10 10l.94 2.06.94-2.06 2.06-.94-2.06-.94-.94-2.06-.94 2.06-2.06.94z\"/><path d=\"M17.41 7.96l-1.37-1.37c-.4-.4-.92-.59-1.43-.59-.52 0-1.04.2-1.43.59L10.3 9.45l-7.72 7.72c-.78.78-.78 2.05 0 2.83L4 21.41c.39.39.9.59 1.41.59.51 0 1.02-.2 1.41-.59l7.78-7.78 2.81-2.81c.8-.78.8-2.07 0-2.86zM5.41 20L4 18.59l7.72-7.72 1.47 1.35L5.41 20z\"/>\n",
              "  </svg>\n",
              "      </button>\n",
              "      \n",
              "  <style>\n",
              "    .colab-df-container {\n",
              "      display:flex;\n",
              "      flex-wrap:wrap;\n",
              "      gap: 12px;\n",
              "    }\n",
              "\n",
              "    .colab-df-convert {\n",
              "      background-color: #E8F0FE;\n",
              "      border: none;\n",
              "      border-radius: 50%;\n",
              "      cursor: pointer;\n",
              "      display: none;\n",
              "      fill: #1967D2;\n",
              "      height: 32px;\n",
              "      padding: 0 0 0 0;\n",
              "      width: 32px;\n",
              "    }\n",
              "\n",
              "    .colab-df-convert:hover {\n",
              "      background-color: #E2EBFA;\n",
              "      box-shadow: 0px 1px 2px rgba(60, 64, 67, 0.3), 0px 1px 3px 1px rgba(60, 64, 67, 0.15);\n",
              "      fill: #174EA6;\n",
              "    }\n",
              "\n",
              "    [theme=dark] .colab-df-convert {\n",
              "      background-color: #3B4455;\n",
              "      fill: #D2E3FC;\n",
              "    }\n",
              "\n",
              "    [theme=dark] .colab-df-convert:hover {\n",
              "      background-color: #434B5C;\n",
              "      box-shadow: 0px 1px 3px 1px rgba(0, 0, 0, 0.15);\n",
              "      filter: drop-shadow(0px 1px 2px rgba(0, 0, 0, 0.3));\n",
              "      fill: #FFFFFF;\n",
              "    }\n",
              "  </style>\n",
              "\n",
              "      <script>\n",
              "        const buttonEl =\n",
              "          document.querySelector('#df-7ea49d87-eb71-48fc-abc8-2aa44d26b28f button.colab-df-convert');\n",
              "        buttonEl.style.display =\n",
              "          google.colab.kernel.accessAllowed ? 'block' : 'none';\n",
              "\n",
              "        async function convertToInteractive(key) {\n",
              "          const element = document.querySelector('#df-7ea49d87-eb71-48fc-abc8-2aa44d26b28f');\n",
              "          const dataTable =\n",
              "            await google.colab.kernel.invokeFunction('convertToInteractive',\n",
              "                                                     [key], {});\n",
              "          if (!dataTable) return;\n",
              "\n",
              "          const docLinkHtml = 'Like what you see? Visit the ' +\n",
              "            '<a target=\"_blank\" href=https://colab.research.google.com/notebooks/data_table.ipynb>data table notebook</a>'\n",
              "            + ' to learn more about interactive tables.';\n",
              "          element.innerHTML = '';\n",
              "          dataTable['output_type'] = 'display_data';\n",
              "          await google.colab.output.renderOutput(dataTable, element);\n",
              "          const docLink = document.createElement('div');\n",
              "          docLink.innerHTML = docLinkHtml;\n",
              "          element.appendChild(docLink);\n",
              "        }\n",
              "      </script>\n",
              "    </div>\n",
              "  </div>\n",
              "  "
            ],
            "text/plain": [
              "             Timestamp                                          Tweet URL  \\\n",
              "0    12/03/23 16:01:45  https://twitter.com/up_kyla/status/15250434466...   \n",
              "1    20/03/23 16:16:00  https://twitter.com/mlleahrb/status/1459139793...   \n",
              "2    20/03/23 17:09:11  https://twitter.com/CLoveadore/status/15360689...   \n",
              "3    20/03/23 18:32:09  https://twitter.com/AntiPPropaganda/status/153...   \n",
              "4    20/03/23 20:00:05  https://twitter.com/ThePaladin33/status/150937...   \n",
              "..                 ...                                                ...   \n",
              "145  18/04/23 20:43:26  https://twitter.com/yap_dimaala/status/1451669...   \n",
              "146  18/04/23 20:57:20  https://twitter.com/grecoroman777/status/15021...   \n",
              "147  18/04/23 21:00:02  https://twitter.com/AnyaRedlily/status/1524267...   \n",
              "148  18/04/23 21:03:47  https://twitter.com/smllslktnspt/status/149239...   \n",
              "149  18/04/23 21:06:07  https://twitter.com/Maris53441812/status/14401...   \n",
              "\n",
              "                           Keywords    Account handle          Account name  \\\n",
              "0        Marcos, 1986 Snap Election          @up_kyla          AlphaOneRene   \n",
              "1         EDSA Revolution fake news         @mlleahrb          𝓪𝓻𝓲𝓪𝓷𝓷𝓮 ♊❤️💚   \n",
              "2         EDSA Revolution fake news       @CLoveadore        malditang lola   \n",
              "3         EDSA Revolution fake news  @AntiPPropaganda  Anti Pink Propaganda   \n",
              "4                    Cory Communist     @ThePaladin33         Sagittarius33   \n",
              "..                              ...               ...                   ...   \n",
              "145       cory aquino trillion debt      @yap_dimaala                Maryam   \n",
              "146  cory aquino 1 trillion, budget    @grecoroman777               Spartan   \n",
              "147  cory aquino 1 trillion, budget      @AnyaRedlily                  Anya   \n",
              "148  cory aquino 1 trillion, budget     @smllslktnspt                  Nvna   \n",
              "149  cory aquino 1 trillion, budget    @Maris53441812                 Maris   \n",
              "\n",
              "                                           Account bio  Joined  Following  \\\n",
              "0                                           fun loving     469       4887   \n",
              "1    Pro-Philippines 🇵🇭\\n✨ 𝑺𝒊𝒎𝒑𝒍𝒚 𝒂 𝑩𝒂𝒅𝒂𝒔𝒔 𝑪𝒚𝒏𝒐𝒑𝒉𝒊𝒍...    1171        507   \n",
              "2    Karma is a bitch when it hits you back. Defend...    1445       1131   \n",
              "3    Para sa Bayan 🇵🇭  I am against the monopoly of...     380        512   \n",
              "4                                            Cat lover    1930       1848   \n",
              "..                                                 ...     ...        ...   \n",
              "145         Padayon\\nfuture🩺⚕️\\nDI AKO TROLLS YAWA KA.     592         16   \n",
              "146  ♎♏♐♋♒\\nCatholic Heterosexual. Car buff, MMA pr...     622        109   \n",
              "147                                               𝒞𝒶𝓇ℴ    1749       1126   \n",
              "148                                                NaN    1079        184   \n",
              "149                                I am a child of God     622         22   \n",
              "\n",
              "     Followers                     Location  ...  \\\n",
              "0         3492                          NaN  ...   \n",
              "1          368          Manila, Philippines  ...   \n",
              "2          701                          NaN  ...   \n",
              "3          417                          NaN  ...   \n",
              "4         1748                          NaN  ...   \n",
              "..         ...                          ...  ...   \n",
              "145          1                          NaN  ...   \n",
              "146        406  Republic of the Philippines  ...   \n",
              "147          8                 Northern Sky  ...   \n",
              "148         12                          NaN  ...   \n",
              "149          5                          NaN  ...   \n",
              "\n",
              "                                             Reasoning Account type_Anonymous  \\\n",
              "0    Marcos was persuaded to leave the country by a...                      1   \n",
              "1    The EDSA revolution was led by the people to r...                      1   \n",
              "2    Although USA has a role during the EDSA revolu...                      1   \n",
              "3    Although USA has a role during the EDSA revolu...                      1   \n",
              "4    There were no proof that Cory convined with co...                      1   \n",
              "..                                                 ...                    ...   \n",
              "145  FALSE: National debt during Cory Aquino’s term...                      1   \n",
              "146  FALSE: ‘NSO’ figures comparing spending budget...                      1   \n",
              "147  FALSE: ‘NSO’ figures comparing spending budget...                      1   \n",
              "148  FALSE: ‘NSO’ figures comparing spending budget...                      1   \n",
              "149  FALSE: ‘NSO’ figures comparing spending budget...                      1   \n",
              "\n",
              "     Account type_Identified Content type_Emotional  Content type_Rational  \\\n",
              "0                          0                      1                      0   \n",
              "1                          0                      1                      0   \n",
              "2                          0                      0                      1   \n",
              "3                          0                      0                      1   \n",
              "4                          0                      1                      0   \n",
              "..                       ...                    ...                    ...   \n",
              "145                        0                      0                      1   \n",
              "146                        0                      0                      1   \n",
              "147                        0                      0                      1   \n",
              "148                        0                      0                      1   \n",
              "149                        0                      0                      1   \n",
              "\n",
              "     Content type_Transactional  Rating_FALSE  Rating_MISLEADING  \\\n",
              "0                             0             1                  0   \n",
              "1                             0             0                  1   \n",
              "2                             0             0                  0   \n",
              "3                             0             0                  0   \n",
              "4                             0             0                  0   \n",
              "..                          ...           ...                ...   \n",
              "145                           0             1                  0   \n",
              "146                           0             1                  0   \n",
              "147                           0             1                  0   \n",
              "148                           0             1                  0   \n",
              "149                           0             1                  0   \n",
              "\n",
              "    Rating_NEED CONTEXT  Rating_UNPROVEN  \n",
              "0                     0                0  \n",
              "1                     0                0  \n",
              "2                     0                1  \n",
              "3                     0                1  \n",
              "4                     0                1  \n",
              "..                  ...              ...  \n",
              "145                   0                0  \n",
              "146                   0                0  \n",
              "147                   0                0  \n",
              "148                   0                0  \n",
              "149                   0                0  \n",
              "\n",
              "[150 rows x 28 columns]"
            ]
          },
          "execution_count": 7,
          "metadata": {},
          "output_type": "execute_result"
        }
      ],
      "source": [
        "# Categorical Data Encoding\n",
        "\n",
        "# One Hot Encoding\n",
        "\n",
        "df_onehotencoded = df_preprocessed.copy(deep = True)\n",
        "\n",
        "# Get One Hot Encoding for each Categorical Column\n",
        "df_onehotencoded = pd.get_dummies(df_onehotencoded, prefix=['Account type'], columns = ['Account type'])\n",
        "df_onehotencoded = pd.get_dummies(df_onehotencoded, prefix=['Content type'], columns = ['Content type'])\n",
        "df_onehotencoded = pd.get_dummies(df_onehotencoded, prefix=['Rating'], columns = ['Rating'])\n",
        "\n",
        "df_onehotencoded\n"
      ]
    },
    {
      "cell_type": "markdown",
      "metadata": {
        "id": "f9O1Q4JVEEvp"
      },
      "source": [
        "# NLP Preprocessing"
      ]
    },
    {
      "cell_type": "code",
      "execution_count": null,
      "metadata": {
        "colab": {
          "base_uri": "https://localhost:8080/"
        },
        "id": "AomEDdkOAepL",
        "outputId": "8559fa66-973b-4f6f-f16d-390816b66eef"
      },
      "outputs": [
        {
          "name": "stderr",
          "output_type": "stream",
          "text": [
            "[nltk_data] Downloading package punkt to /root/nltk_data...\n",
            "[nltk_data]   Unzipping tokenizers/punkt.zip.\n",
            "[nltk_data] Downloading package stopwords to /root/nltk_data...\n",
            "[nltk_data]   Unzipping corpora/stopwords.zip.\n",
            "[nltk_data] Downloading package wordnet to /root/nltk_data...\n"
          ]
        }
      ],
      "source": [
        "# NLP Preamble\n",
        "\n",
        "nltk.download('punkt')\n",
        "nltk.download('stopwords')\n",
        "nltk.download('wordnet')\n",
        "df_NLP = df_preprocessed.copy(deep=True) # Create deep copy for NLP purposes"
      ]
    },
    {
      "attachments": {},
      "cell_type": "markdown",
      "metadata": {},
      "source": [
        "First we tokenize the tweets for easier processing later on"
      ]
    },
    {
      "cell_type": "code",
      "execution_count": null,
      "metadata": {
        "colab": {
          "base_uri": "https://localhost:8080/"
        },
        "id": "YUdG2DRM83HO",
        "outputId": "08799cea-cfba-489d-f00c-a338a572ec94"
      },
      "outputs": [
        {
          "name": "stdout",
          "output_type": "stream",
          "text": [
            "Sige , I-fact check ninyo kung hindi totoo , mga ulalo . 😂😂😂😂 { Alt-text-image : CORY AQUINO IS THE REAL DICTATOR Upon her power grab , Cory : Set aside the 1973 Constitution RATIFIED by a majority of the people and instituted a “ Freedom Constitution ” penned SOLELY by her . REMOVED ALL ELECTED members of the Legislature ; REMOVED ALL ELECTED local officials and replaced them with her handpicked choices ; REMOVED ALL legally appointed Members of the SUPREME COURT ; BECOME A ONE-MAN LEGISLATURE making laws by herself ( for example , the Family Code ) } "
          ]
        }
      ],
      "source": [
        "# NLP Tokenization\n",
        "\n",
        "tweets_tokenized = [nltk.word_tokenize(tweet) for tweet in df_NLP[\"Tweet\"]] # Creates a list of lists with each list containing the tokenized version of the tweets\n",
        "\n",
        "for token in tweets_tokenized[34]:\n",
        "  print(token, end=' ')"
      ]
    },
    {
      "attachments": {},
      "cell_type": "markdown",
      "metadata": {},
      "source": [
        "We also lowercase all tokens to make the dataset more consistent since uppercase in both English and Tagalog is usually uneeded information"
      ]
    },
    {
      "cell_type": "code",
      "execution_count": null,
      "metadata": {
        "colab": {
          "base_uri": "https://localhost:8080/"
        },
        "id": "pateQn9SDMsq",
        "outputId": "5f5ad7f9-4c38-4975-e4f6-8849b096cef1"
      },
      "outputs": [
        {
          "name": "stdout",
          "output_type": "stream",
          "text": [
            "sige , i-fact check ninyo kung hindi totoo , mga ulalo . 😂😂😂😂 { alt-text-image : cory aquino is the real dictator upon her power grab , cory : set aside the 1973 constitution ratified by a majority of the people and instituted a “ freedom constitution ” penned solely by her . removed all elected members of the legislature ; removed all elected local officials and replaced them with her handpicked choices ; removed all legally appointed members of the supreme court ; become a one-man legislature making laws by herself ( for example , the family code ) } "
          ]
        }
      ],
      "source": [
        "# NLP Lowercasing\n",
        "\n",
        "x = lambda tokenlist : [x.lower() for x in tokenlist] # lambda function to lowercase each token in a list\n",
        "tweets_lower = [x(tweet) for tweet in tweets_tokenized] # uses lambda function on entire list of data\n",
        "\n",
        "for token in tweets_lower[34]:\n",
        "  print(token, end=' ')"
      ]
    },
    {
      "attachments": {},
      "cell_type": "markdown",
      "metadata": {},
      "source": [
        "We remove all stop words from our tokens, stop words are words considered not valuable since they offer little to no information"
      ]
    },
    {
      "cell_type": "code",
      "execution_count": null,
      "metadata": {
        "colab": {
          "base_uri": "https://localhost:8080/"
        },
        "id": "SvUKqYDMFX6P",
        "outputId": "e2aa8260-2851-4821-cf34-015b48581f58"
      },
      "outputs": [
        {
          "name": "stdout",
          "output_type": "stream",
          "text": [
            "sige , i-fact check ninyo kung hindi totoo , mga ulalo . 😂😂😂😂 { alt-text-image : cory aquino real dictator upon power grab , cory : set aside 1973 constitution ratified majority people instituted “ freedom constitution ” penned solely . removed elected members legislature ; removed elected local officials replaced handpicked choices ; removed legally appointed members supreme court ; become one-man legislature making laws ( example , family code ) } "
          ]
        }
      ],
      "source": [
        "# Stop Word Removal\n",
        "\n",
        "stops_en = set(nltk.corpus.stopwords.words('english')) # english stopwords\n",
        "stops_tl = {word for word in urllib.request.urlopen(\"https://raw.githubusercontent.com/stopwords-iso/stopwords-tl/master/stopwords-tl.txt\")} # filipino stopwords\n",
        "\n",
        "x = lambda tokenlist : [x for x in tokenlist if x not in (stops_en | stops_tl)] # lambda function to remove stopwords from list of tokens\n",
        "tweets_nostops = [x(tweet) for tweet in tweets_lower]\n",
        "\n",
        "for token in tweets_nostops[34]:\n",
        "    print(token, end=' ')"
      ]
    },
    {
      "attachments": {},
      "cell_type": "markdown",
      "metadata": {},
      "source": [
        "We then move to stemming/lemmatization, both different techniques used to condense words down to their root, making it more usable in NLP"
      ]
    },
    {
      "cell_type": "code",
      "execution_count": null,
      "metadata": {
        "colab": {
          "base_uri": "https://localhost:8080/"
        },
        "id": "48GXGWlaK5iB",
        "outputId": "d352735f-cca2-4a45-931b-b3fb59092c1f"
      },
      "outputs": [
        {
          "name": "stdout",
          "output_type": "stream",
          "text": [
            "sige , i-fact check ninyo kung hindi totoo , mga ulalo . 😂😂😂😂 { alt-text-imag : cori aquino real dictat upon power grab , cori : set asid 1973 constitut ratifi major peopl institut “ freedom constitut ” pen sole . remov elect member legislatur ; remov elect local offici replac handpick choic ; remov legal appoint member suprem court ; becom one-man legislatur make law ( exampl , famili code ) } "
          ]
        }
      ],
      "source": [
        "# Stemming\n",
        "\n",
        "ps = nltk.stem.snowball.PorterStemmer()\n",
        "\n",
        "x = lambda tokenlist : [ps.stem(x) for x in tokenlist] # lambda function to stem each word in a list of tokens\n",
        "tweets_stemmed = [x(tweet) for tweet in tweets_nostops]\n",
        "\n",
        "for token in tweets_stemmed[34]:\n",
        "    print(token, end=' ')"
      ]
    },
    {
      "cell_type": "code",
      "execution_count": null,
      "metadata": {
        "colab": {
          "base_uri": "https://localhost:8080/"
        },
        "id": "WmheZWRgMuyj",
        "outputId": "c7630443-eeb2-43fa-fd88-898c541b4836"
      },
      "outputs": [
        {
          "name": "stdout",
          "output_type": "stream",
          "text": [
            "sige , i-fact check ninyo kung hindi totoo , mga ulalo . 😂😂😂😂 { alt-text-image : cory aquino real dictator upon power grab , cory : set aside 1973 constitution ratified majority people instituted “ freedom constitution ” penned solely . removed elected member legislature ; removed elected local official replaced handpicked choice ; removed legally appointed member supreme court ; become one-man legislature making law ( example , family code ) } "
          ]
        }
      ],
      "source": [
        "# Lemmatizing\n",
        "\n",
        "lemmatizer = nltk.stem.WordNetLemmatizer()\n",
        "\n",
        "x = lambda tokenlist : [lemmatizer.lemmatize(x) for x in tokenlist] # lambda function to lemmatize each word in a list of tokens\n",
        "tweets_lemmatized = [x(tweet) for tweet in tweets_nostops]\n",
        "\n",
        "for token in tweets_lemmatized[34]:\n",
        "    print(token, end=' ')"
      ]
    },
    {
      "cell_type": "markdown",
      "metadata": {
        "id": "2DD3QOLqESmy"
      },
      "source": [
        "# Data Visualization\n"
      ]
    },
    {
      "attachments": {},
      "cell_type": "markdown",
      "metadata": {},
      "source": [
        "Here we have a histogram depicting when our tweets have been posted:"
      ]
    },
    {
      "cell_type": "code",
      "execution_count": null,
      "metadata": {
        "colab": {
          "base_uri": "https://localhost:8080/",
          "height": 472
        },
        "id": "bb9HUWko1-yj",
        "outputId": "109b5c4a-0a30-45b4-85a0-07a3d05a573a"
      },
      "outputs": [
        {
          "data": {
            "image/png": "[encoded data removed]",
            "text/plain": [
              "<Figure size 640x480 with 1 Axes>"
            ]
          },
          "metadata": {},
          "output_type": "display_data"
        }
      ],
      "source": [
        "# Plot tweet dates\n",
        "\n",
        "fig, ax = plt.subplots(1,1)\n",
        "ax.hist(df_preprocessed[\"Date posted\"], bins=12, color='lightblue')\n",
        "locator = mdates.AutoDateLocator()\n",
        "ax.xaxis.set_major_locator(locator)\n",
        "ax.xaxis.set_major_formatter(mdates.AutoDateFormatter(locator))\n",
        "\n",
        "plt.xlabel(\"Date Posted\")\n",
        "plt.ylabel(\"Volume of Tweets\")\n",
        "plt.title(\"Distribution of Date Tweets Posted\")\n",
        "plt.show()"
      ]
    },
    {
      "cell_type": "markdown",
      "metadata": {
        "id": "mPdkv7-vjeMs"
      },
      "source": [
        "Plotting the respective election campaign intervals: \n",
        "\n",
        "2016: February 9 to May 7, 2016 (President, vice president, senators and party-lists)\n",
        "\n",
        "2019: February 12 to May 11, 2019 (For senate and partylist candidates)\n",
        "\n",
        "2022: February 8 to May 7, 2022 (President, vice president, senators and party-lists)\n",
        "\n",
        "\n",
        "\n"
      ]
    },
    {
      "cell_type": "code",
      "execution_count": null,
      "metadata": {
        "colab": {
          "base_uri": "https://localhost:8080/",
          "height": 472
        },
        "id": "37rNjpawinMM",
        "outputId": "1ddc8a6e-aa9d-45a4-bf81-14be82946d3a"
      },
      "outputs": [
        {
          "data": {
            "image/png": "[encoded data removed]",
            "text/plain": [
              "<Figure size 640x480 with 1 Axes>"
            ]
          },
          "metadata": {},
          "output_type": "display_data"
        }
      ],
      "source": [
        "# add campaign intervals\n",
        "# 2016 Campaign: Red\n",
        "# 2019 Campaign: Green\n",
        "# 2022 Campaign: Yellow\n",
        "\n",
        "fig, ax = plt.subplots(1,1)\n",
        "ax.hist(df_preprocessed[\"Date posted\"], bins=12, color='lightblue')\n",
        "locator = mdates.AutoDateLocator()\n",
        "ax.xaxis.set_major_locator(locator)\n",
        "ax.xaxis.set_major_formatter(mdates.AutoDateFormatter(locator))\n",
        "\n",
        "# 2016 Campaign: Red\n",
        "interval1_1 = mdates.datestr2num(['02/09/16', '02/09/16'])\n",
        "plt.plot(interval1_1 , (0,55), 'r-')\n",
        "interval1_2 = mdates.datestr2num(['05/07/16', '05/07/16'])\n",
        "plt.plot(interval1_2 , (0,55), 'r-')\n",
        "\n",
        "# 2019 Campaign: Green\n",
        "interval2_1 = mdates.datestr2num(['02/12/19', '02/12/19'])\n",
        "plt.plot(interval2_1 , (0,55), 'g-')\n",
        "interval2_2 = mdates.datestr2num(['05/11/19', '05/11/19'])\n",
        "plt.plot(interval2_2 , (0,55), 'g-')\n",
        "\n",
        "# 2022 Campaign: Yellow\n",
        "interval3_1 = mdates.datestr2num(['02/08/22', '02/08/22'])\n",
        "plt.plot(interval3_1 , (0,55), 'y-')\n",
        "interval3_2 = mdates.datestr2num(['05/07/22', '05/07/22'])\n",
        "plt.plot(interval3_2 , (0,55), 'y-')\n",
        "\n",
        "plt.xlabel(\"Date Posted\")\n",
        "plt.ylabel(\"Volume of Tweets\")\n",
        "plt.title(\"Distribution of Date Tweets Posted with Campaign Intervals\")\n",
        "plt.show()\n"
      ]
    },
    {
      "cell_type": "markdown",
      "metadata": {
        "id": "f8BA-0u_zO2i"
      },
      "source": [
        "The **Red** interval is the 2016 Election Campaign, the **Green** interval is the 2019 Election Campaign, and the **Yellow** interval is the 2022 Election Campaign"
      ]
    },
    {
      "cell_type": "markdown",
      "metadata": {
        "id": "i5PhRXzsjR1d"
      },
      "source": [
        "Observing this plot, most tweets were found BEFORE the 2022 Presidential Election Campaign\n",
        "\n",
        "**Additional Observation:** Plotting the date when President Ferdinand \"Bongbong\" Marcos and Leni Robredo filed for candidacy (October 6/7, 2021), we can see that many tweets were from around this time (Blue)"
      ]
    },
    {
      "cell_type": "code",
      "execution_count": null,
      "metadata": {
        "colab": {
          "base_uri": "https://localhost:8080/",
          "height": 430
        },
        "id": "fzsIPkJFkZGD",
        "outputId": "1e736e78-6365-445c-bdfb-3aec9ba850dd"
      },
      "outputs": [
        {
          "data": {
            "image/png": "[encoded data removed]",
            "text/plain": [
              "<Figure size 640x480 with 1 Axes>"
            ]
          },
          "metadata": {},
          "output_type": "display_data"
        }
      ],
      "source": [
        "# Plotting October 6, 2021\n",
        "\n",
        "fig, ax = plt.subplots(1,1)\n",
        "ax.hist(df_preprocessed[\"Date posted\"], bins=12, color='lightblue')\n",
        "locator = mdates.AutoDateLocator()\n",
        "ax.xaxis.set_major_locator(locator)\n",
        "ax.xaxis.set_major_formatter(mdates.AutoDateFormatter(locator))\n",
        "\n",
        "interval1_1 = mdates.datestr2num(['02/09/16', '02/09/16'])\n",
        "plt.plot(interval1_1 , (0,55), 'r-')\n",
        "interval1_2 = mdates.datestr2num(['05/07/16', '05/07/16'])\n",
        "plt.plot(interval1_2 , (0,55), 'r-')\n",
        "\n",
        "interval2_1 = mdates.datestr2num(['02/12/19', '02/12/19'])\n",
        "plt.plot(interval2_1 , (0,55), 'g-')\n",
        "interval2_2 = mdates.datestr2num(['05/11/19', '05/11/19'])\n",
        "plt.plot(interval2_2 , (0,55), 'g-')\n",
        "\n",
        "interval3_1 = mdates.datestr2num(['02/08/22', '02/08/22'])\n",
        "plt.plot(interval3_1 , (0,55), 'y-')\n",
        "interval3_2 = mdates.datestr2num(['05/07/22', '05/07/22'])\n",
        "plt.plot(interval3_2 , (0,55), 'y-')\n",
        "\n",
        "leni_file = ['10/07/21','10/07/21']\n",
        "plot_leni = mdates.datestr2num(['10/06/21','10/06/21'])\n",
        "plt.plot(plot_leni , (0,55), 'b-')\n",
        "plt.show()"
      ]
    },
    {
      "cell_type": "code",
      "execution_count": null,
      "metadata": {
        "colab": {
          "base_uri": "https://localhost:8080/",
          "height": 472
        },
        "id": "6ttLBTBuWGcl",
        "outputId": "655e3078-6e20-4abb-9d78-ea1d74259f4a"
      },
      "outputs": [
        {
          "data": {
            "image/png": "[encoded data removed]",
            "text/plain": [
              "<Figure size 640x480 with 1 Axes>"
            ]
          },
          "metadata": {},
          "output_type": "display_data"
        }
      ],
      "source": [
        "# Plot Bar Graph for the number of tweets posted during the specified election dates\n",
        "\n",
        "election_dates = [('2/9/16', '5/7/16'), ('2/12/19', '5/11/19'), ('2/8/22', '5/7/22')]\n",
        "tweet_count_list = []\n",
        "\n",
        "for start, end in election_dates:\n",
        "  start = mdates.datestr2num(start)\n",
        "  end = mdates.datestr2num(end)\n",
        "  tweet_count = df_preprocessed.loc[(df_preprocessed[\"Date posted\"] >= start) & (df_preprocessed[\"Date posted\"] <= end)].shape[0]\n",
        "  tweet_count_list.append(tweet_count)\n",
        "\n",
        "plt.bar(range(len(election_dates)), tweet_count_list)\n",
        "plt.xticks(range(len(election_dates)), [f'{start} - {end}' for start, end in election_dates])\n",
        "plt.xlabel('Date posted')\n",
        "plt.ylabel('Number of Tweets')\n",
        "plt.title('Number of Tweets Posted During Election Periods')\n",
        "plt.show()"
      ]
    },
    {
      "cell_type": "markdown",
      "metadata": {
        "id": "kP47Cxf8WQJ1"
      },
      "source": [
        "Bar plot is used for the data to visualize the number of tweets posted during the specified election periods as it shows the distribution of the said tweets and which range of dates has the most number of tweets."
      ]
    },
    {
      "attachments": {},
      "cell_type": "markdown",
      "metadata": {},
      "source": [
        "The following is heatmaps that show the correlation between different variables in a tweet like Followers, Likes and etc. These visualize how connected different variables are to each other."
      ]
    },
    {
      "cell_type": "code",
      "execution_count": null,
      "metadata": {
        "colab": {
          "base_uri": "https://localhost:8080/",
          "height": 532
        },
        "id": "OBbNiISGpBk-",
        "outputId": "c2c7380d-7e64-4b25-94c7-3ae2395640c6"
      },
      "outputs": [
        {
          "data": {
            "text/plain": [
              "<Axes: >"
            ]
          },
          "execution_count": 251,
          "metadata": {},
          "output_type": "execute_result"
        },
        {
          "data": {
            "image/png": "[encoded data removed]",
            "text/plain": [
              "<Figure size 640x480 with 2 Axes>"
            ]
          },
          "metadata": {},
          "output_type": "display_data"
        }
      ],
      "source": [
        "# Plot Heat Map of Account Followers, Following, Age, and Interactions (Replies, Quote Tweets, Likes, Replies)\n",
        "\n",
        "\n",
        "sns.heatmap(df_preprocessed.loc[:,[\"Following\", \"Followers\", \"Joined\", \"Likes\", \"Replies\", \"Retweets\", \"Quote Tweets\"]].corr())"
      ]
    },
    {
      "cell_type": "code",
      "execution_count": null,
      "metadata": {
        "colab": {
          "base_uri": "https://localhost:8080/",
          "height": 452
        },
        "id": "zdigZmt733oI",
        "outputId": "9f166a59-c37a-4441-e36b-d895f77b5c4e"
      },
      "outputs": [
        {
          "data": {
            "text/plain": [
              "<Axes: >"
            ]
          },
          "execution_count": 255,
          "metadata": {},
          "output_type": "execute_result"
        },
        {
          "data": {
            "image/png": "[encoded data removed]",
            "text/plain": [
              "<Figure size 640x480 with 2 Axes>"
            ]
          },
          "metadata": {},
          "output_type": "display_data"
        }
      ],
      "source": [
        "# Plot Heat Map of Account Followers, Following, and Interactions (Replies, Quote Tweets, Likes, Replies) with Interactions summed up\n",
        "\n",
        "df_interactions = df_preprocessed[\"Likes\"] + df_preprocessed[\"Replies\"] + df_preprocessed[\"Retweets\"] + df_preprocessed[\"Quote Tweets\"]\n",
        "df_interactions.rename(\"Interactions\", inplace=True)\n",
        "sns.heatmap(pd.concat([df_preprocessed.loc[:,[\"Following\", \"Followers\", \"Joined\"]], df_interactions],axis=1).corr())"
      ]
    },
    {
      "cell_type": "markdown",
      "metadata": {
        "id": "BbG7uwp5bDWz"
      },
      "source": [
        "#Data Frequency"
      ]
    },
    {
      "cell_type": "markdown",
      "metadata": {
        "id": "_wp8M2oHcnwC"
      },
      "source": [
        "The result shows that the the keyword **\"cory aquino 1 trillion, budget\"** is the most frequent keyword (39), followed by **\"Fake EDSA Revolution\"** (18), then **\"Cory contractualization\"** (11)."
      ]
    },
    {
      "cell_type": "code",
      "execution_count": null,
      "metadata": {
        "colab": {
          "base_uri": "https://localhost:8080/"
        },
        "id": "G9Ttin68bHbe",
        "outputId": "9d18b416-0106-489c-b158-9a5f7506890f"
      },
      "outputs": [
        {
          "name": "stdout",
          "output_type": "stream",
          "text": [
            "cory aquino 1 trillion, budget                 39\n",
            "Fake EDSA Revolution                           18\n",
            "Cory contractualization                        11\n",
            "cory aquino trillion debt                      10\n",
            "fake EDSA Revolution                            5\n",
            "Bataan Nuclear Power Plant                      5\n",
            "Marcos kidnapped                                5\n",
            "Cory Aquino contractualization                  4\n",
            "Cory Aquino, Power Grab                         3\n",
            "Cory History books and marcos                   3\n",
            "EDSA Revolution fake news                       3\n",
            "Marcos, Kidnapped by USA                        3\n",
            "Aquino, Communist Party of the Philippines.     3\n",
            "EDSA fake                                       3\n",
            "Cory Aquino and PAL                             3\n",
            "Cory Communist                                  3\n",
            "Cory Aquino                                     2\n",
            "Cory Aquino on ofw                              2\n",
            "Cory sold state-owned businesses                2\n",
            "Marcos, 1986 Snap Election                      2\n",
            "Ninoy, NPA, fake EDSA Revolution                1\n",
            "Marcos, Kidnapped by USA, 1986 Election         1\n",
            "Cory revised History books and Marcos           1\n",
            "Marcos, Kidnapped by USA, CIA                   1\n",
            "Cory, Snap Election                             1\n",
            "Aquino, Oligarchs, NPA                          1\n",
            "snap election, fake EDSA Revolution             1\n",
            "EDSA                                            1\n",
            "Cory Aquino, remove all elected officials       1\n",
            "Cory Aquino, Dictator                           1\n",
            "Marcoses not guilty, Cory Aquino                1\n",
            "EDSA, Lie                                       1\n",
            "EDSA, People Power Revolution                   1\n",
            "Cory Aquino, Grab Presidency                    1\n",
            "Ninoy Aquino, Cory Aquino                       1\n",
            "BNPP Meralco                                    1\n",
            "Marcos kidnapping 1986                          1\n",
            "Cory Aquino communist                           1\n",
            "Cory Aquino 1986 Constitutional Commission      1\n",
            "Cory Aquino Air strike request                  1\n",
            "cory aquino trillion debt budget                1\n",
            "Name: Keywords, dtype: int64\n"
          ]
        }
      ],
      "source": [
        "freq = df_preprocessed[\"Keywords\"].value_counts()\n",
        "print(freq)"
      ]
    },
    {
      "cell_type": "markdown",
      "metadata": {
        "id": "dorzFeLFd3Rm"
      },
      "source": [
        "This result shows that the **Anonymous Account Type** composes most of the data set with 113 tweets."
      ]
    },
    {
      "cell_type": "code",
      "execution_count": null,
      "metadata": {
        "colab": {
          "base_uri": "https://localhost:8080/"
        },
        "id": "mycucHFXbfW7",
        "outputId": "a38e8f9e-f29d-4f9d-f088-d2f3194d45d7"
      },
      "outputs": [
        {
          "name": "stdout",
          "output_type": "stream",
          "text": [
            "Anonymous     113\n",
            "Identified     37\n",
            "Name: Account type, dtype: int64\n"
          ]
        }
      ],
      "source": [
        "freq = df_preprocessed[\"Account type\"].value_counts()\n",
        "print(freq)"
      ]
    },
    {
      "cell_type": "markdown",
      "metadata": {
        "id": "gJeWIFYUeLdQ"
      },
      "source": [
        "This result shows that most tweets in the dataset are from the Philippines. Further analysis shows that 42 tweets explicitly contain the word \"Philippines.\" "
      ]
    },
    {
      "cell_type": "code",
      "execution_count": null,
      "metadata": {
        "colab": {
          "base_uri": "https://localhost:8080/"
        },
        "id": "uggI6wPUbi79",
        "outputId": "c1cbe0b9-32b4-4a69-d40d-b7d6db4d479d"
      },
      "outputs": [
        {
          "name": "stdout",
          "output_type": "stream",
          "text": [
            "Philippines                                13\n",
            "Manila, Philippines                         7\n",
            "Republic of the Philippines                 4\n",
            "Biñan City, Laguna                          2\n",
            "Rizal, Philippines                          2\n",
            "Davao, Philippines                          2\n",
            "Singapore                                   2\n",
            "Metro Manila, Philippines                   2\n",
            "California, USA                             2\n",
            "Cebu, Philippines                           2\n",
            "Calabarzon, Philippines                     2\n",
            "National Capital Region, Repub              2\n",
            "Laguna, Philippines                         1\n",
            "kingsville executive village                1\n",
            "Cesspool                                    1\n",
            "Dasmarinas, Calabarzon                      1\n",
            "Maharlikang Pilipinas                       1\n",
            "Bataan 🇵🇭                                   1\n",
            "Lipa City, Batangas                         1\n",
            "Dubai, United Arab Emirates                 1\n",
            "Toronto, Ontario                            1\n",
            "kapoya oy                                   1\n",
            "Montreal Canada                             1\n",
            "Guiguinto Bulacan                           1\n",
            "Houston, TX                                 1\n",
            "Bulacan, Philippines                        1\n",
            "Jeddah, Saudi Arabia                        1\n",
            "Cebu, Philppines                            1\n",
            "Zurich, Switzerland                         1\n",
            "Kuala Lumpur, Malaysia                      1\n",
            "Nagoya City, Aichi                          1\n",
            "Pasig City, Philippines                     1\n",
            "London, England                             1\n",
            "United Kingdom                              1\n",
            "Toronto, Canada                             1\n",
            "Portugal                                    1\n",
            "Florida, USA                                1\n",
            "Metro Manila, Philippines                   1\n",
            "National Capital Region, Philippines        1\n",
            "Gods of Nature, Mt. Timbak, Philippines     1\n",
            "Taiwan                                      1\n",
            "Ilocos Norte, Philippines                   1\n",
            "Quezon City, Philippines                    1\n",
            "Saudi Arabia                                1\n",
            "Northern Sky                                1\n",
            "Name: Location, dtype: int64\n",
            "\n",
            " Philippines: 42\n"
          ]
        }
      ],
      "source": [
        "freq = df_preprocessed[\"Location\"].value_counts()\n",
        "has_PH = df_preprocessed[\"Location\"].str.contains(\"Philippines\", case=False, na=False)\n",
        "filtered_df = df[has_PH][\"Location\"].count()\n",
        "print(freq)\n",
        "print(\"\\n Philippines:\", filtered_df)\n"
      ]
    },
    {
      "cell_type": "markdown",
      "metadata": {
        "id": "03Tj9l7eiBnY"
      },
      "source": [
        "This result shows that most of the tweets in the dataset are **Text, reply**"
      ]
    },
    {
      "cell_type": "code",
      "execution_count": null,
      "metadata": {
        "colab": {
          "base_uri": "https://localhost:8080/"
        },
        "id": "8UHmANc9bmWN",
        "outputId": "ef210c70-2426-4a25-e968-75f8555ddab2"
      },
      "outputs": [
        {
          "name": "stdout",
          "output_type": "stream",
          "text": [
            "Text, reply                 44\n",
            "Text                        42\n",
            "Text, Reply                 27\n",
            "Text, quote tweet           12\n",
            "Text, image                 12\n",
            "Text, URL                    3\n",
            "Text, Image                  2\n",
            "Text, Quote tweet            2\n",
            "Text, reply, image           2\n",
            "Text, image, URL             1\n",
            "Text, video                  1\n",
            "Text, reply, video           1\n",
            "Text, photo, quote tweet     1\n",
            "Name: Tweet Type, dtype: int64\n"
          ]
        }
      ],
      "source": [
        "freq = df_preprocessed[\"Tweet Type\"].value_counts()\n",
        "print(freq)\n"
      ]
    },
    {
      "cell_type": "markdown",
      "metadata": {
        "id": "pL-JY96hi-xm"
      },
      "source": [
        "This result shows that most of the tweets in the dataset are **Rational**\n"
      ]
    },
    {
      "cell_type": "code",
      "execution_count": null,
      "metadata": {
        "colab": {
          "base_uri": "https://localhost:8080/"
        },
        "id": "lOqKLTCIbpuJ",
        "outputId": "50894e54-55f3-4957-e75b-227055273bbb"
      },
      "outputs": [
        {
          "name": "stdout",
          "output_type": "stream",
          "text": [
            "Rational         136\n",
            "Emotional         13\n",
            "Transactional      1\n",
            "Name: Content type, dtype: int64\n"
          ]
        }
      ],
      "source": [
        "freq = df_preprocessed[\"Content type\"].value_counts()\n",
        "print(freq)"
      ]
    },
    {
      "cell_type": "markdown",
      "metadata": {
        "id": "mDUG5_F3jJPM"
      },
      "source": [
        "This result shows that most of the tweets in the dataset are rated as **FALSE**"
      ]
    },
    {
      "cell_type": "code",
      "execution_count": null,
      "metadata": {
        "colab": {
          "base_uri": "https://localhost:8080/"
        },
        "id": "foLIbuQ5bsnz",
        "outputId": "87fc155d-f89d-4671-fab2-a9ef2ddeaf74"
      },
      "outputs": [
        {
          "name": "stdout",
          "output_type": "stream",
          "text": [
            "FALSE           129\n",
            "MISLEADING        9\n",
            "NEED CONTEXT      9\n",
            "UNPROVEN          3\n",
            "Name: Rating, dtype: int64\n"
          ]
        }
      ],
      "source": [
        "freq = df_preprocessed[\"Rating\"].value_counts()\n",
        "print(freq)"
      ]
    }
  ],
  "metadata": {
    "colab": {
      "collapsed_sections": [
        "2DD3QOLqESmy"
      ],
      "include_colab_link": true,
      "provenance": []
    },
    "kernelspec": {
      "display_name": "Python 3",
      "name": "python3"
    },
    "language_info": {
      "name": "python"
    }
  },
  "nbformat": 4,
  "nbformat_minor": 0
}
