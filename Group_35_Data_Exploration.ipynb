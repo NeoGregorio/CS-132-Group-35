{
  "cells": [
    {
      "cell_type": "markdown",
      "metadata": {
        "id": "ySQo7GQqEJSv"
      },
      "source": [
        "# Preprocessing\n",
        "\n",
        "The following are done for the initial preprocessing of the data:\n",
        "\n",
        "*   Handling mssing values\n",
        "*   Handling Outliers\n",
        "*   Ensuring Formatting Consistency\n",
        "*   Normalization\n",
        "*   Categorical Data Encoding"
      ]
    },
    {
      "cell_type": "code",
      "execution_count": null,
      "metadata": {
        "colab": {
          "base_uri": "https://localhost:8080/",
          "height": 1000
        },
        "id": "uYYDodTaLUWR",
        "outputId": "d26d9b18-f35a-430f-b356-80d8c080b447"
      },
      "outputs": [
        {
          "output_type": "execute_result",
          "data": {
            "text/plain": [
              "         ID          Timestamp  \\\n",
              "0      35-1  12/03/23 16:01:45   \n",
              "1      35-2  20/03/23 16:16:00   \n",
              "2      35-3  20/03/23 17:09:11   \n",
              "3      35-4  20/03/23 18:32:09   \n",
              "4      35-5  20/03/23 20:00:05   \n",
              "..      ...                ...   \n",
              "145  35-146  18/04/23 20:43:26   \n",
              "146  35-147  18/04/23 20:57:20   \n",
              "147  35-148  18/04/23 21:00:02   \n",
              "148  35-149  18/04/23 21:03:47   \n",
              "149  35-150  18/04/23 21:06:07   \n",
              "\n",
              "                                             Tweet URL  Group  \\\n",
              "0    https://twitter.com/up_kyla/status/15250434466...     35   \n",
              "1    https://twitter.com/mlleahrb/status/1459139793...     35   \n",
              "2    https://twitter.com/CLoveadore/status/15360689...     35   \n",
              "3    https://twitter.com/AntiPPropaganda/status/153...     35   \n",
              "4    https://twitter.com/ThePaladin33/status/150937...     35   \n",
              "..                                                 ...    ...   \n",
              "145  https://twitter.com/yap_dimaala/status/1451669...     35   \n",
              "146  https://twitter.com/grecoroman777/status/15021...     35   \n",
              "147  https://twitter.com/AnyaRedlily/status/1524267...     35   \n",
              "148  https://twitter.com/smllslktnspt/status/149239...     35   \n",
              "149  https://twitter.com/Maris53441812/status/14401...     35   \n",
              "\n",
              "                   Collector Category  \\\n",
              "0    Herminio L. Gregorio IV     AQNO   \n",
              "1      James Daniel P. Ducay     AQNO   \n",
              "2      James Daniel P. Ducay     AQNO   \n",
              "3      James Daniel P. Ducay     AQNO   \n",
              "4      James Daniel P. Ducay     AQNO   \n",
              "..                       ...      ...   \n",
              "145      Glenn Walter V. Lim     AQNO   \n",
              "146      Glenn Walter V. Lim     AQNO   \n",
              "147      Glenn Walter V. Lim     AQNO   \n",
              "148      Glenn Walter V. Lim     AQNO   \n",
              "149      Glenn Walter V. Lim     AQNO   \n",
              "\n",
              "                                                 Topic  \\\n",
              "0    False claims about the validity and presidency...   \n",
              "1    False claims about the validity and presidency...   \n",
              "2    False claims about the validity and presidency...   \n",
              "3    False claims about the validity and presidency...   \n",
              "4    False claims about the validity and presidency...   \n",
              "..                                                 ...   \n",
              "145  False claims about the validity and presidency...   \n",
              "146  False claims about the validity and presidency...   \n",
              "147  False claims about the validity and presidency...   \n",
              "148  False claims about the validity and presidency...   \n",
              "149  False claims about the validity and presidency...   \n",
              "\n",
              "                           Keywords    Account handle          Account name  \\\n",
              "0        Marcos, 1986 Snap Election          @up_kyla          AlphaOneRene   \n",
              "1         EDSA Revolution fake news         @mlleahrb          𝓪𝓻𝓲𝓪𝓷𝓷𝓮 ♊❤️💚   \n",
              "2         EDSA Revolution fake news       @CLoveadore        malditang lola   \n",
              "3         EDSA Revolution fake news  @AntiPPropaganda  Anti Pink Propaganda   \n",
              "4                    Cory Communist     @ThePaladin33         Sagittarius33   \n",
              "..                              ...               ...                   ...   \n",
              "145       cory aquino trillion debt      @yap_dimaala                Maryam   \n",
              "146  cory aquino 1 trillion, budget    @grecoroman777               Spartan   \n",
              "147  cory aquino 1 trillion, budget      @AnyaRedlily                  Anya   \n",
              "148  cory aquino 1 trillion, budget     @smllslktnspt                  Nvna   \n",
              "149  cory aquino 1 trillion, budget    @Maris53441812                 Maris   \n",
              "\n",
              "     ... Quote Tweets Views      Rating  \\\n",
              "0    ...            0   NaN       FALSE   \n",
              "1    ...            0   NaN  MISLEADING   \n",
              "2    ...            0   NaN    UNPROVEN   \n",
              "3    ...            0   NaN    UNPROVEN   \n",
              "4    ...            0   NaN    UNPROVEN   \n",
              "..   ...          ...   ...         ...   \n",
              "145  ...            0   NaN       FALSE   \n",
              "146  ...            0   NaN       FALSE   \n",
              "147  ...            0   NaN       FALSE   \n",
              "148  ...            0   NaN       FALSE   \n",
              "149  ...            0   NaN       FALSE   \n",
              "\n",
              "                                             Reasoning  \\\n",
              "0    Marcos was persuaded to leave the country by a...   \n",
              "1    The EDSA revolution was led by the people to r...   \n",
              "2    Although USA has a role during the EDSA revolu...   \n",
              "3    Although USA has a role during the EDSA revolu...   \n",
              "4    There were no proof that Cory convined with co...   \n",
              "..                                                 ...   \n",
              "145  FALSE: National debt during Cory Aquino’s term...   \n",
              "146  FALSE: ‘NSO’ figures comparing spending budget...   \n",
              "147  FALSE: ‘NSO’ figures comparing spending budget...   \n",
              "148  FALSE: ‘NSO’ figures comparing spending budget...   \n",
              "149  FALSE: ‘NSO’ figures comparing spending budget...   \n",
              "\n",
              "                                               Remarks Add columns here  \\\n",
              "0                                                  NaN              NaN   \n",
              "1    This tweet quotes the tweet: https://twitter.c...              NaN   \n",
              "2                                                  NaN              NaN   \n",
              "3                                                  NaN              NaN   \n",
              "4                                                  NaN              NaN   \n",
              "..                                                 ...              ...   \n",
              "145  This tweet is a reply to: https://twitter.com/...              NaN   \n",
              "146                                                NaN              NaN   \n",
              "147  This tweet is a reply to: https://twitter.com/...              NaN   \n",
              "148  This tweet is a reply to: https://twitter.com/...              NaN   \n",
              "149  This tweet is a reply to: https://twitter.com/...              NaN   \n",
              "\n",
              "    Add columns here.1  Add columns here.2 Reviewer Review  \n",
              "0                  NaN                 NaN      NaN    NaN  \n",
              "1                  NaN                 NaN      NaN    NaN  \n",
              "2                  NaN                 NaN      NaN    NaN  \n",
              "3                  NaN                 NaN      NaN    NaN  \n",
              "4                  NaN                 NaN      NaN    NaN  \n",
              "..                 ...                 ...      ...    ...  \n",
              "145                NaN                 NaN      NaN    NaN  \n",
              "146                NaN                 NaN      NaN    NaN  \n",
              "147                NaN                 NaN      NaN    NaN  \n",
              "148                NaN                 NaN      NaN    NaN  \n",
              "149                NaN                 NaN      NaN    NaN  \n",
              "\n",
              "[150 rows x 35 columns]"
            ],
            "text/html": [
              "\n",
              "  <div id=\"df-3f6af570-3c76-43c5-ab72-d97e2a3fd1b6\">\n",
              "    <div class=\"colab-df-container\">\n",
              "      <div>\n",
              "<style scoped>\n",
              "    .dataframe tbody tr th:only-of-type {\n",
              "        vertical-align: middle;\n",
              "    }\n",
              "\n",
              "    .dataframe tbody tr th {\n",
              "        vertical-align: top;\n",
              "    }\n",
              "\n",
              "    .dataframe thead th {\n",
              "        text-align: right;\n",
              "    }\n",
              "</style>\n",
              "<table border=\"1\" class=\"dataframe\">\n",
              "  <thead>\n",
              "    <tr style=\"text-align: right;\">\n",
              "      <th></th>\n",
              "      <th>ID</th>\n",
              "      <th>Timestamp</th>\n",
              "      <th>Tweet URL</th>\n",
              "      <th>Group</th>\n",
              "      <th>Collector</th>\n",
              "      <th>Category</th>\n",
              "      <th>Topic</th>\n",
              "      <th>Keywords</th>\n",
              "      <th>Account handle</th>\n",
              "      <th>Account name</th>\n",
              "      <th>...</th>\n",
              "      <th>Quote Tweets</th>\n",
              "      <th>Views</th>\n",
              "      <th>Rating</th>\n",
              "      <th>Reasoning</th>\n",
              "      <th>Remarks</th>\n",
              "      <th>Add columns here</th>\n",
              "      <th>Add columns here.1</th>\n",
              "      <th>Add columns here.2</th>\n",
              "      <th>Reviewer</th>\n",
              "      <th>Review</th>\n",
              "    </tr>\n",
              "  </thead>\n",
              "  <tbody>\n",
              "    <tr>\n",
              "      <th>0</th>\n",
              "      <td>35-1</td>\n",
              "      <td>12/03/23 16:01:45</td>\n",
              "      <td>https://twitter.com/up_kyla/status/15250434466...</td>\n",
              "      <td>35</td>\n",
              "      <td>Herminio L. Gregorio IV</td>\n",
              "      <td>AQNO</td>\n",
              "      <td>False claims about the validity and presidency...</td>\n",
              "      <td>Marcos, 1986 Snap Election</td>\n",
              "      <td>@up_kyla</td>\n",
              "      <td>AlphaOneRene</td>\n",
              "      <td>...</td>\n",
              "      <td>0</td>\n",
              "      <td>NaN</td>\n",
              "      <td>FALSE</td>\n",
              "      <td>Marcos was persuaded to leave the country by a...</td>\n",
              "      <td>NaN</td>\n",
              "      <td>NaN</td>\n",
              "      <td>NaN</td>\n",
              "      <td>NaN</td>\n",
              "      <td>NaN</td>\n",
              "      <td>NaN</td>\n",
              "    </tr>\n",
              "    <tr>\n",
              "      <th>1</th>\n",
              "      <td>35-2</td>\n",
              "      <td>20/03/23 16:16:00</td>\n",
              "      <td>https://twitter.com/mlleahrb/status/1459139793...</td>\n",
              "      <td>35</td>\n",
              "      <td>James Daniel P. Ducay</td>\n",
              "      <td>AQNO</td>\n",
              "      <td>False claims about the validity and presidency...</td>\n",
              "      <td>EDSA Revolution fake news</td>\n",
              "      <td>@mlleahrb</td>\n",
              "      <td>𝓪𝓻𝓲𝓪𝓷𝓷𝓮 ♊❤️💚</td>\n",
              "      <td>...</td>\n",
              "      <td>0</td>\n",
              "      <td>NaN</td>\n",
              "      <td>MISLEADING</td>\n",
              "      <td>The EDSA revolution was led by the people to r...</td>\n",
              "      <td>This tweet quotes the tweet: https://twitter.c...</td>\n",
              "      <td>NaN</td>\n",
              "      <td>NaN</td>\n",
              "      <td>NaN</td>\n",
              "      <td>NaN</td>\n",
              "      <td>NaN</td>\n",
              "    </tr>\n",
              "    <tr>\n",
              "      <th>2</th>\n",
              "      <td>35-3</td>\n",
              "      <td>20/03/23 17:09:11</td>\n",
              "      <td>https://twitter.com/CLoveadore/status/15360689...</td>\n",
              "      <td>35</td>\n",
              "      <td>James Daniel P. Ducay</td>\n",
              "      <td>AQNO</td>\n",
              "      <td>False claims about the validity and presidency...</td>\n",
              "      <td>EDSA Revolution fake news</td>\n",
              "      <td>@CLoveadore</td>\n",
              "      <td>malditang lola</td>\n",
              "      <td>...</td>\n",
              "      <td>0</td>\n",
              "      <td>NaN</td>\n",
              "      <td>UNPROVEN</td>\n",
              "      <td>Although USA has a role during the EDSA revolu...</td>\n",
              "      <td>NaN</td>\n",
              "      <td>NaN</td>\n",
              "      <td>NaN</td>\n",
              "      <td>NaN</td>\n",
              "      <td>NaN</td>\n",
              "      <td>NaN</td>\n",
              "    </tr>\n",
              "    <tr>\n",
              "      <th>3</th>\n",
              "      <td>35-4</td>\n",
              "      <td>20/03/23 18:32:09</td>\n",
              "      <td>https://twitter.com/AntiPPropaganda/status/153...</td>\n",
              "      <td>35</td>\n",
              "      <td>James Daniel P. Ducay</td>\n",
              "      <td>AQNO</td>\n",
              "      <td>False claims about the validity and presidency...</td>\n",
              "      <td>EDSA Revolution fake news</td>\n",
              "      <td>@AntiPPropaganda</td>\n",
              "      <td>Anti Pink Propaganda</td>\n",
              "      <td>...</td>\n",
              "      <td>0</td>\n",
              "      <td>NaN</td>\n",
              "      <td>UNPROVEN</td>\n",
              "      <td>Although USA has a role during the EDSA revolu...</td>\n",
              "      <td>NaN</td>\n",
              "      <td>NaN</td>\n",
              "      <td>NaN</td>\n",
              "      <td>NaN</td>\n",
              "      <td>NaN</td>\n",
              "      <td>NaN</td>\n",
              "    </tr>\n",
              "    <tr>\n",
              "      <th>4</th>\n",
              "      <td>35-5</td>\n",
              "      <td>20/03/23 20:00:05</td>\n",
              "      <td>https://twitter.com/ThePaladin33/status/150937...</td>\n",
              "      <td>35</td>\n",
              "      <td>James Daniel P. Ducay</td>\n",
              "      <td>AQNO</td>\n",
              "      <td>False claims about the validity and presidency...</td>\n",
              "      <td>Cory Communist</td>\n",
              "      <td>@ThePaladin33</td>\n",
              "      <td>Sagittarius33</td>\n",
              "      <td>...</td>\n",
              "      <td>0</td>\n",
              "      <td>NaN</td>\n",
              "      <td>UNPROVEN</td>\n",
              "      <td>There were no proof that Cory convined with co...</td>\n",
              "      <td>NaN</td>\n",
              "      <td>NaN</td>\n",
              "      <td>NaN</td>\n",
              "      <td>NaN</td>\n",
              "      <td>NaN</td>\n",
              "      <td>NaN</td>\n",
              "    </tr>\n",
              "    <tr>\n",
              "      <th>...</th>\n",
              "      <td>...</td>\n",
              "      <td>...</td>\n",
              "      <td>...</td>\n",
              "      <td>...</td>\n",
              "      <td>...</td>\n",
              "      <td>...</td>\n",
              "      <td>...</td>\n",
              "      <td>...</td>\n",
              "      <td>...</td>\n",
              "      <td>...</td>\n",
              "      <td>...</td>\n",
              "      <td>...</td>\n",
              "      <td>...</td>\n",
              "      <td>...</td>\n",
              "      <td>...</td>\n",
              "      <td>...</td>\n",
              "      <td>...</td>\n",
              "      <td>...</td>\n",
              "      <td>...</td>\n",
              "      <td>...</td>\n",
              "      <td>...</td>\n",
              "    </tr>\n",
              "    <tr>\n",
              "      <th>145</th>\n",
              "      <td>35-146</td>\n",
              "      <td>18/04/23 20:43:26</td>\n",
              "      <td>https://twitter.com/yap_dimaala/status/1451669...</td>\n",
              "      <td>35</td>\n",
              "      <td>Glenn Walter V. Lim</td>\n",
              "      <td>AQNO</td>\n",
              "      <td>False claims about the validity and presidency...</td>\n",
              "      <td>cory aquino trillion debt</td>\n",
              "      <td>@yap_dimaala</td>\n",
              "      <td>Maryam</td>\n",
              "      <td>...</td>\n",
              "      <td>0</td>\n",
              "      <td>NaN</td>\n",
              "      <td>FALSE</td>\n",
              "      <td>FALSE: National debt during Cory Aquino’s term...</td>\n",
              "      <td>This tweet is a reply to: https://twitter.com/...</td>\n",
              "      <td>NaN</td>\n",
              "      <td>NaN</td>\n",
              "      <td>NaN</td>\n",
              "      <td>NaN</td>\n",
              "      <td>NaN</td>\n",
              "    </tr>\n",
              "    <tr>\n",
              "      <th>146</th>\n",
              "      <td>35-147</td>\n",
              "      <td>18/04/23 20:57:20</td>\n",
              "      <td>https://twitter.com/grecoroman777/status/15021...</td>\n",
              "      <td>35</td>\n",
              "      <td>Glenn Walter V. Lim</td>\n",
              "      <td>AQNO</td>\n",
              "      <td>False claims about the validity and presidency...</td>\n",
              "      <td>cory aquino 1 trillion, budget</td>\n",
              "      <td>@grecoroman777</td>\n",
              "      <td>Spartan</td>\n",
              "      <td>...</td>\n",
              "      <td>0</td>\n",
              "      <td>NaN</td>\n",
              "      <td>FALSE</td>\n",
              "      <td>FALSE: ‘NSO’ figures comparing spending budget...</td>\n",
              "      <td>NaN</td>\n",
              "      <td>NaN</td>\n",
              "      <td>NaN</td>\n",
              "      <td>NaN</td>\n",
              "      <td>NaN</td>\n",
              "      <td>NaN</td>\n",
              "    </tr>\n",
              "    <tr>\n",
              "      <th>147</th>\n",
              "      <td>35-148</td>\n",
              "      <td>18/04/23 21:00:02</td>\n",
              "      <td>https://twitter.com/AnyaRedlily/status/1524267...</td>\n",
              "      <td>35</td>\n",
              "      <td>Glenn Walter V. Lim</td>\n",
              "      <td>AQNO</td>\n",
              "      <td>False claims about the validity and presidency...</td>\n",
              "      <td>cory aquino 1 trillion, budget</td>\n",
              "      <td>@AnyaRedlily</td>\n",
              "      <td>Anya</td>\n",
              "      <td>...</td>\n",
              "      <td>0</td>\n",
              "      <td>NaN</td>\n",
              "      <td>FALSE</td>\n",
              "      <td>FALSE: ‘NSO’ figures comparing spending budget...</td>\n",
              "      <td>This tweet is a reply to: https://twitter.com/...</td>\n",
              "      <td>NaN</td>\n",
              "      <td>NaN</td>\n",
              "      <td>NaN</td>\n",
              "      <td>NaN</td>\n",
              "      <td>NaN</td>\n",
              "    </tr>\n",
              "    <tr>\n",
              "      <th>148</th>\n",
              "      <td>35-149</td>\n",
              "      <td>18/04/23 21:03:47</td>\n",
              "      <td>https://twitter.com/smllslktnspt/status/149239...</td>\n",
              "      <td>35</td>\n",
              "      <td>Glenn Walter V. Lim</td>\n",
              "      <td>AQNO</td>\n",
              "      <td>False claims about the validity and presidency...</td>\n",
              "      <td>cory aquino 1 trillion, budget</td>\n",
              "      <td>@smllslktnspt</td>\n",
              "      <td>Nvna</td>\n",
              "      <td>...</td>\n",
              "      <td>0</td>\n",
              "      <td>NaN</td>\n",
              "      <td>FALSE</td>\n",
              "      <td>FALSE: ‘NSO’ figures comparing spending budget...</td>\n",
              "      <td>This tweet is a reply to: https://twitter.com/...</td>\n",
              "      <td>NaN</td>\n",
              "      <td>NaN</td>\n",
              "      <td>NaN</td>\n",
              "      <td>NaN</td>\n",
              "      <td>NaN</td>\n",
              "    </tr>\n",
              "    <tr>\n",
              "      <th>149</th>\n",
              "      <td>35-150</td>\n",
              "      <td>18/04/23 21:06:07</td>\n",
              "      <td>https://twitter.com/Maris53441812/status/14401...</td>\n",
              "      <td>35</td>\n",
              "      <td>Glenn Walter V. Lim</td>\n",
              "      <td>AQNO</td>\n",
              "      <td>False claims about the validity and presidency...</td>\n",
              "      <td>cory aquino 1 trillion, budget</td>\n",
              "      <td>@Maris53441812</td>\n",
              "      <td>Maris</td>\n",
              "      <td>...</td>\n",
              "      <td>0</td>\n",
              "      <td>NaN</td>\n",
              "      <td>FALSE</td>\n",
              "      <td>FALSE: ‘NSO’ figures comparing spending budget...</td>\n",
              "      <td>This tweet is a reply to: https://twitter.com/...</td>\n",
              "      <td>NaN</td>\n",
              "      <td>NaN</td>\n",
              "      <td>NaN</td>\n",
              "      <td>NaN</td>\n",
              "      <td>NaN</td>\n",
              "    </tr>\n",
              "  </tbody>\n",
              "</table>\n",
              "<p>150 rows × 35 columns</p>\n",
              "</div>\n",
              "      <button class=\"colab-df-convert\" onclick=\"convertToInteractive('df-3f6af570-3c76-43c5-ab72-d97e2a3fd1b6')\"\n",
              "              title=\"Convert this dataframe to an interactive table.\"\n",
              "              style=\"display:none;\">\n",
              "        \n",
              "  <svg xmlns=\"http://www.w3.org/2000/svg\" height=\"24px\"viewBox=\"0 0 24 24\"\n",
              "       width=\"24px\">\n",
              "    <path d=\"M0 0h24v24H0V0z\" fill=\"none\"/>\n",
              "    <path d=\"M18.56 5.44l.94 2.06.94-2.06 2.06-.94-2.06-.94-.94-2.06-.94 2.06-2.06.94zm-11 1L8.5 8.5l.94-2.06 2.06-.94-2.06-.94L8.5 2.5l-.94 2.06-2.06.94zm10 10l.94 2.06.94-2.06 2.06-.94-2.06-.94-.94-2.06-.94 2.06-2.06.94z\"/><path d=\"M17.41 7.96l-1.37-1.37c-.4-.4-.92-.59-1.43-.59-.52 0-1.04.2-1.43.59L10.3 9.45l-7.72 7.72c-.78.78-.78 2.05 0 2.83L4 21.41c.39.39.9.59 1.41.59.51 0 1.02-.2 1.41-.59l7.78-7.78 2.81-2.81c.8-.78.8-2.07 0-2.86zM5.41 20L4 18.59l7.72-7.72 1.47 1.35L5.41 20z\"/>\n",
              "  </svg>\n",
              "      </button>\n",
              "      \n",
              "  <style>\n",
              "    .colab-df-container {\n",
              "      display:flex;\n",
              "      flex-wrap:wrap;\n",
              "      gap: 12px;\n",
              "    }\n",
              "\n",
              "    .colab-df-convert {\n",
              "      background-color: #E8F0FE;\n",
              "      border: none;\n",
              "      border-radius: 50%;\n",
              "      cursor: pointer;\n",
              "      display: none;\n",
              "      fill: #1967D2;\n",
              "      height: 32px;\n",
              "      padding: 0 0 0 0;\n",
              "      width: 32px;\n",
              "    }\n",
              "\n",
              "    .colab-df-convert:hover {\n",
              "      background-color: #E2EBFA;\n",
              "      box-shadow: 0px 1px 2px rgba(60, 64, 67, 0.3), 0px 1px 3px 1px rgba(60, 64, 67, 0.15);\n",
              "      fill: #174EA6;\n",
              "    }\n",
              "\n",
              "    [theme=dark] .colab-df-convert {\n",
              "      background-color: #3B4455;\n",
              "      fill: #D2E3FC;\n",
              "    }\n",
              "\n",
              "    [theme=dark] .colab-df-convert:hover {\n",
              "      background-color: #434B5C;\n",
              "      box-shadow: 0px 1px 3px 1px rgba(0, 0, 0, 0.15);\n",
              "      filter: drop-shadow(0px 1px 2px rgba(0, 0, 0, 0.3));\n",
              "      fill: #FFFFFF;\n",
              "    }\n",
              "  </style>\n",
              "\n",
              "      <script>\n",
              "        const buttonEl =\n",
              "          document.querySelector('#df-3f6af570-3c76-43c5-ab72-d97e2a3fd1b6 button.colab-df-convert');\n",
              "        buttonEl.style.display =\n",
              "          google.colab.kernel.accessAllowed ? 'block' : 'none';\n",
              "\n",
              "        async function convertToInteractive(key) {\n",
              "          const element = document.querySelector('#df-3f6af570-3c76-43c5-ab72-d97e2a3fd1b6');\n",
              "          const dataTable =\n",
              "            await google.colab.kernel.invokeFunction('convertToInteractive',\n",
              "                                                     [key], {});\n",
              "          if (!dataTable) return;\n",
              "\n",
              "          const docLinkHtml = 'Like what you see? Visit the ' +\n",
              "            '<a target=\"_blank\" href=https://colab.research.google.com/notebooks/data_table.ipynb>data table notebook</a>'\n",
              "            + ' to learn more about interactive tables.';\n",
              "          element.innerHTML = '';\n",
              "          dataTable['output_type'] = 'display_data';\n",
              "          await google.colab.output.renderOutput(dataTable, element);\n",
              "          const docLink = document.createElement('div');\n",
              "          docLink.innerHTML = docLinkHtml;\n",
              "          element.appendChild(docLink);\n",
              "        }\n",
              "      </script>\n",
              "    </div>\n",
              "  </div>\n",
              "  "
            ]
          },
          "metadata": {},
          "execution_count": 1
        }
      ],
      "source": [
        "# Load Data\n",
        "import pandas as pd\n",
        "import csv\n",
        "import matplotlib.pyplot as plt\n",
        "import matplotlib.dates as mdates\n",
        "import seaborn as sns\n",
        "import nltk\n",
        "import urllib\n",
        "import datetime as dt\n",
        "import scipy.stats as stats\n",
        "\n",
        "dataset_url = \"https://drive.google.com/file/d/1Bb3G5goi4CRAHZAJey7wGlgf_15Dx6iU/view?usp=sharing\"\n",
        "dataset_url = 'https://drive.google.com/uc?id=' + dataset_url.split('/')[-2]\n",
        "df = pd.read_csv(dataset_url, header=0)\n",
        "df"
      ]
    },
    {
      "cell_type": "markdown",
      "metadata": {
        "id": "Z5dHYaEYq3oW"
      },
      "source": [
        ">**Handling Missing Values**"
      ]
    },
    {
      "cell_type": "code",
      "execution_count": null,
      "metadata": {
        "colab": {
          "base_uri": "https://localhost:8080/"
        },
        "id": "m0CtClOxM3JY",
        "outputId": "e8fe1efe-5c31-402b-882e-8d62bda08731"
      },
      "outputs": [
        {
          "output_type": "execute_result",
          "data": {
            "text/plain": [
              "array(['Timestamp', 'Tweet URL', 'Keywords', 'Account handle',\n",
              "       'Account name', 'Account bio', 'Account type', 'Joined',\n",
              "       'Following', 'Followers', 'Location', 'Tweet', 'Tweet Type',\n",
              "       'Date posted', 'Screenshot', 'Content type', 'Likes', 'Replies',\n",
              "       'Retweets', 'Quote Tweets', 'Rating', 'Reasoning'], dtype=object)"
            ]
          },
          "metadata": {},
          "execution_count": 2
        }
      ],
      "source": [
        "# Handling missing values\n",
        "\n",
        "# Remove useless and NaN columns\n",
        "df_preprocessed = df.copy(deep=True).iloc[:, 0:29].drop([\"Views\",\"Group\",\"Collector\",\"Topic\",\"Tweet Translated\",\"Category\",\"ID\"],axis=1)\n",
        "df_preprocessed.columns.values"
      ]
    },
    {
      "cell_type": "markdown",
      "metadata": {
        "id": "S7Cqb006tKIy"
      },
      "source": [
        "\n",
        "For handling missing values useless and NaN columns are removed via the *.drop* function."
      ]
    },
    {
      "cell_type": "markdown",
      "metadata": {
        "id": "tX4vfV3cvBX_"
      },
      "source": [
        ">Ensuring Formatting Consistency"
      ]
    },
    {
      "cell_type": "code",
      "execution_count": null,
      "metadata": {
        "colab": {
          "base_uri": "https://localhost:8080/"
        },
        "id": "OBR9RGcy-GMq",
        "outputId": "208e666e-ab0a-48ac-a78b-988561d7cbec"
      },
      "outputs": [
        {
          "output_type": "execute_result",
          "data": {
            "text/plain": [
              "array([19410., 19436., 19527., 19499., 19406., 19558., 19674., 19380.,\n",
              "       19615., 19681., 19465., 19583., 19558., 19520., 19436., 19644.,\n",
              "       19706., 19524., 19487., 19706., 19403., 19583., 19559., 19527.,\n",
              "       19487., 19369., 19486., 19427., 19495., 19556., 19435., 19410.,\n",
              "       19433., 19651., 19683., 19407., 19487., 19400., 19438., 19436.,\n",
              "       19458., 19708., 19708., 19708., 19493., 19487., 19547., 19497.,\n",
              "       19407., 19530., 19706., 19468., 19612., 19461., 19558., 19426.,\n",
              "       19558., 19456., 19707., 19408., 19651., 19410., 19682., 19649.,\n",
              "       19462., 19585., 19436., 19620., 19469., 19671., 19618., 19583.,\n",
              "       19520., 19675., 19646., 19673., 19467., 19580., 19609., 19671.,\n",
              "       19404., 19433., 19376., 19647., 19428., 19712., 19406., 19368.,\n",
              "       19677., 19438., 19645., 19589., 19710., 19409., 19651., 19434.,\n",
              "       19433., 19435., 19409., 19470., 19590., 19370., 19620., 19377.,\n",
              "       19621., 19651., 19619., 19679., 19712., 19678., 19619., 19678.,\n",
              "       19609., 19609., 19621., 19463., 19469., 19409., 19651., 19651.,\n",
              "       19682., 19619., 19529., 19438., 19679., 19711., 19497., 19684.,\n",
              "       19398., 19524., 19681., 19621., 19615., 19407., 19586., 19579.,\n",
              "       19433., 19458., 19554., 19530., 19683., 19469., 19615., 19615.,\n",
              "       19375., 19651., 19621., 19587., 19528., 19621.])"
            ]
          },
          "metadata": {},
          "execution_count": 3
        }
      ],
      "source": [
        "mdates.datestr2num(df_preprocessed[\"Joined\"])"
      ]
    },
    {
      "cell_type": "markdown",
      "metadata": {
        "id": "Q9OtNy75uNJ4"
      },
      "source": [
        "The data in the *Joined* column are converted to a unix time format in order to be used for the operations needed for data visualization."
      ]
    },
    {
      "cell_type": "code",
      "execution_count": null,
      "metadata": {
        "colab": {
          "base_uri": "https://localhost:8080/"
        },
        "id": "eIT0bIBu4-qA",
        "outputId": "838571cb-01ab-41b8-b152-ca3ba92b92aa"
      },
      "outputs": [
        {
          "output_type": "stream",
          "name": "stdout",
          "text": [
            "True\n",
            "True\n",
            "True\n",
            "True\n",
            "False\n"
          ]
        }
      ],
      "source": [
        "# Change dates to timestamps\n",
        "df_preprocessed[\"Date posted\"] = mdates.datestr2num(df_preprocessed[\"Date posted\"])\n",
        "\n",
        "# Remove Whitespace from Joined\n",
        "df_preprocessed[\"Joined\"] = [datestr.replace(\" \", \"\") for datestr in df_preprocessed[\"Joined\"]]\n",
        "\n",
        "# Convert Tweet type column strings to all caps for uniform formatting\n",
        "df_preprocessed[\"Keywords\"] = df_preprocessed[\"Keywords\"].str.upper()\n",
        "\n",
        "# Convert Tweet type column strings to all caps for uniform formatting\n",
        "df_preprocessed[\"Tweet Type\"] = df_preprocessed[\"Tweet Type\"].str.upper()\n",
        "\n",
        "# Lambda function that converts joined date to datetime and gets its difference from time now and converts it to days\n",
        "x = lambda joined: (dt.datetime.now() - dt.datetime.strptime(joined, \"%m/%y\")).days\n",
        "df_preprocessed[\"Joined\"] = df_preprocessed[\"Joined\"].apply(x)\n",
        "df_preprocessed[\"Joined\"]\n",
        "\n",
        "# Ensuring formatting consistency\n",
        "\n",
        "content_type = [\"Rational\", \"Emotional\", \"Transactional\"]\n",
        "content_type_values = df_preprocessed[\"Content type\"].tolist()\n",
        "is_content_type_consistent = all(value in content_type for value in content_type_values)\n",
        "print(is_content_type_consistent)\n",
        "\n",
        "account_type = [\"Identified\", \"Anonymous\", \"Media\"]\n",
        "account_type_values = df_preprocessed[\"Account type\"].tolist()\n",
        "is_account_type_consistent = all(value in account_type for value in account_type_values)\n",
        "print(is_account_type_consistent)\n",
        "\n",
        "rating = [\"FALSE\", \"MISLEADING\", \"NEED CONTEXT\", \"UNPROVEN\"]\n",
        "rating_values = df_preprocessed[\"Rating\"].tolist()\n",
        "is_rating_consistent = all(value in rating for value in rating_values)\n",
        "print(is_rating_consistent)\n",
        "\n",
        "tweet_types = [\"TEXT\", \"REPLY\", \"IMAGE\", \"VIDEO\", \"QUOTE TWEET\", \"URL\"]\n",
        "tweet_type = df_preprocessed[\"Tweet Type\"].str.split(\", \")\n",
        "for value in tweet_type:\n",
        "    for text in value:\n",
        "        if text not in tweet_types:\n",
        "            is_tweet_type_consistent = False\n",
        "    is_tweet_type_consistent = True\n",
        "print(is_tweet_type_consistent)\n",
        "\n",
        "# Checking for duplicates\n",
        "\n",
        "duplicates = df_preprocessed.duplicated()\n",
        "if any(duplicates):\n",
        "  with_duplicates = True\n",
        "else:\n",
        "  with_duplicates = False\n",
        "print(with_duplicates)"
      ]
    },
    {
      "cell_type": "markdown",
      "metadata": {
        "id": "8eSPQY4EAm5U"
      },
      "source": [
        "To ensure formatting consistency of the columns Content type, Account type, and Rating, each of their respective coloumns are converted to a list via .tolist() function with each of its element compared to the values that are supposed to be in the specified coloumn. This is executed via the all() function which returns a boolean value. If the output is true, then there are no values in the column with an incorrect format, thus ensuring the consistency of the format.\n",
        "On the other hand, nested for loops are used to check the consistency of the formatting of the Tweet Type column as each element contains multiple tweet types. \n",
        "\n",
        "The .duplicated function is also utilized to check if there are duplicates in the dataset."
      ]
    },
    {
      "cell_type": "markdown",
      "metadata": {
        "id": "VxhzcwQTvRXP"
      },
      "source": [
        ">Normalization and Handling Outliers"
      ]
    },
    {
      "cell_type": "code",
      "execution_count": null,
      "metadata": {
        "colab": {
          "base_uri": "https://localhost:8080/",
          "height": 489
        },
        "id": "fuKgFppCyMYM",
        "outputId": "3a9cd4be-785a-4f3c-bdf4-cfa99c7e2ae7"
      },
      "outputs": [
        {
          "output_type": "execute_result",
          "data": {
            "text/plain": [
              "Text(0.5, 1.0, 'Date Joined in Unix Time')"
            ]
          },
          "metadata": {},
          "execution_count": 5
        },
        {
          "output_type": "display_data",
          "data": {
            "text/plain": [
              "<Figure size 640x480 with 1 Axes>"
            ],
            "image/png": "[encoded data removed]"
          },
          "metadata": {}
        }
      ],
      "source": [
        "# plot date joined\n",
        "reference_dates = ['02/16', '02/19', '02/22']\n",
        "sample = pd.DataFrame(reference_dates)\n",
        "sample[0] = sample[0].apply(x)\n",
        "\n",
        "for cdate in sample[0]:\n",
        "    plt.plot((0, 150), (cdate, cdate), 'r-')\n",
        "\n",
        "plt.bar(range(0,150), df_preprocessed[\"Joined\"])\n",
        "plt.xlabel(\"Data Sample\")\n",
        "plt.ylabel(\"Date User Joined Twitter\")\n",
        "plt.title(\"Date Joined in Unix Time\")"
      ]
    },
    {
      "cell_type": "markdown",
      "metadata": {
        "id": "E63qVjHt0UMH"
      },
      "source": [
        "This graph shows the Date Joined of the authors of the sample tweets in Unix Time. The farther the the value is from 0 (current date and time), the earlier the user has joined Twitter. This is relevant because more recent a user has joined Twitter relative to the start of the campaign date, the more likely that the account is a troll.\n",
        "\n",
        "The **RED** lines indicate the start of the 3 different campaign periods, 02/09/16, 02/12/19, and 02/08/22."
      ]
    },
    {
      "cell_type": "code",
      "execution_count": null,
      "metadata": {
        "colab": {
          "base_uri": "https://localhost:8080/",
          "height": 611
        },
        "id": "wFv1aVR5CbO-",
        "outputId": "274298ee-0112-4e6e-ca7f-64e8f97f683b"
      },
      "outputs": [
        {
          "output_type": "stream",
          "name": "stdout",
          "text": [
            "Mean Date Posted is 2021-04-14 02:09:15.200000 \n",
            "\n",
            "Outliers in Terms of Date Posted: \n",
            "\n",
            "2016-04-21 04:53:44.911470\n",
            "2016-02-09 13:02:12.089745\n",
            "2016-04-18 17:04:45.914481\n",
            "2016-04-18 17:05:46.115487\n"
          ]
        },
        {
          "output_type": "display_data",
          "data": {
            "text/plain": [
              "<Figure size 640x480 with 1 Axes>"
            ],
            "image/png": "[encoded data removed]"
          },
          "metadata": {}
        }
      ],
      "source": [
        "# Date Posted Mean and Z-scores\n",
        "\n",
        "mean_date = df_preprocessed[\"Date posted\"].mean()\n",
        "delta = dt.timedelta(mean_date)\n",
        "reference_date = dt.datetime(1970, 1, 1)\n",
        "result_date = reference_date + delta\n",
        "print(\"Mean Date Posted is\", result_date, \"\\n\")\n",
        "\n",
        "date_posted_zscores = stats.zscore(df_preprocessed[\"Date posted\"] )\n",
        "\n",
        "plt.bar(range(0,150), date_posted_zscores)\n",
        "plt.xlabel(\"Data Sample\")\n",
        "plt.ylabel(\"Z-Scores\")\n",
        "plt.title(\"Date Posted Z-Scores\")\n",
        "plt.plot((0, 150), (1, 1), 'g-')        # 1 sd\n",
        "plt.plot((0, 150), (0, 0), 'r-')        # mean\n",
        "plt.plot((0, 150), (-1, -1), 'y-')      # -1 sd\n",
        "plt.plot((0, 150), (-2, -2), 'y-')      # -1 sd\n",
        "plt.plot((0, 150), (-3, -3), 'y-')      # -3 sd\n",
        "\n",
        "# Handling Outliers: Handling using Boolean Marking to specify outliers\n",
        "# In terms of the date posted, there are 4 outliers in the data set\n",
        "date_posted_zscores = stats.zscore(df_preprocessed[\"Date posted\"] )\n",
        "std = (df_preprocessed[\"Date posted\"]).std()\n",
        "\n",
        "reference_date = dt.datetime(1970, 1, 1)\n",
        "print(\"Outliers in Terms of Date Posted: \\n\")\n",
        "for date in date_posted_zscores:\n",
        "    if date <= -3 or date >= 3:\n",
        "        back = (date * std) + mean_date\n",
        "        delta = dt.timedelta(back)\n",
        "        result_date = reference_date + delta\n",
        "        print(result_date)"
      ]
    },
    {
      "cell_type": "markdown",
      "metadata": {
        "id": "ZYyqkOmCEPJc"
      },
      "source": [
        "This bar graph shows the z-scores of the 150 sample tweets were posted. The mean date posted was 14-February 2021. The negative valies were the ones posted before the mean date and the positive values are the ones posted after the mean date. By plotting the standard deviations, it can also be seen that 4 samples are \"outliers\" in terms of date posted. But even though they are outliers, it can be seen in the succeeding graphs that they stil fall in the 2016 Campaign interval.\n"
      ]
    },
    {
      "cell_type": "markdown",
      "metadata": {
        "id": "_65tz2xzvo-G"
      },
      "source": [
        ">Categorical Data Encoding"
      ]
    },
    {
      "cell_type": "code",
      "execution_count": null,
      "metadata": {
        "colab": {
          "base_uri": "https://localhost:8080/",
          "height": 1000
        },
        "id": "B8AcYvKVgpvv",
        "outputId": "54367c21-a3b7-4446-f70e-f60c8fd45d65"
      },
      "outputs": [
        {
          "output_type": "execute_result",
          "data": {
            "text/plain": [
              "             Timestamp                                          Tweet URL  \\\n",
              "0    12/03/23 16:01:45  https://twitter.com/up_kyla/status/15250434466...   \n",
              "1    20/03/23 16:16:00  https://twitter.com/mlleahrb/status/1459139793...   \n",
              "2    20/03/23 17:09:11  https://twitter.com/CLoveadore/status/15360689...   \n",
              "3    20/03/23 18:32:09  https://twitter.com/AntiPPropaganda/status/153...   \n",
              "4    20/03/23 20:00:05  https://twitter.com/ThePaladin33/status/150937...   \n",
              "..                 ...                                                ...   \n",
              "145  18/04/23 20:43:26  https://twitter.com/yap_dimaala/status/1451669...   \n",
              "146  18/04/23 20:57:20  https://twitter.com/grecoroman777/status/15021...   \n",
              "147  18/04/23 21:00:02  https://twitter.com/AnyaRedlily/status/1524267...   \n",
              "148  18/04/23 21:03:47  https://twitter.com/smllslktnspt/status/149239...   \n",
              "149  18/04/23 21:06:07  https://twitter.com/Maris53441812/status/14401...   \n",
              "\n",
              "                           Keywords    Account handle          Account name  \\\n",
              "0        MARCOS, 1986 SNAP ELECTION          @up_kyla          AlphaOneRene   \n",
              "1         EDSA REVOLUTION FAKE NEWS         @mlleahrb          𝓪𝓻𝓲𝓪𝓷𝓷𝓮 ♊❤️💚   \n",
              "2         EDSA REVOLUTION FAKE NEWS       @CLoveadore        malditang lola   \n",
              "3         EDSA REVOLUTION FAKE NEWS  @AntiPPropaganda  Anti Pink Propaganda   \n",
              "4                    CORY COMMUNIST     @ThePaladin33         Sagittarius33   \n",
              "..                              ...               ...                   ...   \n",
              "145       CORY AQUINO TRILLION DEBT      @yap_dimaala                Maryam   \n",
              "146  CORY AQUINO 1 TRILLION, BUDGET    @grecoroman777               Spartan   \n",
              "147  CORY AQUINO 1 TRILLION, BUDGET      @AnyaRedlily                  Anya   \n",
              "148  CORY AQUINO 1 TRILLION, BUDGET     @smllslktnspt                  Nvna   \n",
              "149  CORY AQUINO 1 TRILLION, BUDGET    @Maris53441812                 Maris   \n",
              "\n",
              "                                           Account bio  Joined  Following  \\\n",
              "0                                           fun loving     470       4887   \n",
              "1    Pro-Philippines 🇵🇭\\n✨ 𝑺𝒊𝒎𝒑𝒍𝒚 𝒂 𝑩𝒂𝒅𝒂𝒔𝒔 𝑪𝒚𝒏𝒐𝒑𝒉𝒊𝒍...    1172        507   \n",
              "2    Karma is a bitch when it hits you back. Defend...    1446       1131   \n",
              "3    Para sa Bayan 🇵🇭  I am against the monopoly of...     381        512   \n",
              "4                                            Cat lover    1931       1848   \n",
              "..                                                 ...     ...        ...   \n",
              "145         Padayon\\nfuture🩺⚕️\\nDI AKO TROLLS YAWA KA.     593         16   \n",
              "146  ♎♏♐♋♒\\nCatholic Heterosexual. Car buff, MMA pr...     623        109   \n",
              "147                                               𝒞𝒶𝓇ℴ    1750       1126   \n",
              "148                                                NaN    1080        184   \n",
              "149                                I am a child of God     623         22   \n",
              "\n",
              "     Followers                     Location  ...  \\\n",
              "0         3492                          NaN  ...   \n",
              "1          368          Manila, Philippines  ...   \n",
              "2          701                          NaN  ...   \n",
              "3          417                          NaN  ...   \n",
              "4         1748                          NaN  ...   \n",
              "..         ...                          ...  ...   \n",
              "145          1                          NaN  ...   \n",
              "146        406  Republic of the Philippines  ...   \n",
              "147          8                 Northern Sky  ...   \n",
              "148         12                          NaN  ...   \n",
              "149          5                          NaN  ...   \n",
              "\n",
              "                                             Reasoning Account type_Anonymous  \\\n",
              "0    Marcos was persuaded to leave the country by a...                      1   \n",
              "1    The EDSA revolution was led by the people to r...                      1   \n",
              "2    Although USA has a role during the EDSA revolu...                      1   \n",
              "3    Although USA has a role during the EDSA revolu...                      1   \n",
              "4    There were no proof that Cory convined with co...                      1   \n",
              "..                                                 ...                    ...   \n",
              "145  FALSE: National debt during Cory Aquino’s term...                      1   \n",
              "146  FALSE: ‘NSO’ figures comparing spending budget...                      1   \n",
              "147  FALSE: ‘NSO’ figures comparing spending budget...                      1   \n",
              "148  FALSE: ‘NSO’ figures comparing spending budget...                      1   \n",
              "149  FALSE: ‘NSO’ figures comparing spending budget...                      1   \n",
              "\n",
              "     Account type_Identified Content type_Emotional  Content type_Rational  \\\n",
              "0                          0                      1                      0   \n",
              "1                          0                      1                      0   \n",
              "2                          0                      0                      1   \n",
              "3                          0                      0                      1   \n",
              "4                          0                      1                      0   \n",
              "..                       ...                    ...                    ...   \n",
              "145                        0                      0                      1   \n",
              "146                        0                      0                      1   \n",
              "147                        0                      0                      1   \n",
              "148                        0                      0                      1   \n",
              "149                        0                      0                      1   \n",
              "\n",
              "     Content type_Transactional  Rating_FALSE  Rating_MISLEADING  \\\n",
              "0                             0             1                  0   \n",
              "1                             0             0                  1   \n",
              "2                             0             0                  0   \n",
              "3                             0             0                  0   \n",
              "4                             0             0                  0   \n",
              "..                          ...           ...                ...   \n",
              "145                           0             1                  0   \n",
              "146                           0             1                  0   \n",
              "147                           0             1                  0   \n",
              "148                           0             1                  0   \n",
              "149                           0             1                  0   \n",
              "\n",
              "    Rating_NEED CONTEXT  Rating_UNPROVEN  \n",
              "0                     0                0  \n",
              "1                     0                0  \n",
              "2                     0                1  \n",
              "3                     0                1  \n",
              "4                     0                1  \n",
              "..                  ...              ...  \n",
              "145                   0                0  \n",
              "146                   0                0  \n",
              "147                   0                0  \n",
              "148                   0                0  \n",
              "149                   0                0  \n",
              "\n",
              "[150 rows x 28 columns]"
            ],
            "text/html": [
              "\n",
              "  <div id=\"df-e52c5649-934a-4913-82e8-1381e6806b42\">\n",
              "    <div class=\"colab-df-container\">\n",
              "      <div>\n",
              "<style scoped>\n",
              "    .dataframe tbody tr th:only-of-type {\n",
              "        vertical-align: middle;\n",
              "    }\n",
              "\n",
              "    .dataframe tbody tr th {\n",
              "        vertical-align: top;\n",
              "    }\n",
              "\n",
              "    .dataframe thead th {\n",
              "        text-align: right;\n",
              "    }\n",
              "</style>\n",
              "<table border=\"1\" class=\"dataframe\">\n",
              "  <thead>\n",
              "    <tr style=\"text-align: right;\">\n",
              "      <th></th>\n",
              "      <th>Timestamp</th>\n",
              "      <th>Tweet URL</th>\n",
              "      <th>Keywords</th>\n",
              "      <th>Account handle</th>\n",
              "      <th>Account name</th>\n",
              "      <th>Account bio</th>\n",
              "      <th>Joined</th>\n",
              "      <th>Following</th>\n",
              "      <th>Followers</th>\n",
              "      <th>Location</th>\n",
              "      <th>...</th>\n",
              "      <th>Reasoning</th>\n",
              "      <th>Account type_Anonymous</th>\n",
              "      <th>Account type_Identified</th>\n",
              "      <th>Content type_Emotional</th>\n",
              "      <th>Content type_Rational</th>\n",
              "      <th>Content type_Transactional</th>\n",
              "      <th>Rating_FALSE</th>\n",
              "      <th>Rating_MISLEADING</th>\n",
              "      <th>Rating_NEED CONTEXT</th>\n",
              "      <th>Rating_UNPROVEN</th>\n",
              "    </tr>\n",
              "  </thead>\n",
              "  <tbody>\n",
              "    <tr>\n",
              "      <th>0</th>\n",
              "      <td>12/03/23 16:01:45</td>\n",
              "      <td>https://twitter.com/up_kyla/status/15250434466...</td>\n",
              "      <td>MARCOS, 1986 SNAP ELECTION</td>\n",
              "      <td>@up_kyla</td>\n",
              "      <td>AlphaOneRene</td>\n",
              "      <td>fun loving</td>\n",
              "      <td>470</td>\n",
              "      <td>4887</td>\n",
              "      <td>3492</td>\n",
              "      <td>NaN</td>\n",
              "      <td>...</td>\n",
              "      <td>Marcos was persuaded to leave the country by a...</td>\n",
              "      <td>1</td>\n",
              "      <td>0</td>\n",
              "      <td>1</td>\n",
              "      <td>0</td>\n",
              "      <td>0</td>\n",
              "      <td>1</td>\n",
              "      <td>0</td>\n",
              "      <td>0</td>\n",
              "      <td>0</td>\n",
              "    </tr>\n",
              "    <tr>\n",
              "      <th>1</th>\n",
              "      <td>20/03/23 16:16:00</td>\n",
              "      <td>https://twitter.com/mlleahrb/status/1459139793...</td>\n",
              "      <td>EDSA REVOLUTION FAKE NEWS</td>\n",
              "      <td>@mlleahrb</td>\n",
              "      <td>𝓪𝓻𝓲𝓪𝓷𝓷𝓮 ♊❤️💚</td>\n",
              "      <td>Pro-Philippines 🇵🇭\\n✨ 𝑺𝒊𝒎𝒑𝒍𝒚 𝒂 𝑩𝒂𝒅𝒂𝒔𝒔 𝑪𝒚𝒏𝒐𝒑𝒉𝒊𝒍...</td>\n",
              "      <td>1172</td>\n",
              "      <td>507</td>\n",
              "      <td>368</td>\n",
              "      <td>Manila, Philippines</td>\n",
              "      <td>...</td>\n",
              "      <td>The EDSA revolution was led by the people to r...</td>\n",
              "      <td>1</td>\n",
              "      <td>0</td>\n",
              "      <td>1</td>\n",
              "      <td>0</td>\n",
              "      <td>0</td>\n",
              "      <td>0</td>\n",
              "      <td>1</td>\n",
              "      <td>0</td>\n",
              "      <td>0</td>\n",
              "    </tr>\n",
              "    <tr>\n",
              "      <th>2</th>\n",
              "      <td>20/03/23 17:09:11</td>\n",
              "      <td>https://twitter.com/CLoveadore/status/15360689...</td>\n",
              "      <td>EDSA REVOLUTION FAKE NEWS</td>\n",
              "      <td>@CLoveadore</td>\n",
              "      <td>malditang lola</td>\n",
              "      <td>Karma is a bitch when it hits you back. Defend...</td>\n",
              "      <td>1446</td>\n",
              "      <td>1131</td>\n",
              "      <td>701</td>\n",
              "      <td>NaN</td>\n",
              "      <td>...</td>\n",
              "      <td>Although USA has a role during the EDSA revolu...</td>\n",
              "      <td>1</td>\n",
              "      <td>0</td>\n",
              "      <td>0</td>\n",
              "      <td>1</td>\n",
              "      <td>0</td>\n",
              "      <td>0</td>\n",
              "      <td>0</td>\n",
              "      <td>0</td>\n",
              "      <td>1</td>\n",
              "    </tr>\n",
              "    <tr>\n",
              "      <th>3</th>\n",
              "      <td>20/03/23 18:32:09</td>\n",
              "      <td>https://twitter.com/AntiPPropaganda/status/153...</td>\n",
              "      <td>EDSA REVOLUTION FAKE NEWS</td>\n",
              "      <td>@AntiPPropaganda</td>\n",
              "      <td>Anti Pink Propaganda</td>\n",
              "      <td>Para sa Bayan 🇵🇭  I am against the monopoly of...</td>\n",
              "      <td>381</td>\n",
              "      <td>512</td>\n",
              "      <td>417</td>\n",
              "      <td>NaN</td>\n",
              "      <td>...</td>\n",
              "      <td>Although USA has a role during the EDSA revolu...</td>\n",
              "      <td>1</td>\n",
              "      <td>0</td>\n",
              "      <td>0</td>\n",
              "      <td>1</td>\n",
              "      <td>0</td>\n",
              "      <td>0</td>\n",
              "      <td>0</td>\n",
              "      <td>0</td>\n",
              "      <td>1</td>\n",
              "    </tr>\n",
              "    <tr>\n",
              "      <th>4</th>\n",
              "      <td>20/03/23 20:00:05</td>\n",
              "      <td>https://twitter.com/ThePaladin33/status/150937...</td>\n",
              "      <td>CORY COMMUNIST</td>\n",
              "      <td>@ThePaladin33</td>\n",
              "      <td>Sagittarius33</td>\n",
              "      <td>Cat lover</td>\n",
              "      <td>1931</td>\n",
              "      <td>1848</td>\n",
              "      <td>1748</td>\n",
              "      <td>NaN</td>\n",
              "      <td>...</td>\n",
              "      <td>There were no proof that Cory convined with co...</td>\n",
              "      <td>1</td>\n",
              "      <td>0</td>\n",
              "      <td>1</td>\n",
              "      <td>0</td>\n",
              "      <td>0</td>\n",
              "      <td>0</td>\n",
              "      <td>0</td>\n",
              "      <td>0</td>\n",
              "      <td>1</td>\n",
              "    </tr>\n",
              "    <tr>\n",
              "      <th>...</th>\n",
              "      <td>...</td>\n",
              "      <td>...</td>\n",
              "      <td>...</td>\n",
              "      <td>...</td>\n",
              "      <td>...</td>\n",
              "      <td>...</td>\n",
              "      <td>...</td>\n",
              "      <td>...</td>\n",
              "      <td>...</td>\n",
              "      <td>...</td>\n",
              "      <td>...</td>\n",
              "      <td>...</td>\n",
              "      <td>...</td>\n",
              "      <td>...</td>\n",
              "      <td>...</td>\n",
              "      <td>...</td>\n",
              "      <td>...</td>\n",
              "      <td>...</td>\n",
              "      <td>...</td>\n",
              "      <td>...</td>\n",
              "      <td>...</td>\n",
              "    </tr>\n",
              "    <tr>\n",
              "      <th>145</th>\n",
              "      <td>18/04/23 20:43:26</td>\n",
              "      <td>https://twitter.com/yap_dimaala/status/1451669...</td>\n",
              "      <td>CORY AQUINO TRILLION DEBT</td>\n",
              "      <td>@yap_dimaala</td>\n",
              "      <td>Maryam</td>\n",
              "      <td>Padayon\\nfuture🩺⚕️\\nDI AKO TROLLS YAWA KA.</td>\n",
              "      <td>593</td>\n",
              "      <td>16</td>\n",
              "      <td>1</td>\n",
              "      <td>NaN</td>\n",
              "      <td>...</td>\n",
              "      <td>FALSE: National debt during Cory Aquino’s term...</td>\n",
              "      <td>1</td>\n",
              "      <td>0</td>\n",
              "      <td>0</td>\n",
              "      <td>1</td>\n",
              "      <td>0</td>\n",
              "      <td>1</td>\n",
              "      <td>0</td>\n",
              "      <td>0</td>\n",
              "      <td>0</td>\n",
              "    </tr>\n",
              "    <tr>\n",
              "      <th>146</th>\n",
              "      <td>18/04/23 20:57:20</td>\n",
              "      <td>https://twitter.com/grecoroman777/status/15021...</td>\n",
              "      <td>CORY AQUINO 1 TRILLION, BUDGET</td>\n",
              "      <td>@grecoroman777</td>\n",
              "      <td>Spartan</td>\n",
              "      <td>♎♏♐♋♒\\nCatholic Heterosexual. Car buff, MMA pr...</td>\n",
              "      <td>623</td>\n",
              "      <td>109</td>\n",
              "      <td>406</td>\n",
              "      <td>Republic of the Philippines</td>\n",
              "      <td>...</td>\n",
              "      <td>FALSE: ‘NSO’ figures comparing spending budget...</td>\n",
              "      <td>1</td>\n",
              "      <td>0</td>\n",
              "      <td>0</td>\n",
              "      <td>1</td>\n",
              "      <td>0</td>\n",
              "      <td>1</td>\n",
              "      <td>0</td>\n",
              "      <td>0</td>\n",
              "      <td>0</td>\n",
              "    </tr>\n",
              "    <tr>\n",
              "      <th>147</th>\n",
              "      <td>18/04/23 21:00:02</td>\n",
              "      <td>https://twitter.com/AnyaRedlily/status/1524267...</td>\n",
              "      <td>CORY AQUINO 1 TRILLION, BUDGET</td>\n",
              "      <td>@AnyaRedlily</td>\n",
              "      <td>Anya</td>\n",
              "      <td>𝒞𝒶𝓇ℴ</td>\n",
              "      <td>1750</td>\n",
              "      <td>1126</td>\n",
              "      <td>8</td>\n",
              "      <td>Northern Sky</td>\n",
              "      <td>...</td>\n",
              "      <td>FALSE: ‘NSO’ figures comparing spending budget...</td>\n",
              "      <td>1</td>\n",
              "      <td>0</td>\n",
              "      <td>0</td>\n",
              "      <td>1</td>\n",
              "      <td>0</td>\n",
              "      <td>1</td>\n",
              "      <td>0</td>\n",
              "      <td>0</td>\n",
              "      <td>0</td>\n",
              "    </tr>\n",
              "    <tr>\n",
              "      <th>148</th>\n",
              "      <td>18/04/23 21:03:47</td>\n",
              "      <td>https://twitter.com/smllslktnspt/status/149239...</td>\n",
              "      <td>CORY AQUINO 1 TRILLION, BUDGET</td>\n",
              "      <td>@smllslktnspt</td>\n",
              "      <td>Nvna</td>\n",
              "      <td>NaN</td>\n",
              "      <td>1080</td>\n",
              "      <td>184</td>\n",
              "      <td>12</td>\n",
              "      <td>NaN</td>\n",
              "      <td>...</td>\n",
              "      <td>FALSE: ‘NSO’ figures comparing spending budget...</td>\n",
              "      <td>1</td>\n",
              "      <td>0</td>\n",
              "      <td>0</td>\n",
              "      <td>1</td>\n",
              "      <td>0</td>\n",
              "      <td>1</td>\n",
              "      <td>0</td>\n",
              "      <td>0</td>\n",
              "      <td>0</td>\n",
              "    </tr>\n",
              "    <tr>\n",
              "      <th>149</th>\n",
              "      <td>18/04/23 21:06:07</td>\n",
              "      <td>https://twitter.com/Maris53441812/status/14401...</td>\n",
              "      <td>CORY AQUINO 1 TRILLION, BUDGET</td>\n",
              "      <td>@Maris53441812</td>\n",
              "      <td>Maris</td>\n",
              "      <td>I am a child of God</td>\n",
              "      <td>623</td>\n",
              "      <td>22</td>\n",
              "      <td>5</td>\n",
              "      <td>NaN</td>\n",
              "      <td>...</td>\n",
              "      <td>FALSE: ‘NSO’ figures comparing spending budget...</td>\n",
              "      <td>1</td>\n",
              "      <td>0</td>\n",
              "      <td>0</td>\n",
              "      <td>1</td>\n",
              "      <td>0</td>\n",
              "      <td>1</td>\n",
              "      <td>0</td>\n",
              "      <td>0</td>\n",
              "      <td>0</td>\n",
              "    </tr>\n",
              "  </tbody>\n",
              "</table>\n",
              "<p>150 rows × 28 columns</p>\n",
              "</div>\n",
              "      <button class=\"colab-df-convert\" onclick=\"convertToInteractive('df-e52c5649-934a-4913-82e8-1381e6806b42')\"\n",
              "              title=\"Convert this dataframe to an interactive table.\"\n",
              "              style=\"display:none;\">\n",
              "        \n",
              "  <svg xmlns=\"http://www.w3.org/2000/svg\" height=\"24px\"viewBox=\"0 0 24 24\"\n",
              "       width=\"24px\">\n",
              "    <path d=\"M0 0h24v24H0V0z\" fill=\"none\"/>\n",
              "    <path d=\"M18.56 5.44l.94 2.06.94-2.06 2.06-.94-2.06-.94-.94-2.06-.94 2.06-2.06.94zm-11 1L8.5 8.5l.94-2.06 2.06-.94-2.06-.94L8.5 2.5l-.94 2.06-2.06.94zm10 10l.94 2.06.94-2.06 2.06-.94-2.06-.94-.94-2.06-.94 2.06-2.06.94z\"/><path d=\"M17.41 7.96l-1.37-1.37c-.4-.4-.92-.59-1.43-.59-.52 0-1.04.2-1.43.59L10.3 9.45l-7.72 7.72c-.78.78-.78 2.05 0 2.83L4 21.41c.39.39.9.59 1.41.59.51 0 1.02-.2 1.41-.59l7.78-7.78 2.81-2.81c.8-.78.8-2.07 0-2.86zM5.41 20L4 18.59l7.72-7.72 1.47 1.35L5.41 20z\"/>\n",
              "  </svg>\n",
              "      </button>\n",
              "      \n",
              "  <style>\n",
              "    .colab-df-container {\n",
              "      display:flex;\n",
              "      flex-wrap:wrap;\n",
              "      gap: 12px;\n",
              "    }\n",
              "\n",
              "    .colab-df-convert {\n",
              "      background-color: #E8F0FE;\n",
              "      border: none;\n",
              "      border-radius: 50%;\n",
              "      cursor: pointer;\n",
              "      display: none;\n",
              "      fill: #1967D2;\n",
              "      height: 32px;\n",
              "      padding: 0 0 0 0;\n",
              "      width: 32px;\n",
              "    }\n",
              "\n",
              "    .colab-df-convert:hover {\n",
              "      background-color: #E2EBFA;\n",
              "      box-shadow: 0px 1px 2px rgba(60, 64, 67, 0.3), 0px 1px 3px 1px rgba(60, 64, 67, 0.15);\n",
              "      fill: #174EA6;\n",
              "    }\n",
              "\n",
              "    [theme=dark] .colab-df-convert {\n",
              "      background-color: #3B4455;\n",
              "      fill: #D2E3FC;\n",
              "    }\n",
              "\n",
              "    [theme=dark] .colab-df-convert:hover {\n",
              "      background-color: #434B5C;\n",
              "      box-shadow: 0px 1px 3px 1px rgba(0, 0, 0, 0.15);\n",
              "      filter: drop-shadow(0px 1px 2px rgba(0, 0, 0, 0.3));\n",
              "      fill: #FFFFFF;\n",
              "    }\n",
              "  </style>\n",
              "\n",
              "      <script>\n",
              "        const buttonEl =\n",
              "          document.querySelector('#df-e52c5649-934a-4913-82e8-1381e6806b42 button.colab-df-convert');\n",
              "        buttonEl.style.display =\n",
              "          google.colab.kernel.accessAllowed ? 'block' : 'none';\n",
              "\n",
              "        async function convertToInteractive(key) {\n",
              "          const element = document.querySelector('#df-e52c5649-934a-4913-82e8-1381e6806b42');\n",
              "          const dataTable =\n",
              "            await google.colab.kernel.invokeFunction('convertToInteractive',\n",
              "                                                     [key], {});\n",
              "          if (!dataTable) return;\n",
              "\n",
              "          const docLinkHtml = 'Like what you see? Visit the ' +\n",
              "            '<a target=\"_blank\" href=https://colab.research.google.com/notebooks/data_table.ipynb>data table notebook</a>'\n",
              "            + ' to learn more about interactive tables.';\n",
              "          element.innerHTML = '';\n",
              "          dataTable['output_type'] = 'display_data';\n",
              "          await google.colab.output.renderOutput(dataTable, element);\n",
              "          const docLink = document.createElement('div');\n",
              "          docLink.innerHTML = docLinkHtml;\n",
              "          element.appendChild(docLink);\n",
              "        }\n",
              "      </script>\n",
              "    </div>\n",
              "  </div>\n",
              "  "
            ]
          },
          "metadata": {},
          "execution_count": 7
        }
      ],
      "source": [
        "# Categorical Data Encoding\n",
        "\n",
        "# One Hot Encoding\n",
        "\n",
        "df_onehotencoded = df_preprocessed.copy(deep = True)\n",
        "\n",
        "# Get One Hot Encoding for each Categorical Column\n",
        "df_onehotencoded = pd.get_dummies(df_onehotencoded, prefix=['Account type'], columns = ['Account type'])\n",
        "df_onehotencoded = pd.get_dummies(df_onehotencoded, prefix=['Content type'], columns = ['Content type'])\n",
        "df_onehotencoded = pd.get_dummies(df_onehotencoded, prefix=['Rating'], columns = ['Rating'])\n",
        "\n",
        "df_onehotencoded\n"
      ]
    },
    {
      "cell_type": "markdown",
      "metadata": {
        "id": "v-qrsjwdvwO0"
      },
      "source": [
        "A deepcopy of the preprocessed data is also used along with the .get_dummies function for the One Hot Encoding of the data for possible use with machine learning.\n",
        "\n"
      ]
    },
    {
      "cell_type": "markdown",
      "metadata": {
        "id": "f9O1Q4JVEEvp"
      },
      "source": [
        "# NLP Preprocessing\n",
        "*   Tokenization and Lowercasing\n",
        "*   Stop words Removal\n",
        "*   Stemming and Lemmatization\n",
        "\n",
        "\n",
        "\n",
        "\n",
        "\n",
        "\n"
      ]
    },
    {
      "cell_type": "code",
      "execution_count": null,
      "metadata": {
        "colab": {
          "base_uri": "https://localhost:8080/"
        },
        "id": "AomEDdkOAepL",
        "outputId": "cd517396-555f-4818-a933-9c5e415a5b61"
      },
      "outputs": [
        {
          "output_type": "stream",
          "name": "stderr",
          "text": [
            "[nltk_data] Downloading package punkt to /root/nltk_data...\n",
            "[nltk_data]   Unzipping tokenizers/punkt.zip.\n",
            "[nltk_data] Downloading package stopwords to /root/nltk_data...\n",
            "[nltk_data]   Unzipping corpora/stopwords.zip.\n",
            "[nltk_data] Downloading package wordnet to /root/nltk_data...\n"
          ]
        }
      ],
      "source": [
        "# NLP Preamble\n",
        "\n",
        "nltk.download('punkt')\n",
        "nltk.download('stopwords')\n",
        "nltk.download('wordnet')\n",
        "df_NLP = df_preprocessed.copy(deep=True) # Create deep copy for NLP purposes"
      ]
    },
    {
      "cell_type": "markdown",
      "source": [
        "A deepcopy of the preprocessed data is created for NLP purposes"
      ],
      "metadata": {
        "id": "44nVZS5i4GX1"
      }
    },
    {
      "cell_type": "markdown",
      "source": [
        ">Tokenization and Lowercasing"
      ],
      "metadata": {
        "id": "qIRxVdPt4R68"
      }
    },
    {
      "cell_type": "code",
      "execution_count": null,
      "metadata": {
        "colab": {
          "base_uri": "https://localhost:8080/"
        },
        "id": "YUdG2DRM83HO",
        "outputId": "007d0771-fce1-4f14-9a57-d41afee7d52e"
      },
      "outputs": [
        {
          "output_type": "stream",
          "name": "stdout",
          "text": [
            "Sige , I-fact check ninyo kung hindi totoo , mga ulalo . 😂😂😂😂 { Alt-text-image : CORY AQUINO IS THE REAL DICTATOR Upon her power grab , Cory : Set aside the 1973 Constitution RATIFIED by a majority of the people and instituted a “ Freedom Constitution ” penned SOLELY by her . REMOVED ALL ELECTED members of the Legislature ; REMOVED ALL ELECTED local officials and replaced them with her handpicked choices ; REMOVED ALL legally appointed Members of the SUPREME COURT ; BECOME A ONE-MAN LEGISLATURE making laws by herself ( for example , the Family Code ) } "
          ]
        }
      ],
      "source": [
        "# NLP Tokenization\n",
        "\n",
        "tweets_tokenized = [nltk.word_tokenize(tweet) for tweet in df_NLP[\"Tweet\"]] # Creates a list of lists with each list containing the tokenized version of the tweets\n",
        "\n",
        "for token in tweets_tokenized[34]:\n",
        "  print(token, end=' ')"
      ]
    },
    {
      "cell_type": "markdown",
      "source": [
        "Tweets are tokenized via *nltk.word_tokenize()* function and is saved in the array tweets_tokenized.\n"
      ],
      "metadata": {
        "id": "ofinZZX54cbj"
      }
    },
    {
      "cell_type": "code",
      "execution_count": null,
      "metadata": {
        "colab": {
          "base_uri": "https://localhost:8080/"
        },
        "id": "pateQn9SDMsq",
        "outputId": "edc197e5-4832-4785-f0dc-a8253f50d7fa"
      },
      "outputs": [
        {
          "output_type": "stream",
          "name": "stdout",
          "text": [
            "sige , i-fact check ninyo kung hindi totoo , mga ulalo . 😂😂😂😂 { alt-text-image : cory aquino is the real dictator upon her power grab , cory : set aside the 1973 constitution ratified by a majority of the people and instituted a “ freedom constitution ” penned solely by her . removed all elected members of the legislature ; removed all elected local officials and replaced them with her handpicked choices ; removed all legally appointed members of the supreme court ; become a one-man legislature making laws by herself ( for example , the family code ) } "
          ]
        }
      ],
      "source": [
        "# NLP Lowercasing\n",
        "\n",
        "x = lambda tokenlist : [x.lower() for x in tokenlist] # lambda function to lowercase each token in a list\n",
        "tweets_lower = [x(tweet) for tweet in tweets_tokenized] # uses lambda function on entire list of data\n",
        "\n",
        "for token in tweets_lower[34]:\n",
        "  print(token, end=' ')"
      ]
    },
    {
      "cell_type": "markdown",
      "source": [
        "The tokenized tweets are then used with the function *.lower()* to convert each tweet to lowercase."
      ],
      "metadata": {
        "id": "oeAOU5ik4eUz"
      }
    },
    {
      "cell_type": "markdown",
      "source": [
        ">Stop Word Removal"
      ],
      "metadata": {
        "id": "EEQOtLlS4qWe"
      }
    },
    {
      "cell_type": "code",
      "execution_count": null,
      "metadata": {
        "colab": {
          "base_uri": "https://localhost:8080/"
        },
        "id": "SvUKqYDMFX6P",
        "outputId": "5352b3fb-f6d2-4e53-9087-d765d18ffa2c"
      },
      "outputs": [
        {
          "output_type": "stream",
          "name": "stdout",
          "text": [
            "sige , i-fact check ninyo kung hindi totoo , mga ulalo . 😂😂😂😂 { alt-text-image : cory aquino real dictator upon power grab , cory : set aside 1973 constitution ratified majority people instituted “ freedom constitution ” penned solely . removed elected members legislature ; removed elected local officials replaced handpicked choices ; removed legally appointed members supreme court ; become one-man legislature making laws ( example , family code ) } "
          ]
        }
      ],
      "source": [
        "# Stop Word Removal\n",
        "\n",
        "stops_en = set(nltk.corpus.stopwords.words('english')) # english stopwords\n",
        "stops_tl = {word for word in urllib.request.urlopen(\"https://raw.githubusercontent.com/stopwords-iso/stopwords-tl/master/stopwords-tl.txt\")} # filipino stopwords\n",
        "\n",
        "x = lambda tokenlist : [x for x in tokenlist if x not in (stops_en | stops_tl)] # lambda function to remove stopwords from list of tokens\n",
        "tweets_nostops = [x(tweet) for tweet in tweets_lower]\n",
        "\n",
        "for token in tweets_nostops[34]:\n",
        "    print(token, end=' ')"
      ]
    },
    {
      "cell_type": "markdown",
      "source": [
        "English and Filipino stop words are removed via a lambda function."
      ],
      "metadata": {
        "id": "lW3Ym-YY43Hu"
      }
    },
    {
      "cell_type": "markdown",
      "source": [
        ">Stemming and Lemmatization"
      ],
      "metadata": {
        "id": "robfnIqK47SO"
      }
    },
    {
      "cell_type": "code",
      "execution_count": null,
      "metadata": {
        "colab": {
          "base_uri": "https://localhost:8080/"
        },
        "id": "48GXGWlaK5iB",
        "outputId": "20166f0c-4a8a-47e3-a237-9e42dfd14689"
      },
      "outputs": [
        {
          "output_type": "stream",
          "name": "stdout",
          "text": [
            "sige , i-fact check ninyo kung hindi totoo , mga ulalo . 😂😂😂😂 { alt-text-imag : cori aquino real dictat upon power grab , cori : set asid 1973 constitut ratifi major peopl institut “ freedom constitut ” pen sole . remov elect member legislatur ; remov elect local offici replac handpick choic ; remov legal appoint member suprem court ; becom one-man legislatur make law ( exampl , famili code ) } "
          ]
        }
      ],
      "source": [
        "# Stemming\n",
        "\n",
        "ps = nltk.stem.snowball.PorterStemmer()\n",
        "\n",
        "x = lambda tokenlist : [ps.stem(x) for x in tokenlist] # lambda function to stem each word in a list of tokens\n",
        "tweets_stemmed = [x(tweet) for tweet in tweets_nostops]\n",
        "\n",
        "for token in tweets_stemmed[34]:\n",
        "    print(token, end=' ')"
      ]
    },
    {
      "cell_type": "markdown",
      "source": [
        "Similarly a lambda function is also utilized to stem each word in a list of tokenized tweets."
      ],
      "metadata": {
        "id": "SCrQZB_p480I"
      }
    },
    {
      "cell_type": "code",
      "execution_count": null,
      "metadata": {
        "colab": {
          "base_uri": "https://localhost:8080/"
        },
        "id": "WmheZWRgMuyj",
        "outputId": "4259db25-6afc-424c-c795-d023ffc48e9e"
      },
      "outputs": [
        {
          "output_type": "stream",
          "name": "stdout",
          "text": [
            "sige , i-fact check ninyo kung hindi totoo , mga ulalo . 😂😂😂😂 { alt-text-image : cory aquino real dictator upon power grab , cory : set aside 1973 constitution ratified majority people instituted “ freedom constitution ” penned solely . removed elected member legislature ; removed elected local official replaced handpicked choice ; removed legally appointed member supreme court ; become one-man legislature making law ( example , family code ) } "
          ]
        }
      ],
      "source": [
        "# Lemmatizing\n",
        "\n",
        "lemmatizer = nltk.stem.WordNetLemmatizer()\n",
        "\n",
        "x = lambda tokenlist : [lemmatizer.lemmatize(x) for x in tokenlist] # lambda function to lemmatize each word in a list of tokens\n",
        "tweets_lemmatized = [x(tweet) for tweet in tweets_nostops]\n",
        "\n",
        "for token in tweets_lemmatized[34]:\n",
        "    print(token, end=' ')"
      ]
    },
    {
      "cell_type": "markdown",
      "source": [
        "Lambda function is also utilized to tranform the words to its base form for NLP."
      ],
      "metadata": {
        "id": "ynCBsBnx4_1W"
      }
    },
    {
      "cell_type": "markdown",
      "metadata": {
        "id": "2DD3QOLqESmy"
      },
      "source": [
        "# Data Visualization\n",
        "*   Tweet Dates Histogram\n",
        "*   Distribution of Date Tweets Posted with Campaign Intervals\n",
        "*   Bar Graph for the number of tweets posted during the specified election dates\n",
        "*   Heat Map of Account Followers, Following, Age, and Interactions (Replies, Quote Tweets, Likes, Replies)\n",
        "\n",
        "\n",
        "\n",
        "\n"
      ]
    },
    {
      "cell_type": "markdown",
      "source": [
        ">Tweet Dates Histogram"
      ],
      "metadata": {
        "id": "HeC947tq6GEW"
      }
    },
    {
      "cell_type": "code",
      "execution_count": null,
      "metadata": {
        "colab": {
          "base_uri": "https://localhost:8080/",
          "height": 472
        },
        "id": "bb9HUWko1-yj",
        "outputId": "9d5b256c-b473-4efb-945f-afe8da5a402d"
      },
      "outputs": [
        {
          "output_type": "display_data",
          "data": {
            "text/plain": [
              "<Figure size 640x480 with 1 Axes>"
            ],
            "image/png": "[encoded data removed]"
          },
          "metadata": {}
        }
      ],
      "source": [
        "# Plot tweet dates\n",
        "\n",
        "fig, ax = plt.subplots(1,1)\n",
        "ax.hist(df_preprocessed[\"Date posted\"], bins=12, color='lightblue')\n",
        "locator = mdates.AutoDateLocator()\n",
        "ax.xaxis.set_major_locator(locator)\n",
        "ax.xaxis.set_major_formatter(mdates.AutoDateFormatter(locator))\n",
        "\n",
        "plt.xlabel(\"Date Posted\")\n",
        "plt.ylabel(\"Volume of Tweets\")\n",
        "plt.title(\"Distribution of Date Tweets Posted\")\n",
        "plt.show()"
      ]
    },
    {
      "cell_type": "markdown",
      "metadata": {
        "id": "lshfEXtoBRGd"
      },
      "source": [
        "Plotting the respective election campaign intervals: \n",
        "\n",
        "2016: February 9 to May 7, 2016 (President, vice president, senators and party-lists)\n",
        "\n",
        "2019: February 12 to May 11, 2019 (For senate and partylist candidates)\n",
        "\n",
        "2022: February 8 to May 7, 2022 (President, vice president, senators and party-lists)"
      ]
    },
    {
      "cell_type": "markdown",
      "source": [
        ">Distribution of Date Tweets Posted with Campaign Intervals"
      ],
      "metadata": {
        "id": "8zZhszsy6Pcm"
      }
    },
    {
      "cell_type": "code",
      "execution_count": null,
      "metadata": {
        "colab": {
          "base_uri": "https://localhost:8080/",
          "height": 472
        },
        "id": "zAwMsHsbBZYo",
        "outputId": "2018ad75-e43e-41e9-ec11-717c18f7b1d7"
      },
      "outputs": [
        {
          "output_type": "display_data",
          "data": {
            "text/plain": [
              "<Figure size 640x480 with 1 Axes>"
            ],
            "image/png": "[encoded data removed]"
          },
          "metadata": {}
        }
      ],
      "source": [
        "# add campaign intervals\n",
        "# 2016 Campaign: Red\n",
        "# 2019 Campaign: Green\n",
        "# 2022 Campaign: Yellow\n",
        "\n",
        "fig, ax = plt.subplots(1,1)\n",
        "ax.hist(df_preprocessed[\"Date posted\"], bins=12, color='lightblue')\n",
        "locator = mdates.AutoDateLocator()\n",
        "ax.xaxis.set_major_locator(locator)\n",
        "ax.xaxis.set_major_formatter(mdates.AutoDateFormatter(locator))\n",
        "\n",
        "# 2016 Campaign: Red\n",
        "interval1_1 = mdates.datestr2num(['02/09/16', '02/09/16'])\n",
        "plt.plot(interval1_1 , (0,55), 'r-')\n",
        "interval1_2 = mdates.datestr2num(['05/07/16', '05/07/16'])\n",
        "plt.plot(interval1_2 , (0,55), 'r-')\n",
        "\n",
        "# 2019 Campaign: Green\n",
        "interval2_1 = mdates.datestr2num(['02/12/19', '02/12/19'])\n",
        "plt.plot(interval2_1 , (0,55), 'g-')\n",
        "interval2_2 = mdates.datestr2num(['05/11/19', '05/11/19'])\n",
        "plt.plot(interval2_2 , (0,55), 'g-')\n",
        "\n",
        "# 2022 Campaign: Yellow\n",
        "interval3_1 = mdates.datestr2num(['02/08/22', '02/08/22'])\n",
        "plt.plot(interval3_1 , (0,55), 'y-')\n",
        "interval3_2 = mdates.datestr2num(['05/07/22', '05/07/22'])\n",
        "plt.plot(interval3_2 , (0,55), 'y-')\n",
        "\n",
        "plt.xlabel(\"Date Posted\")\n",
        "plt.ylabel(\"Volume of Tweets\")\n",
        "plt.title(\"Distribution of Date Tweets Posted with Campaign Intervals\")\n",
        "plt.show()"
      ]
    },
    {
      "cell_type": "markdown",
      "metadata": {
        "id": "oqnTj_pBBc5t"
      },
      "source": [
        "The **Red** interval is the 2016 Election Campaign, the **Green** interval is the 2019 Election Campaign, and the **Yellow** interval is the 2022 Election Campaign"
      ]
    },
    {
      "cell_type": "code",
      "execution_count": null,
      "metadata": {
        "colab": {
          "base_uri": "https://localhost:8080/",
          "height": 472
        },
        "id": "hpiYSNRWByUu",
        "outputId": "34b6227c-63ce-4213-9ae1-5854605f6c3a"
      },
      "outputs": [
        {
          "output_type": "display_data",
          "data": {
            "text/plain": [
              "<Figure size 640x480 with 1 Axes>"
            ],
            "image/png": "[encoded data removed]"
          },
          "metadata": {}
        }
      ],
      "source": [
        "# Plotting October 6, 2021\n",
        "\n",
        "fig, ax = plt.subplots(1,1)\n",
        "ax.hist(df_preprocessed[\"Date posted\"], bins=12, color='lightblue')\n",
        "locator = mdates.AutoDateLocator()\n",
        "ax.xaxis.set_major_locator(locator)\n",
        "ax.xaxis.set_major_formatter(mdates.AutoDateFormatter(locator))\n",
        "\n",
        "interval1_1 = mdates.datestr2num(['02/09/16', '02/09/16'])\n",
        "plt.plot(interval1_1 , (0,55), 'r-')\n",
        "interval1_2 = mdates.datestr2num(['05/07/16', '05/07/16'])\n",
        "plt.plot(interval1_2 , (0,55), 'r-')\n",
        "\n",
        "interval2_1 = mdates.datestr2num(['02/12/19', '02/12/19'])\n",
        "plt.plot(interval2_1 , (0,55), 'g-')\n",
        "interval2_2 = mdates.datestr2num(['05/11/19', '05/11/19'])\n",
        "plt.plot(interval2_2 , (0,55), 'g-')\n",
        "\n",
        "interval3_1 = mdates.datestr2num(['02/08/22', '02/08/22'])\n",
        "plt.plot(interval3_1 , (0,55), 'y-')\n",
        "interval3_2 = mdates.datestr2num(['05/07/22', '05/07/22'])\n",
        "plt.plot(interval3_2 , (0,55), 'y-')\n",
        "\n",
        "leni_file = ['10/07/21','10/07/21']\n",
        "plot_leni = mdates.datestr2num(['10/06/21','10/06/21'])\n",
        "plt.plot(plot_leni , (0,55), 'b-')\n",
        "plt.xlabel(\"Date Posted\")\n",
        "plt.ylabel(\"Volume of Tweets\")\n",
        "plt.title(\"Distribution of Date Tweets Posted with Campaign Intervals\")\n",
        "plt.show()"
      ]
    },
    {
      "cell_type": "markdown",
      "metadata": {
        "id": "oU6GAqgFBhpm"
      },
      "source": [
        "Observing this plot, most tweets were found BEFORE the 2022 Presidential Election Campaign\n",
        "\n",
        "**Additional Observation:** Plotting the date when President Ferdinand \"Bongbong\" Marcos and Leni Robredo filed for candidacy (October 6/7, 2021), we can see that many tweets were from around this time (Blue)"
      ]
    },
    {
      "cell_type": "markdown",
      "source": [
        ">Bar Graph for the number of tweets posted during the specified election dates"
      ],
      "metadata": {
        "id": "dODkf9Oc6SnW"
      }
    },
    {
      "cell_type": "code",
      "execution_count": null,
      "metadata": {
        "colab": {
          "base_uri": "https://localhost:8080/",
          "height": 472
        },
        "id": "IweWF3nL-u4G",
        "outputId": "f2ebea55-467f-4262-912f-ac3fdca4cba0"
      },
      "outputs": [
        {
          "output_type": "display_data",
          "data": {
            "text/plain": [
              "<Figure size 640x480 with 1 Axes>"
            ],
            "image/png": "[encoded data removed]"
          },
          "metadata": {}
        }
      ],
      "source": [
        "# Plot Bar Graph for the number of tweets posted during the specified election dates\n",
        "\n",
        "election_dates = [('2/9/16', '5/7/16'), ('2/12/19', '5/11/19'), ('2/8/22', '5/7/22')]\n",
        "tweet_count_list = []\n",
        "\n",
        "for start, end in election_dates:\n",
        "  start = mdates.datestr2num(start)\n",
        "  end = mdates.datestr2num(end)\n",
        "  tweet_count = df_preprocessed.loc[(df_preprocessed[\"Date posted\"] >= start) & (df_preprocessed[\"Date posted\"] <= end)].shape[0]\n",
        "  tweet_count_list.append(tweet_count)\n",
        "\n",
        "plt.bar(range(len(election_dates)), tweet_count_list)\n",
        "plt.xticks(range(len(election_dates)), [f'{start} - {end}' for start, end in election_dates])\n",
        "plt.xlabel('Date posted')\n",
        "plt.ylabel('Number of Tweets')\n",
        "plt.title('Number of Tweets Posted During Election Periods')\n",
        "plt.show()"
      ]
    },
    {
      "cell_type": "markdown",
      "metadata": {
        "id": "GP_zacVw-5uR"
      },
      "source": [
        "Bar plot is used for the data to visualize the number of tweets posted during the specified election periods as it shows the distribution of the said tweets and which range of dates has the most number of tweets.\n",
        "\n"
      ]
    },
    {
      "cell_type": "markdown",
      "source": [
        ">Heat Map of Account Followers, Following, Age, and Interactions (Replies, Quote Tweets, Likes, Replies)"
      ],
      "metadata": {
        "id": "0OWNwf2k6W--"
      }
    },
    {
      "cell_type": "code",
      "execution_count": null,
      "metadata": {
        "colab": {
          "base_uri": "https://localhost:8080/",
          "height": 532
        },
        "id": "OBbNiISGpBk-",
        "outputId": "7ee25482-c079-4762-c79d-d349b49c1ac1"
      },
      "outputs": [
        {
          "output_type": "execute_result",
          "data": {
            "text/plain": [
              "<Axes: >"
            ]
          },
          "metadata": {},
          "execution_count": 18
        },
        {
          "output_type": "display_data",
          "data": {
            "text/plain": [
              "<Figure size 640x480 with 2 Axes>"
            ],
            "image/png": "[encoded data removed]"
          },
          "metadata": {}
        }
      ],
      "source": [
        "# Plot Heat Map of Account Followers, Following, Age, and Interactions (Replies, Quote Tweets, Likes, Replies)\n",
        "\n",
        "\n",
        "sns.heatmap(df_preprocessed.loc[:,[\"Following\", \"Followers\", \"Joined\", \"Likes\", \"Replies\", \"Retweets\", \"Quote Tweets\"]].corr())"
      ]
    },
    {
      "cell_type": "code",
      "execution_count": null,
      "metadata": {
        "colab": {
          "base_uri": "https://localhost:8080/",
          "height": 452
        },
        "id": "zdigZmt733oI",
        "outputId": "7114061c-3e0a-4d51-e016-8881789dfe8e"
      },
      "outputs": [
        {
          "output_type": "execute_result",
          "data": {
            "text/plain": [
              "<Axes: >"
            ]
          },
          "metadata": {},
          "execution_count": 19
        },
        {
          "output_type": "display_data",
          "data": {
            "text/plain": [
              "<Figure size 640x480 with 2 Axes>"
            ],
            "image/png": "[encoded data removed]"
          },
          "metadata": {}
        }
      ],
      "source": [
        "# Plot Heat Map of Account Followers, Following, and Interactions (Replies, Quote Tweets, Likes, Replies) with Interactions summed up\n",
        "\n",
        "df_interactions = df_preprocessed[\"Likes\"] + df_preprocessed[\"Replies\"] + df_preprocessed[\"Retweets\"] + df_preprocessed[\"Quote Tweets\"]\n",
        "df_interactions.rename(\"Interactions\", inplace=True)\n",
        "sns.heatmap(pd.concat([df_preprocessed.loc[:,[\"Following\", \"Followers\", \"Joined\"]], df_interactions],axis=1).corr())"
      ]
    },
    {
      "cell_type": "markdown",
      "source": [
        "A heatmap is utlized to show the visual summary of the data regarding the relationship between the variables; interaction(summed-up data for the likes, replies, retweets, and quote tweets), joined, followers, and following."
      ],
      "metadata": {
        "id": "WACAD92h6hMM"
      }
    },
    {
      "cell_type": "markdown",
      "metadata": {
        "id": "rLZFZlRr_Z82"
      },
      "source": [
        "#Data Frequency"
      ]
    },
    {
      "cell_type": "code",
      "execution_count": null,
      "metadata": {
        "colab": {
          "base_uri": "https://localhost:8080/"
        },
        "id": "n7baScyq_eYW",
        "outputId": "d5db9d55-b757-4ace-b3b8-de4ac66e9b9a"
      },
      "outputs": [
        {
          "output_type": "stream",
          "name": "stdout",
          "text": [
            "CORY AQUINO 1 TRILLION, BUDGET                 39\n",
            "FAKE EDSA REVOLUTION                           23\n",
            "CORY CONTRACTUALIZATION                        11\n",
            "CORY AQUINO TRILLION DEBT                      10\n",
            "BATAAN NUCLEAR POWER PLANT                      5\n",
            "MARCOS KIDNAPPED                                5\n",
            "CORY AQUINO CONTRACTUALIZATION                  4\n",
            "EDSA FAKE                                       3\n",
            "CORY AQUINO, POWER GRAB                         3\n",
            "CORY COMMUNIST                                  3\n",
            "CORY HISTORY BOOKS AND MARCOS                   3\n",
            "CORY AQUINO AND PAL                             3\n",
            "EDSA REVOLUTION FAKE NEWS                       3\n",
            "MARCOS, KIDNAPPED BY USA                        3\n",
            "AQUINO, COMMUNIST PARTY OF THE PHILIPPINES.     3\n",
            "MARCOS, 1986 SNAP ELECTION                      2\n",
            "CORY AQUINO                                     2\n",
            "CORY AQUINO ON OFW                              2\n",
            "CORY SOLD STATE-OWNED BUSINESSES                2\n",
            "MARCOS, KIDNAPPED BY USA, 1986 ELECTION         1\n",
            "MARCOS, KIDNAPPED BY USA, CIA                   1\n",
            "CORY REVISED HISTORY BOOKS AND MARCOS           1\n",
            "CORY, SNAP ELECTION                             1\n",
            "AQUINO, OLIGARCHS, NPA                          1\n",
            "SNAP ELECTION, FAKE EDSA REVOLUTION             1\n",
            "NINOY, NPA, FAKE EDSA REVOLUTION                1\n",
            "EDSA                                            1\n",
            "CORY AQUINO, REMOVE ALL ELECTED OFFICIALS       1\n",
            "CORY AQUINO, DICTATOR                           1\n",
            "MARCOSES NOT GUILTY, CORY AQUINO                1\n",
            "EDSA, LIE                                       1\n",
            "EDSA, PEOPLE POWER REVOLUTION                   1\n",
            "CORY AQUINO, GRAB PRESIDENCY                    1\n",
            "NINOY AQUINO, CORY AQUINO                       1\n",
            "BNPP MERALCO                                    1\n",
            "MARCOS KIDNAPPING 1986                          1\n",
            "CORY AQUINO COMMUNIST                           1\n",
            "CORY AQUINO 1986 CONSTITUTIONAL COMMISSION      1\n",
            "CORY AQUINO AIR STRIKE REQUEST                  1\n",
            "CORY AQUINO TRILLION DEBT BUDGET                1\n",
            "Name: Keywords, dtype: int64\n"
          ]
        }
      ],
      "source": [
        "freq = df_preprocessed[\"Keywords\"].value_counts()\n",
        "print(freq)"
      ]
    },
    {
      "cell_type": "markdown",
      "metadata": {
        "id": "mmnCKk1z_hsY"
      },
      "source": [
        "The result shows that the the keyword **\"cory aquino 1 trillion, budget\"** is the most frequent keyword (11), followed by **\"Fake EDSA Revolution\"** (23), then **\"Cory contractualization\"** (11)."
      ]
    },
    {
      "cell_type": "code",
      "execution_count": null,
      "metadata": {
        "colab": {
          "base_uri": "https://localhost:8080/"
        },
        "id": "MmPVF0VK_mdG",
        "outputId": "3c611659-a9be-46a1-a570-bb0dca5d0f0e"
      },
      "outputs": [
        {
          "output_type": "stream",
          "name": "stdout",
          "text": [
            "Anonymous     113\n",
            "Identified     37\n",
            "Name: Account type, dtype: int64\n"
          ]
        }
      ],
      "source": [
        "freq = df_preprocessed[\"Account type\"].value_counts()\n",
        "print(freq)"
      ]
    },
    {
      "cell_type": "markdown",
      "metadata": {
        "id": "3sFu2Ny9_qDo"
      },
      "source": [
        "This result shows that the **Anonymous Account Type** composes most of the data set with 113 tweets."
      ]
    },
    {
      "cell_type": "code",
      "execution_count": null,
      "metadata": {
        "colab": {
          "base_uri": "https://localhost:8080/"
        },
        "id": "6DXbbCKe_zMO",
        "outputId": "2731fceb-41ca-4d14-e6f9-c8bf8b036afc"
      },
      "outputs": [
        {
          "output_type": "stream",
          "name": "stdout",
          "text": [
            "Philippines                                13\n",
            "Manila, Philippines                         7\n",
            "Republic of the Philippines                 4\n",
            "Biñan City, Laguna                          2\n",
            "Rizal, Philippines                          2\n",
            "Davao, Philippines                          2\n",
            "Singapore                                   2\n",
            "Metro Manila, Philippines                   2\n",
            "California, USA                             2\n",
            "Cebu, Philippines                           2\n",
            "Calabarzon, Philippines                     2\n",
            "National Capital Region, Repub              2\n",
            "Laguna, Philippines                         1\n",
            "kingsville executive village                1\n",
            "Cesspool                                    1\n",
            "Dasmarinas, Calabarzon                      1\n",
            "Maharlikang Pilipinas                       1\n",
            "Bataan 🇵🇭                                   1\n",
            "Lipa City, Batangas                         1\n",
            "Dubai, United Arab Emirates                 1\n",
            "Toronto, Ontario                            1\n",
            "kapoya oy                                   1\n",
            "Montreal Canada                             1\n",
            "Guiguinto Bulacan                           1\n",
            "Houston, TX                                 1\n",
            "Bulacan, Philippines                        1\n",
            "Jeddah, Saudi Arabia                        1\n",
            "Cebu, Philppines                            1\n",
            "Zurich, Switzerland                         1\n",
            "Kuala Lumpur, Malaysia                      1\n",
            "Nagoya City, Aichi                          1\n",
            "Pasig City, Philippines                     1\n",
            "London, England                             1\n",
            "United Kingdom                              1\n",
            "Toronto, Canada                             1\n",
            "Portugal                                    1\n",
            "Florida, USA                                1\n",
            "Metro Manila, Philippines                   1\n",
            "National Capital Region, Philippines        1\n",
            "Gods of Nature, Mt. Timbak, Philippines     1\n",
            "Taiwan                                      1\n",
            "Ilocos Norte, Philippines                   1\n",
            "Quezon City, Philippines                    1\n",
            "Saudi Arabia                                1\n",
            "Northern Sky                                1\n",
            "Name: Location, dtype: int64\n",
            "\n",
            " Philippines: 42\n"
          ]
        }
      ],
      "source": [
        "freq = df_preprocessed[\"Location\"].value_counts()\n",
        "has_PH = df_preprocessed[\"Location\"].str.contains(\"Philippines\", case=False, na=False)\n",
        "filtered_df = df[has_PH][\"Location\"].count()\n",
        "print(freq)\n",
        "print(\"\\n Philippines:\", filtered_df)"
      ]
    },
    {
      "cell_type": "markdown",
      "metadata": {
        "id": "65HKrgzX_12v"
      },
      "source": [
        "This result shows that most tweets in the dataset are from the Philippines. Further analysis shows that 42 tweets explicitly contain the word \"Philippines.\" "
      ]
    },
    {
      "cell_type": "code",
      "execution_count": null,
      "metadata": {
        "colab": {
          "base_uri": "https://localhost:8080/"
        },
        "id": "_1jAh613_6rg",
        "outputId": "35b37d2b-b802-49e8-c7b0-e96c98650c29"
      },
      "outputs": [
        {
          "output_type": "stream",
          "name": "stdout",
          "text": [
            "TEXT, REPLY                 71\n",
            "TEXT                        42\n",
            "TEXT, QUOTE TWEET           14\n",
            "TEXT, IMAGE                 14\n",
            "TEXT, URL                    3\n",
            "TEXT, REPLY, IMAGE           2\n",
            "TEXT, IMAGE, URL             1\n",
            "TEXT, VIDEO                  1\n",
            "TEXT, REPLY, VIDEO           1\n",
            "TEXT, PHOTO, QUOTE TWEET     1\n",
            "Name: Tweet Type, dtype: int64\n"
          ]
        }
      ],
      "source": [
        "freq = df_preprocessed[\"Tweet Type\"].value_counts()\n",
        "print(freq)"
      ]
    },
    {
      "cell_type": "markdown",
      "metadata": {
        "id": "ThnbOb7j_-m1"
      },
      "source": [
        "This result shows that most of the tweets in the dataset are **Text, reply**"
      ]
    },
    {
      "cell_type": "code",
      "execution_count": null,
      "metadata": {
        "colab": {
          "base_uri": "https://localhost:8080/"
        },
        "id": "Jn0Tx-yfADqH",
        "outputId": "3f5c0782-5e78-4621-f0ab-c0b91293b5bc"
      },
      "outputs": [
        {
          "output_type": "stream",
          "name": "stdout",
          "text": [
            "Rational         136\n",
            "Emotional         13\n",
            "Transactional      1\n",
            "Name: Content type, dtype: int64\n"
          ]
        }
      ],
      "source": [
        "freq = df_preprocessed[\"Content type\"].value_counts()\n",
        "print(freq)"
      ]
    },
    {
      "cell_type": "markdown",
      "metadata": {
        "id": "PRmMAKx5AIIW"
      },
      "source": [
        "This result shows that most of the tweets in the dataset are **Rational**\n"
      ]
    },
    {
      "cell_type": "code",
      "execution_count": null,
      "metadata": {
        "colab": {
          "base_uri": "https://localhost:8080/"
        },
        "id": "piZBzZ5qAMS5",
        "outputId": "fda3949e-a1cf-4fdf-ba5d-026068f54a2b"
      },
      "outputs": [
        {
          "output_type": "stream",
          "name": "stdout",
          "text": [
            "FALSE           129\n",
            "MISLEADING        9\n",
            "NEED CONTEXT      9\n",
            "UNPROVEN          3\n",
            "Name: Rating, dtype: int64\n"
          ]
        }
      ],
      "source": [
        "freq = df_preprocessed[\"Rating\"].value_counts()\n",
        "print(freq)"
      ]
    },
    {
      "cell_type": "markdown",
      "metadata": {
        "id": "23puiJ6bAM65"
      },
      "source": [
        "This result shows that most of the tweets in the dataset are rated as **FALSE**"
      ]
    }
  ],
  "metadata": {
    "colab": {
      "collapsed_sections": [
        "2DD3QOLqESmy"
      ],
      "toc_visible": true,
      "provenance": []
    },
    "kernelspec": {
      "display_name": "Python 3",
      "name": "python3"
    },
    "language_info": {
      "name": "python"
    }
  },
  "nbformat": 4,
  "nbformat_minor": 0
}